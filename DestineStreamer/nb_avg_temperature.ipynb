{
 "cells": [
  {
   "cell_type": "markdown",
   "metadata": {
    "jp-MarkdownHeadingCollapsed": true
   },
   "source": [
    "## DestinE Data Streaming\n",
    "\n",
    "This service offers compressed climate and era5 data and makes it available via a high quality and memory efficient streaming solution. The [SSIM](https://en.wikipedia.org/wiki/Structural_similarity_index_measure) and the mean relative error serve as quality measures.\n",
    "\n",
    "<div style='white-space: nowrap', align='center'>\n",
    "\n",
    "<div style='display:inline-block', align='center'>Era5 2 meter dewpoint temperature (01-01-1940 09:00)<br>\n",
    "<img src=\"images/2d9_og_.jpeg\" width=\"450px\"><br><img src=\"images/2d9_cp_.jpeg\" width=\"450px\"><br>Mean SSIM: 0.996<br>Compression rate 1:13<br>Mean relative error 0.1 %</div>\n",
    "\n",
    "<div style='display:inline-block', align='center'>Era 5 10 metre U wind component (01-01-1940 09:00)<br>\n",
    "<img src=\"images/10u9_og_.jpeg\" width=\"450px\"><br><img src=\"images/10u9_cp_.jpeg\" width=\"450px\"><br>Mean SSIM: 0.995<br>Compression rate 1:27<br>Mean relative error 0.3 %</div>\n",
    "\n",
    "</div>\n"
   ]
  },
  {
   "cell_type": "markdown",
   "metadata": {},
   "source": [
    "## Prerequisites\n",
    "### DestinE Platform Credentials\n",
    "\n",
    "You need to have an account on the [Destination Earth Platform](https://auth.destine.eu/realms/desp/account).\n",
    "\n",
    "#### ⚠️ Warning: Authorized Access Only\n",
    "The usage of this notebook and data access is reserved only to authorized user groups.\n",
    "\n",
    "## Access the Data\n",
    "With a DESP account you can access the stream data proposed in this tutorial."
   ]
  },
  {
   "cell_type": "code",
   "metadata": {},
   "source": [
    "%%capture cap\n",
    "%run ./auth.py"
   ],
   "outputs": [],
   "execution_count": null
  },
  {
   "cell_type": "code",
   "metadata": {},
   "source": [
    "output = cap.stdout.split('\\n')\n",
    "#refresh_token = output[1]\n",
    "token = output[2]"
   ],
   "outputs": [],
   "execution_count": null
  },
  {
   "cell_type": "markdown",
   "metadata": {},
   "source": [
    "# Imports and general definitions\n",
    "We start by importing necessary packages and definitions regarding the resolution and the endpoint to the streaming api.\n",
    "\n",
    "Note: The API token must be set here including the user group. This happens in **Authentification**."
   ]
  },
  {
   "cell_type": "code",
   "metadata": {
    "editable": true,
    "slideshow": {
     "slide_type": ""
    }
   },
   "source": [
    "from dtelib2 import DTEStreamer\n",
    "import numpy as np\n",
    "from datetime import datetime\n",
    "import plotly.graph_objects as go\n",
    "import plotly.io as pio\n",
    "import plotly.express as px\n",
    "from IPython.display import clear_output\n",
    "\n",
    "FORMAT = '%Y-%m-%dT%H:%M'"
   ],
   "outputs": [],
   "execution_count": null
  },
  {
   "cell_type": "markdown",
   "metadata": {},
   "source": [
    "# Parameters for stream access\n",
    "\n",
    "Here the parameters are set to access the data from the service.\n",
    "\n",
    "*category_name*: Era5 has data from 1940 to 2023 </br>\n",
    "*short_name*: 2t is the 2m temperature</br>\n",
    "*start_date*: August 1st 1940 as the start date</br>\n",
    "*end_date*: August 31st 2023 as the end date</br>\n",
    "</br>"
   ]
  },
  {
   "cell_type": "code",
   "metadata": {
    "editable": true,
    "slideshow": {
     "slide_type": ""
    }
   },
   "source": [
    "category_name = \"era5\"\n",
    "short_name = \"2t\"\n",
    "start_date = \"1940-08-01T12:00\"\n",
    "end_date = \"2023-08-31T12:00\"\n",
    "\n",
    "start_date = datetime.strptime(start_date, FORMAT)\n",
    "end_date = datetime.strptime(end_date, FORMAT)"
   ],
   "outputs": [],
   "execution_count": null
  },
  {
   "cell_type": "markdown",
   "metadata": {
    "editable": true,
    "slideshow": {
     "slide_type": ""
    }
   },
   "source": [
    "# Initializing the stream\n",
    "\n",
    "With the DTEStreamer class we can easily access the data stream through the api and access individual data frames. \n",
    "\n",
    "At first, we create a DTEStreamer object with the parameters defined in the step above and the access token. The object initializes by calling the api to get meta information about the stream and the location of the stream. (You can take a look at the api yourself in the swagger [here](https://dev.destinestreamer.geoville.com/api/streaming/metadata)). Also, the ffmpeg package is used to seek to the first image according to *start_date*.\n",
    "\n",
    "Note: Due to the very large amount of meta that is neccessary to process 83 years, this step needs a few seconds to process.\n",
    "\n",
    "Lists are also declared for the use of data processing."
   ]
  },
  {
   "cell_type": "code",
   "metadata": {
    "editable": true,
    "slideshow": {
     "slide_type": ""
    }
   },
   "source": [
    "streamer = DTEStreamer(category_name=category_name,\n",
    "                       short_name=short_name,\n",
    "                       start_date=start_date,\n",
    "                       end_date=end_date,\n",
    "                       token=token)\n",
    "\n",
    "august = list()\n",
    "augusts = list()\n",
    "years = list()"
   ],
   "outputs": [],
   "execution_count": null
  },
  {
   "cell_type": "markdown",
   "metadata": {},
   "source": [
    "# Working with the data\n",
    "\n",
    "The load_next_image() method is then used in a for loop to load the next image with ffmpeg with its appropriate time stamp. If the image is not representing data at noon or outside of August, the image is dismissed.\n",
    "\n",
    "Then, the image is sliced into a rectangle that contains the data for Germany: \n",
    "\n",
    "![germany_08_08_1940T12_00.png](./images/germany_08_08_1940T12_00.png)\n",
    "\n",
    "The bounds are hardcoded without georeferencing to speed up the for loop.\n",
    "\n",
    "After that, the average of the temperature of Germany is stored in a list. Then all of the stored data is plotted. The plot is made for every noon in any August from 1940 to 2023.\n",
    "\n",
    "On the last day of that years August, data is stored into lists. To speed up the loop and not to load every image until the next years August, the seek_to_date() method is called. This seeks the next image corresponding to the given time stamp, which is 1. August the following year. That image will be loaded when load_next_image() is called on top of the for loop."
   ]
  },
  {
   "cell_type": "code",
   "metadata": {
    "editable": true,
    "slideshow": {
     "slide_type": ""
    }
   },
   "source": [
    "for image, time_stamp in streamer.load_next_image():\n",
    "    if time_stamp.month != 8 or time_stamp.hour != 12:\n",
    "        continue\n",
    "            \n",
    "    # isolate German data\n",
    "    image = image[140:171, 24:60]\n",
    "    \n",
    "    # save the average temperature in degree Celsius \n",
    "    august.append(np.average(image)-273.15)\n",
    "\n",
    "    # Clear previous plot and plot again with new data point\n",
    "    clear_output(wait=True)\n",
    "    x_data = np.array([*years, time_stamp.year])\n",
    "    y_data = np.array([*augusts, sum(august)/len(august)])\n",
    "\n",
    "    fig = go.Figure(data=go.Scatter(x=x_data, y=y_data))\n",
    "    pio.show(fig)\n",
    "\n",
    "    if time_stamp.day == 31:\n",
    "        augusts.append(sum(august)/len(august))\n",
    "        august.clear()\n",
    "        years.append(time_stamp.year)\n",
    "\n",
    "        streamer.seek_to_date(datetime.strptime(f\"{time_stamp.year+1}-08-01T12:00\", FORMAT))\n"
   ],
   "outputs": [],
   "execution_count": null
  },
  {
   "cell_type": "raw",
   "metadata": {},
   "source": []
  }
 ],
 "metadata": {
  "anaconda-cloud": {},
  "kernelspec": {
   "display_name": "Python 3 (ipykernel)",
   "language": "python",
   "name": "python3"
  },
  "language_info": {
   "codemirror_mode": {
    "name": "ipython",
    "version": 3
   },
   "file_extension": ".py",
   "mimetype": "text/x-python",
   "name": "python",
   "nbconvert_exporter": "python",
   "pygments_lexer": "ipython3",
   "version": "3.9.19"
  }
 },
 "nbformat": 4,
 "nbformat_minor": 4
}
