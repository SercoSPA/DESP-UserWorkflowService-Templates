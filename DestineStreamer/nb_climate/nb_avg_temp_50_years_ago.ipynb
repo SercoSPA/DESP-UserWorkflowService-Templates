{
 "cells": [
  {
   "cell_type": "markdown",
   "metadata": {},
   "source": [
    "## DestinE Data Streaming\n",
    "\n",
    "This service offers compressed climate and era5 data and makes it available via a high quality and memory efficient streaming solution. The [SSIM](https://en.wikipedia.org/wiki/Structural_similarity_index_measure) and the mean relative error serve as quality measures.\n",
    "\n",
    "<div style='white-space: nowrap', align='center'>\n",
    "\n",
    "<div style='display:inline-block', align='center'>Era5 2 meter dewpoint temperature (01-01-1940 09:00)<br>\n",
    "<img src=\"../images/2d9_og_.jpeg\" width=\"450px\"><br><img src=\"../images/2d9_cp_.jpeg\" width=\"450px\"><br>Mean SSIM: 0.996<br>Compression rate 1:13<br>Mean relative error 0.1 %</div>\n",
    "\n",
    "<div style='display:inline-block', align='center'>Era 5 10 metre U wind component (01-01-1940 09:00)<br>\n",
    "<img src=\"../images/10u9_og_.jpeg\" width=\"450px\"><br><img src=\"../images/10u9_cp_.jpeg\" width=\"450px\"><br>Mean SSIM: 0.995<br>Compression rate 1:27<br>Mean relative error 0.3 %</div>\n",
    "\n",
    "</div>\n"
   ]
  },
  {
   "cell_type": "markdown",
   "metadata": {},
   "source": [
    "## Prerequisites\n",
    "### DestinE Platform Credentials\n",
    "\n",
    "You need to have an account on the [Destination Earth Platform](https://auth.destine.eu/realms/desp/account).\n",
    "\n",
    "#### ⚠️ Warning: Authorized Access Only\n",
    "The usage of this notebook and data access is reserved only to authorized user groups.\n",
    "\n",
    "## Access the Data\n",
    "With a DESP account you can access the stream data proposed in this tutorial."
   ]
  },
  {
   "cell_type": "code",
   "execution_count": null,
   "metadata": {},
   "outputs": [],
   "source": [
    "%%capture cap\n",
    "%run ./auth.py"
   ]
  },
  {
   "cell_type": "code",
   "execution_count": null,
   "metadata": {},
   "outputs": [],
   "source": [
    "output = cap.stdout.split('\\n')\n",
    "#refresh_token = output[1]\n",
    "token = output[2]\n",
    "print(token)"
   ]
  },
  {
   "cell_type": "markdown",
   "metadata": {},
   "source": [
    "# Imports and general definitions\n",
    "We start by importing necessary packages and definitions regarding the resolution and the endpoint to the streaming api.\n",
    "\n",
    "Note: The API token must be set here including the user group. This happens in **Authentification**."
   ]
  },
  {
   "cell_type": "code",
   "execution_count": null,
   "metadata": {
    "editable": true,
    "slideshow": {
     "slide_type": ""
    }
   },
   "outputs": [],
   "source": [
    "from dtelib_climate import DTEStreamer\n",
    "import numpy as np\n",
    "from datetime import datetime, timedelta\n",
    "import matplotlib.pyplot as plt\n",
    "from IPython import display\n",
    "\n",
    "FORMAT = '%Y-%m-%dT%H:%M'"
   ]
  },
  {
   "cell_type": "markdown",
   "metadata": {},
   "source": [
    "# Parameters for stream access\n",
    "\n",
    "Here the parameters are set to access the data from the service.\n",
    "\n",
    "*program_subset*: ERA5 has data from 1940 to 2023 </br>\n",
    "*variable*: 2t is the 2m temperature</br>\n",
    "*start_date*: 00:00 of the first day of the month today, fifty years ago</br>\n",
    "*end_date*: 23:00 of the last day of the month today, fifty years ago</br>\n",
    "</br>"
   ]
  },
  {
   "cell_type": "code",
   "execution_count": null,
   "metadata": {
    "editable": true,
    "slideshow": {
     "slide_type": ""
    }
   },
   "outputs": [],
   "source": [
    "program_subset = \"ERA5\"\n",
    "variable = \"2t\"\n",
    "\n",
    "# Finding the first day of this month, 50 years ago\n",
    "month = datetime.now().month\n",
    "year = datetime.now().year-50\n",
    "start_date = f\"{year}-{month}-01T00:00\"\n",
    "start_date = datetime.strptime(start_date, FORMAT)\n",
    "\n",
    "# Finding last day of that month\n",
    "end_date = f\"{year}-{month}-28T23:00\"\n",
    "end_date = datetime.strptime(end_date, FORMAT)\n",
    "next_month = end_date + timedelta(days=4)\n",
    "end_date = next_month - timedelta(days=next_month.day)"
   ]
  },
  {
   "cell_type": "markdown",
   "metadata": {
    "editable": true,
    "slideshow": {
     "slide_type": ""
    }
   },
   "source": [
    "# Initializing the stream\n",
    "\n",
    "With the DTEStreamer class we can easily access the data stream through the api and access individual data frames. \n",
    "\n",
    "At first, we create a DTEStreamer object with the parameters defined in the step above and the access token. The object initializes by calling the api to get meta information about the stream and the location of the stream. (You can take a look at the api yourself in the swagger [here](https://streamer.destine.eu/api/v1/)). Also, the ffmpeg package is used to seek to the first image according to *start_date*."
   ]
  },
  {
   "cell_type": "code",
   "execution_count": null,
   "metadata": {
    "editable": true,
    "slideshow": {
     "slide_type": ""
    }
   },
   "outputs": [],
   "source": [
    "streamer = DTEStreamer(program_subset=program_subset,\n",
    "                       variable=variable,\n",
    "                       start_date=start_date,\n",
    "                       end_date=end_date,\n",
    "                       token=token)\n"
   ]
  },
  {
   "cell_type": "markdown",
   "metadata": {},
   "source": [
    "# Working with the data\n",
    "\n",
    "The load_next_image() method loads the first image and its time stamp on its first call, then the second image and so on. With the variable 2t in the program subset ERA5 this means hourly data. Then, the image is sliced into a rectangle that contains the data for Germany: \n",
    "\n",
    "![germany_08_08_1940T12_00.png](./images/germany_08_08_1940T12_00.png)\n",
    "\n",
    "The hardcoded bounds of the image array have been worked out in advance to save time in the loop. It could also be done with other countries/AOIs since the data is georeferenced, with more processing time.\n",
    "\n",
    "After that, the average of the temperature of Germany is stored in a list. Every 6 hours of data, the stored data is plotted. Plotting takes some time in this example. Feel free to change \"plot_every_x_hours\" below to any value between 1 and 24. This sets how many hours are loaded before the display is updated again every day.\n",
    "\n",
    "Set it to 1 to see how granularly the data can be accessed. The loop will run slower, since the time it takes to update the display adds up.\n",
    "\n",
    "If \"plot_every_x_hours\" is set to 24, the display is only updated once per day, which makes the progression a lot faster. The same amount of data is loaded and processed either way.\n",
    "\n",
    "Make sure to run this example from the top if you want to play with this value. (Click on the double play button \"Restart the kernel and run all cells\")\n",
    "\n",
    "The vertical gridlines seperate the days at 00:00. On most nights, you can see the temperature falling on midnight."
   ]
  },
  {
   "cell_type": "code",
   "execution_count": null,
   "metadata": {
    "editable": true,
    "slideshow": {
     "slide_type": ""
    }
   },
   "outputs": [],
   "source": [
    "# Change this to values from 1 to 24 to affect in the plotting rate.\n",
    "# The final plot is the same for any setting.\n",
    "plot_every_x_hours = 4\n",
    "\n",
    "# initialize the plot figure\n",
    "fig, ax = plt.subplots(1, 1, figsize=(15, 6))\n",
    "hdisplay = display.display('', display_id=True)\n",
    "\n",
    "ax.set_xlabel(f'Days in {start_date.strftime(\"%B\")} {year}')\n",
    "ax.set_ylabel(f'Temperature in °C')\n",
    "plt.title(f'Progression of the average Temperature in Germany in {start_date.strftime(\"%B\")} {year}')\n",
    "\n",
    "data, t = [], []\n",
    "ax.plot(data,t)\n",
    "line = ax.lines[0]\n",
    "ax.set_xlim(start_date, end_date)\n",
    "\n",
    "# set ticks and gridlines at the start of each day\n",
    "ticks = [start_date.replace(day=int(h/24)) for h in range(1, end_date.day*24+1) if h%24==0]\n",
    "tick_labels = [f'{td.day:02d}.' for td in ticks]\n",
    "\n",
    "ax.set_xticks(ticks)\n",
    "ax.set_xticklabels(tick_labels)\n",
    "ax.grid(True, axis='x')\n",
    "\n",
    "for image, time_stamp in streamer.load_next_image():\n",
    "    # isolate German data\n",
    "    image = image[550:581, 24:60]\n",
    "    \n",
    "    # save the average temperature in degree Celsius\n",
    "    data.append(np.average(image)-273.15)\n",
    "    t.append(time_stamp)\n",
    "\n",
    "    # plot 6 times per day to speed up the plot\n",
    "    if time_stamp.hour%plot_every_x_hours == 0:\n",
    "        line.set_xdata(t)\n",
    "        line.set_ydata(data)\n",
    "        \n",
    "        # scale plot to fit temperatures\n",
    "        ax.set_ylim(min(data)-1, max(data)+1)\n",
    "\n",
    "        hdisplay.update(fig)\n",
    "        \n",
    "plt.close(fig)"
   ]
  },
  {
   "cell_type": "code",
   "execution_count": null,
   "metadata": {},
   "outputs": [],
   "source": []
  }
 ],
 "metadata": {
  "anaconda-cloud": {},
  "kernelspec": {
   "display_name": "Python 3 (ipykernel)",
   "language": "python",
   "name": "python3"
  },
  "language_info": {
   "codemirror_mode": {
    "name": "ipython",
    "version": 3
   },
   "file_extension": ".py",
   "mimetype": "text/x-python",
   "name": "python",
   "nbconvert_exporter": "python",
   "pygments_lexer": "ipython3",
   "version": "3.11.14"
  }
 },
 "nbformat": 4,
 "nbformat_minor": 4
}
