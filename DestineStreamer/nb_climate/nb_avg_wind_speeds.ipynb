{
 "cells": [
  {
   "cell_type": "markdown",
   "metadata": {
    "editable": true,
    "slideshow": {
     "slide_type": ""
    },
    "tags": []
   },
   "source": [
    "## DestinE Data Streaming\n",
    "\n",
    "This service offers compressed climate and era5 data and makes it available via a high quality and memory efficient streaming solution. The [SSIM](https://en.wikipedia.org/wiki/Structural_similarity_index_measure) and the mean relative error serve as quality measures.\n",
    "\n",
    "<div style='white-space: nowrap', align='center'>\n",
    "\n",
    "<div style='display:inline-block', align='center'>Era5 2 meter dewpoint temperature (01-01-1940 09:00)<br>\n",
    "<img src=\"../images/2d9_og_.jpeg\" width=\"450px\"><br><img src=\"../images/2d9_cp_.jpeg\" width=\"450px\"><br>Mean SSIM: 0.996<br>Compression rate 1:13<br>Mean relative error 0.1 %</div>\n",
    "\n",
    "<div style='display:inline-block', align='center'>Era 5 10 metre U wind component (01-01-1940 09:00)<br>\n",
    "<img src=\"../images/10u9_og_.jpeg\" width=\"450px\"><br><img src=\"../images/10u9_cp_.jpeg\" width=\"450px\"><br>Mean SSIM: 0.995<br>Compression rate 1:27<br>Mean relative error 0.3 %</div>\n",
    "\n",
    "</div>\n"
   ]
  },
  {
   "cell_type": "markdown",
   "metadata": {
    "editable": true,
    "slideshow": {
     "slide_type": ""
    },
    "tags": []
   },
   "source": [
    "## Prerequisites\n",
    "### DestinE Platform Credentials\n",
    "\n",
    "You need to have an account on the [Destination Earth Platform](https://auth.destine.eu/realms/desp/account).\n",
    "\n",
    "#### ⚠️ Warning: Authorized Access Only\n",
    "The usage of this notebook and data access is reserved only to authorized user groups.\n",
    "\n",
    "## Access the Data\n",
    "With a DESP account you can access the stream data proposed in this tutorial."
   ]
  },
  {
   "cell_type": "markdown",
   "metadata": {},
   "source": [
    "# WIND MAGNITUDES ON THE COASTS OF FRANCE AND GREAT BRITAIN (LONG EXAMPLE)\n",
    "In this example we are loading east and north facing winds to calculate the total magnitude and will be plotting it over the course of two years, 1941 and 2021.\n",
    "\n",
    "A lot of data will be downloaded and processed in this example. In total, this can take up to 100 minutes until everything is done."
   ]
  },
  {
   "cell_type": "code",
   "execution_count": null,
   "metadata": {},
   "outputs": [],
   "source": [
    "%%capture cap\n",
    "%run ./auth.py"
   ]
  },
  {
   "cell_type": "code",
   "execution_count": null,
   "metadata": {},
   "outputs": [],
   "source": [
    "output = cap.stdout.split('\\n')\n",
    "#refresh_token = output[1]\n",
    "token = output[2]"
   ]
  },
  {
   "cell_type": "markdown",
   "metadata": {},
   "source": [
    "# Imports and general definitions\n",
    "We start by importing necessary packages and definitions regarding the resolution and the endpoint to the streaming api.\n",
    "\n",
    "Note: The API token must be set here including the user group. This happens in **Authentification**."
   ]
  },
  {
   "cell_type": "code",
   "execution_count": null,
   "metadata": {
    "editable": true,
    "slideshow": {
     "slide_type": ""
    }
   },
   "outputs": [],
   "source": [
    "from dtelib_climate import DTEStreamer, get_stream_overview\n",
    "import numpy as np\n",
    "from datetime import datetime, timedelta\n",
    "import matplotlib.pyplot as plt\n",
    "from IPython import display\n",
    "from scipy.signal import savgol_filter\n",
    "\n",
    "FORMAT = '%Y-%m-%dT%H:%M'\n",
    "\n",
    "import time\n",
    "startt = time.time()\n",
    "\n"
   ]
  },
  {
   "cell_type": "markdown",
   "metadata": {},
   "source": [
    "# Parameters for stream access\n",
    "\n",
    "Here the parameters are set to access the data from the service.\n",
    "\n",
    "*program_subset*: ERA5 has data from 1940 to 2023 </br>\n",
    "*variable*: 10u is the horizontal 10m wind towards the East. 10v is the horizontal wind towards the north.</br>\n",
    "*start_date*: 00:00 on the first day of 1941 or 2021</br>\n",
    "*end_date*: 23:00 on the last day of 1941 or 2021</br>"
   ]
  },
  {
   "cell_type": "code",
   "execution_count": null,
   "metadata": {
    "editable": true,
    "slideshow": {
     "slide_type": ""
    }
   },
   "outputs": [],
   "source": [
    "program_subset = \"ERA5\"\n",
    "u_wind_variable = \"10u\"\n",
    "v_wind_variable = \"10v\"\n",
    "\n",
    "years = [1941, 2021]\n",
    "dates = []\n",
    "u_streamer = []\n",
    "v_streamer = []\n",
    "\n",
    "# Datetimes and streamer objects are initialized here.\n",
    "# Therefore all API calls are done in this cell.\n",
    "for year in years:\n",
    "    # The first day of the year in the loop\n",
    "    start_date = f\"{year}-01-01T00:00\"\n",
    "    start_date = datetime.strptime(start_date, FORMAT)\n",
    "\n",
    "    #  The last day of the year in the loop\n",
    "    end_date = f\"{year}-12-31T23:00\"\n",
    "    end_date = datetime.strptime(end_date, FORMAT)\n",
    "\n",
    "    dates.append([start_date, end_date])\n",
    "\n",
    "    # Both streamer objects are initialized here,\n",
    "    # Eastward and northward wind.\n",
    "    u_streamer.append(DTEStreamer(program_subset=program_subset,\n",
    "                           variable=u_wind_variable,\n",
    "                           start_date=start_date,\n",
    "                           end_date=end_date,\n",
    "                           token=token)\n",
    "                     )\n",
    "    \n",
    "    v_streamer.append(DTEStreamer(program_subset=program_subset,\n",
    "                           variable=v_wind_variable,\n",
    "                           start_date=start_date,\n",
    "                           end_date=end_date,\n",
    "                           token=token)\n",
    "                     )"
   ]
  },
  {
   "cell_type": "markdown",
   "metadata": {
    "editable": true,
    "slideshow": {
     "slide_type": ""
    }
   },
   "source": [
    "# Data specific variables\n",
    "\n",
    "As an area of interest (AOI), parts of the Atlantic Ocean, the british west coast and french west coast are chosen. Plots will be made for two years. We set some colors to distinguish them and their fits."
   ]
  },
  {
   "cell_type": "code",
   "execution_count": null,
   "metadata": {
    "editable": true,
    "slideshow": {
     "slide_type": ""
    }
   },
   "outputs": [],
   "source": [
    "# European west coast\n",
    "aoi = [slice(100,190), slice(1350,1440)]\n",
    "\n",
    "# Colors for the plot of the data and the fit curves\n",
    "data_colors = ['#b4e7ff', '#ffc6c6']\n",
    "fit_colors = ['#6157cc', '#bf4f4f']"
   ]
  },
  {
   "cell_type": "markdown",
   "metadata": {},
   "source": [
    "# Working with the data\n",
    "\n",
    "The following is the main cell of this notebook. Northbound and eastbound wind data is downloaded for every hour over the course of 1941 and 2021. That is around 35000 frames of data. It will be cut down to the AOI.\n",
    "\n",
    "For each frame the magnitude is then calculated for the AOI using Pythagoras theorem. Then the average wind speed of the area is calculated, stored in a list and added to the plot.\n",
    "\n",
    "When the when one whole year has loaded, a polynomial fit is found through the data, to show a trend through the heavily fluctuating measurement data."
   ]
  },
  {
   "cell_type": "code",
   "execution_count": null,
   "metadata": {
    "editable": true,
    "slideshow": {
     "slide_type": ""
    },
    "tags": []
   },
   "outputs": [],
   "source": [
    "# variable for data storage\n",
    "magnitudes = [[] for _ in years]\n",
    "t = []\n",
    "\n",
    "# variables for the plotted figure\n",
    "ticks = []\n",
    "tick_labels = []\n",
    "y_min = 1.0*10**10\n",
    "y_max = 0.\n",
    "\n",
    "# initialize the plot figure\n",
    "hdisplay = display.display('', display_id=True)\n",
    "fig, ax = plt.subplots(1, 1, figsize=(15, 6))\n",
    "\n",
    "ax.set_ylabel(f'Wind Speed in m/s')\n",
    "plt.title(f'Wind Speeds at Western European Coasts')\n",
    "\n",
    "# For loop to evaluate the data of all specified years\n",
    "for i, year in enumerate(years):\n",
    "    m_avg_list = list()\n",
    "\n",
    "    # adjust the x-axis of the plot to the data.\n",
    "    # timestamp() makes dealing with datetime easier\n",
    "    if i == 0:\n",
    "        ax.set_xlim(dates[0][0].timestamp(), dates[0][1].timestamp())\n",
    "    else:\n",
    "        magnitudes[i] = [None]*len(magnitudes[0])\n",
    "\n",
    "    # initialize the curve\n",
    "    line, = ax.plot(magnitudes[i], t, color=data_colors[i])\n",
    "    line.set_label(f'{year} data')\n",
    "    line.set_zorder(i)\n",
    "\n",
    "    # the index used for the current datapoint\n",
    "    zi=-1\n",
    "\n",
    "    # a for loop for loading data from both streamer objects\n",
    "    for (v_image, v_time_stamp), (u_image, u_time_stamp) in zip(v_streamer[0].load_next_image(), u_streamer[0].load_next_image()):\n",
    "    \n",
    "        # isolate data to the specified aoi\n",
    "        v_image = v_image[aoi[0], aoi[1]]\n",
    "        u_image = u_image[aoi[0], aoi[1]]\n",
    "\n",
    "        # calculate the wind magnitude with the pythagorean theorem\n",
    "        wind_magnitude = (v_image**2 + u_image**2)**(1/2)\n",
    "\n",
    "        # update the index for the current datapoint\n",
    "        zi+=1\n",
    "\n",
    "        if i == 0:\n",
    "            # append wind magnitudes and timestamps on the first run\n",
    "            magnitudes[i].append(np.average(wind_magnitude))\n",
    "            t.append(v_time_stamp.timestamp())\n",
    "\n",
    "            # create time axis labels\n",
    "            if v_time_stamp.hour == 0 and v_time_stamp.day == 1:\n",
    "                tick_labels.append(v_time_stamp.strftime('  %B'))\n",
    "                ticks.append(v_time_stamp.timestamp())\n",
    "        else:\n",
    "            # insert wind magnitudes on the second run\n",
    "            magnitudes[i][zi] = np.average(wind_magnitude)\n",
    "\n",
    "        # add data to the plot\n",
    "        line.set_ydata(magnitudes[i])\n",
    "        line.set_xdata(t)\n",
    "        \n",
    "        # scale the data axis to the data so far\n",
    "        y_min = min([y_min, *magnitudes[i][:zi]])\n",
    "        y_max = max([y_max, *magnitudes[i][:zi]])\n",
    "        ax.set_ylim(y_min-1, y_max+1)\n",
    "\n",
    "        # update the fig once on the 1st and the 15th of each month\n",
    "        if v_time_stamp.hour != 0 or (v_time_stamp.day != 1 and v_time_stamp.day != 15):\n",
    "            continue\n",
    "\n",
    "        # plotting data, showing labels and line labels\n",
    "        ax.set_xticks(ticks, tick_labels, ha='left')\n",
    "        ax.grid(True, axis='x')\n",
    "        #ax.legend()\n",
    "        hdisplay.update(fig)\n",
    "\n",
    "        # This refreshes the stream for this resource intensive loop\n",
    "        v_streamer[0].seek_to_date(v_time_stamp + timedelta(hours=1))\n",
    "        u_streamer[0].seek_to_date(u_time_stamp + timedelta(hours=1))\n",
    "\n",
    "    # free streamer resources\n",
    "    del v_streamer[0]\n",
    "    del u_streamer[0]\n",
    "\n",
    "    # plot data again after loading data is complete\n",
    "    ax.set_xticks(ticks, tick_labels, ha='left')\n",
    "    ax.grid(True, axis='x')\n",
    "\n",
    "    # make a polynomial fit for the current data and plot it\n",
    "    fit = np.polyfit(t, magnitudes[i], 4)\n",
    "    fit = np.polyval(fit, t)\n",
    "    line, = ax.plot(fit, t, color=fit_colors[i])\n",
    "    line.set_zorder(i + len(years))\n",
    "\n",
    "    # set a label for the plot and update the figure\n",
    "    line.set_label(f'{year} fit')\n",
    "    line.set_ydata(fit)\n",
    "    line.set_xdata(t)\n",
    "    ax.legend()\n",
    "    hdisplay.update(fig)\n",
    "        \n",
    "plt.close(fig)\n",
    "print(f'duration: {time.time()-startt}')"
   ]
  },
  {
   "cell_type": "code",
   "execution_count": null,
   "metadata": {},
   "outputs": [],
   "source": []
  }
 ],
 "metadata": {
  "anaconda-cloud": {},
  "kernelspec": {
   "display_name": "Python 3 (ipykernel)",
   "language": "python",
   "name": "python3"
  },
  "language_info": {
   "codemirror_mode": {
    "name": "ipython",
    "version": 3
   },
   "file_extension": ".py",
   "mimetype": "text/x-python",
   "name": "python",
   "nbconvert_exporter": "python",
   "pygments_lexer": "ipython3",
   "version": "3.11.14"
  }
 },
 "nbformat": 4,
 "nbformat_minor": 4
}
