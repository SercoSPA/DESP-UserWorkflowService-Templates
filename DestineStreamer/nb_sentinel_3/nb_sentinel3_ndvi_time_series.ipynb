{
 "cells": [
  {
   "cell_type": "markdown",
   "metadata": {},
   "source": [
    "## Sentinel 3 Data Streaming\n",
    "\n",
    "This service offers compressed Sentinel 3 NDVI data and makes it available via a high quality and memory efficient streaming solution.\n"
   ]
  },
  {
   "cell_type": "markdown",
   "metadata": {},
   "source": [
    "## Prerequisites\n",
    "### DestinE Platform Credentials\n",
    "\n",
    "You need to have an account on the [Destination Earth Platform](https://auth.destine.eu/realms/desp/account).\n",
    "\n",
    "#### ⚠️ Warning: Authorized Access Only\n",
    "The usage of this notebook and data access is reserved only to authorized user groups.\n",
    "\n",
    "## Access the Data\n",
    "With a DESP account you can access the stream data proposed in this tutorial."
   ]
  },
  {
   "cell_type": "code",
   "execution_count": null,
   "metadata": {},
   "outputs": [],
   "source": [
    "%%capture cap\n",
    "%run ./auth.py"
   ]
  },
  {
   "cell_type": "code",
   "execution_count": null,
   "metadata": {},
   "outputs": [],
   "source": [
    "output = cap.stdout.split('\\n')\n",
    "refresh_token = output[1]\n",
    "token = output[2]\n",
    "print(token)"
   ]
  },
  {
   "cell_type": "markdown",
   "metadata": {},
   "source": [
    "# Imports and general definitions\n",
    "We start by importing necessary packages and definitions regarding the resolution and the endpoint to the streaming api.\n",
    "\n",
    "Note: The API token must be set here including the user group. This happens in **Authentification**."
   ]
  },
  {
   "cell_type": "code",
   "execution_count": null,
   "metadata": {
    "jukit_cell_id": "jJMMfb6qeT"
   },
   "outputs": [],
   "source": [
    "from datetime import datetime\n",
    "import xarray as xa\n",
    "import rioxarray  # noqa\n",
    "from rasterio.transform import from_bounds\n",
    "from dtelib_s3 import DTEStreamer_S3\n",
    "import gc\n",
    "import matplotlib.pyplot as plt\n",
    "from IPython import display\n",
    "import numpy as np\n",
    "\n",
    "FORMAT = '%Y-%m-%dT%H:%M'"
   ]
  },
  {
   "cell_type": "markdown",
   "metadata": {},
   "source": [
    "# Parameters for stream access\n",
    "\n",
    "Here the parameters are set to access the data from the service.\n",
    "\n",
    "*variable*: an abbreviated variable for the data</br>\n",
    "*program_subset*: a name for the program subest for the data</br>\n",
    "*start_date*: the time and date to start the stream</br>\n",
    "*end_date*: the time and date to end the stream</br>\n",
    "</br>\n",
    "\n",
    "To select a stream, chose parameter values from the table above, or if you have a *code snippet*, use it to replace the code in the cell below:"
   ]
  },
  {
   "cell_type": "code",
   "execution_count": null,
   "metadata": {},
   "outputs": [],
   "source": [
    "continent = \"Africa\"\n",
    "\n",
    "start_date = datetime.strptime(\"2024-01-01T00:00\", FORMAT)\n",
    "end_date = datetime.strptime(\"2024-12-31T00:00\", FORMAT)"
   ]
  },
  {
   "cell_type": "markdown",
   "metadata": {},
   "source": [
    "# Defining the Area\n",
    "\n",
    "We pick the Okawango Delta in Botswana to showcase the NDVI over one year."
   ]
  },
  {
   "cell_type": "code",
   "execution_count": null,
   "metadata": {},
   "outputs": [],
   "source": [
    "south_africa = [\n",
    "    {\n",
    "        'type': 'Polygon',\n",
    "        'coordinates':     [[\n",
    "            [\n",
    "              22.736787239715994,\n",
    "              -19.104234073492805\n",
    "            ],\n",
    "            [\n",
    "              22.736787239715994,\n",
    "              -20.087634051040524\n",
    "            ],\n",
    "            [\n",
    "              23.898375761799315,\n",
    "              -20.087634051040524\n",
    "            ],\n",
    "            [\n",
    "              23.898375761799315,\n",
    "              -19.104234073492805\n",
    "            ],\n",
    "            [\n",
    "              22.736787239715994,\n",
    "              -19.104234073492805\n",
    "            ]\n",
    "        ]]\n",
    "    }\n",
    "]\n",
    "\n"
   ]
  },
  {
   "cell_type": "markdown",
   "metadata": {},
   "source": [
    "# Loading and plotting the data\n",
    "\n",
    "With a DTEStreamer_S3 object the data from Africa is loaded. No-Data values are marked as NAN and the data is georeferenced, to cut down to the AOI of the Okawango Delta. The Average over the area is calculated, stored in a list and the plot updated."
   ]
  },
  {
   "cell_type": "code",
   "execution_count": null,
   "metadata": {},
   "outputs": [],
   "source": [
    "streamer = DTEStreamer_S3(continent=continent, start_date=start_date, end_date=end_date, token=token)\n",
    "\n",
    "# Change this to values from 1 to 24 to affect in the plotting rate.\n",
    "# The final plot is the same for any setting.\n",
    "plot_every_x_hours = 4\n",
    "\n",
    "# initialize the plot figure\n",
    "fig, ax = plt.subplots(1, 1, figsize=(15, 6))\n",
    "hdisplay = display.display('', display_id=True)\n",
    "\n",
    "ax.set_xlabel(f'satellite images')\n",
    "ax.set_ylabel(f'NDVI')\n",
    "plt.title(f'Average NDVI from S3A of the Okawango Delta between {start_date.strftime(\"%Y-%m-%d\")} and {end_date.strftime(\"%Y-%m-%d\")}')\n",
    "\n",
    "data, t = [], []\n",
    "ax.plot(data,t)\n",
    "line = ax.lines[0]\n",
    "\n",
    "for i, (image, metadata) in enumerate(streamer.load_next_image()):\n",
    "\n",
    "    # only pick S3A to avoid duplicates\n",
    "    if metadata[\"satellite\"] == \"S3B\":\n",
    "        continue\n",
    "        \n",
    "    # set no data values\n",
    "    image[image < 0.05] = np.nan\n",
    "\n",
    "    # georeference data\n",
    "    da = xa.DataArray(image,\n",
    "                      dims=['latitude', 'longitude'],\n",
    "                      name=\"NDVI\"\n",
    "                     )\n",
    "\n",
    "    transform = from_bounds(*streamer.bbox(), streamer.nx(), streamer.ny())\n",
    "\n",
    "    da = da.rio.write_crs(\"EPSG:4326\")\n",
    "    da = da.rio.write_transform(transform)\n",
    "    \n",
    "    # isolate South African data\n",
    "    da = da.rio.clip(geometries=south_africa, drop=True)\n",
    "      \n",
    "    data.append(np.average(da.mean(skipna=True).item()))\n",
    "    t.append(i)\n",
    "\n",
    "    line.set_xdata(t)\n",
    "    line.set_ydata(data)\n",
    "        \n",
    "    # scale plot to fit temperatures\n",
    "    ax.set_ylim(-0.08, 1)\n",
    "    ax.set_xlim(min(t)-1, max(t)+1)\n",
    "\n",
    "    hdisplay.update(fig)\n",
    "    \n",
    "plt.close(fig)\n",
    "print(\"done\")"
   ]
  },
  {
   "cell_type": "code",
   "execution_count": null,
   "metadata": {},
   "outputs": [],
   "source": []
  }
 ],
 "metadata": {
  "anaconda-cloud": {},
  "kernelspec": {
   "display_name": "Python 3 (ipykernel)",
   "language": "python",
   "name": "python3"
  },
  "language_info": {
   "codemirror_mode": {
    "name": "ipython",
    "version": 3
   },
   "file_extension": ".py",
   "mimetype": "text/x-python",
   "name": "python",
   "nbconvert_exporter": "python",
   "pygments_lexer": "ipython3",
   "version": "3.11.14"
  }
 },
 "nbformat": 4,
 "nbformat_minor": 4
}
