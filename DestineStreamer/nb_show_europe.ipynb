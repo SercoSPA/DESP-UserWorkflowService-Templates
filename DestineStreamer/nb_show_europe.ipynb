{
 "cells": [
  {
   "cell_type": "markdown",
   "metadata": {},
   "source": [
    "## DestinE Data Streaming\n",
    "\n",
    "This service offers compressed climate and era5 data and makes it available via a high quality and memory efficient streaming solution. The [SSIM](https://en.wikipedia.org/wiki/Structural_similarity_index_measure) and the mean relative error serve as quality measures.\n",
    "\n",
    "<div style='white-space: nowrap', align='center'>\n",
    "\n",
    "<div style='display:inline-block', align='center'>Era5 2 meter dewpoint temperature (01-01-1940 09:00)<br>\n",
    "<img src=\"images/2d9_og_.jpeg\" width=\"450px\"><br><img src=\"images/2d9_cp_.jpeg\" width=\"450px\"><br>Mean SSIM: 0.996<br>Compression rate 1:13<br>Mean relative error 0.1 %</div>\n",
    "\n",
    "<div style='display:inline-block', align='center'>Era 5 10 metre U wind component (01-01-1940 09:00)<br>\n",
    "<img src=\"images/10u9_og_.jpeg\" width=\"450px\"><br><img src=\"images/10u9_cp_.jpeg\" width=\"450px\"><br>Mean SSIM: 0.995<br>Compression rate 1:27<br>Mean relative error 0.3 %</div>\n",
    "\n",
    "</div>\n"
   ]
  },
  {
   "cell_type": "markdown",
   "metadata": {},
   "source": [
    "## Prerequisites\n",
    "### DestinE Platform Credentials\n",
    "\n",
    "You need to have an account on the [Destination Earth Platform](https://auth.destine.eu/realms/desp/account).\n",
    "\n",
    "#### ⚠️ Warning: Authorized Access Only\n",
    "The usage of this notebook and data access is reserved only to authorized user groups.\n",
    "\n",
    "## Access the Data\n",
    "With a DESP account you can access the stream data proposed in this tutorial."
   ]
  },
  {
   "cell_type": "code",
   "metadata": {},
   "source": [
    "%%capture cap\n",
    "%run ./auth.py"
   ],
   "outputs": [],
   "execution_count": null
  },
  {
   "cell_type": "code",
   "metadata": {},
   "source": [
    "output = cap.stdout.split('\\n')\n",
    "refresh_token = output[1]\n",
    "token = output[2]"
   ],
   "outputs": [],
   "execution_count": null
  },
  {
   "cell_type": "markdown",
   "metadata": {},
   "source": [
    "# Imports and general definitions\n",
    "We start by importing necessary packages and definitions regarding the resolution and the endpoint to the streaming api.\n",
    "\n",
    "Note: The API token must be set here including the user group. This happens in **Authentification**."
   ]
  },
  {
   "cell_type": "code",
   "metadata": {
    "jukit_cell_id": "jJMMfb6qeT"
   },
   "source": [
    "from dtelib2 import DTEStreamer, get_stream_overview\n",
    "from datetime import datetime\n",
    "import xarray as xa\n",
    "import rioxarray  # noqa\n",
    "from pyproj import CRS\n",
    "from rasterio.transform import from_origin\n",
    "import matplotlib.pyplot as plt\n",
    "import cartopy\n",
    "import cartopy.crs as ccrs\n",
    "\n",
    "FORMAT = '%Y-%m-%dT%H:%M'"
   ],
   "outputs": [],
   "execution_count": null
  },
  {
   "cell_type": "markdown",
   "metadata": {},
   "source": [
    "# Stream overview\n",
    "The code in the cell below calls the DTE API to receive an overview of all available streams."
   ]
  },
  {
   "cell_type": "code",
   "metadata": {
    "lines_to_next_cell": 2
   },
   "source": [
    "get_stream_overview(token)"
   ],
   "outputs": [],
   "execution_count": null
  },
  {
   "cell_type": "markdown",
   "metadata": {},
   "source": [
    "# Parameters for stream access\n",
    "\n",
    "Here the parameters are set to access the data from the service.\n",
    "\n",
    "*short_name*: an abbreviated name for the data</br>\n",
    "*category_name*: a name for the category for the data </br>\n",
    "*start_date*: the time and date to start the stream</br>\n",
    "*end_date*: the time and date to end the stream</br>\n",
    "</br>\n",
    "\n",
    "To select a stream, chose parameter values from the table above, or if you have a *code snippet*, use it to replace the code in the cell below:"
   ]
  },
  {
   "cell_type": "code",
   "metadata": {},
   "source": [
    "short_name = \"2t\"\n",
    "category_name = \"Climate DT\"\n",
    "start_date = \"2020-01-01T00:00\"\n",
    "end_date = \"2020-01-01T00:00\"\n",
    "\n",
    "start_date = datetime.strptime(start_date, FORMAT)\n",
    "end_date = datetime.strptime(end_date, FORMAT)"
   ],
   "outputs": [],
   "execution_count": null
  },
  {
   "cell_type": "markdown",
   "metadata": {},
   "source": [
    "# Loading the stream\n",
    "\n",
    "With the DTEStreamer class we can easily access the data stream through the api and access individual data frames. \n",
    "At first, we create a DTEStreamer object with the parameters defined in the step above. The object initializes by calling the api to get meta information about the stream and the location of the stream. (You can take a look at the api yourself in the swagger [here](https://dev.destinestreamer.geoville.com/api/streaming/metadata)). Also, ffmpeg is used to seek to the first image of the stream, according to *start_date*.\n",
    "\n",
    "The load_next_image() method then loads the next image into a numpy array, which is stored in the list *time_series* for further use.\n",
    "\n",
    "Note that in this example, the data and time stamps are loaded into a list. A print statements keep us on track with the progress.\n",
    "\n",
    "Note: This example should be modified to your purpose especially if you plan to do a long time series analysis, as it will load all the data of the loop into memory.\n"
   ]
  },
  {
   "cell_type": "code",
   "metadata": {},
   "source": [
    "streamer = DTEStreamer(category_name=category_name,\n",
    "                       short_name=short_name,\n",
    "                       start_date=start_date,\n",
    "                       end_date=end_date,\n",
    "                       token=token)\n",
    "\n",
    "time_series = list()\n",
    "time_stamps = list()\n",
    "\n",
    "for image, time_stamp in streamer.load_next_image():\n",
    "\n",
    "    time_stamps.append(time_stamp)\n",
    "    time_series.append(image)\n",
    "\n",
    "print(f'A total of {len(time_series)} images loaded')"
   ],
   "outputs": [],
   "execution_count": null
  },
  {
   "cell_type": "markdown",
   "metadata": {},
   "source": [
    "# Creating the xarray.DataArray\n",
    "\n",
    "With the time_series and time_stamps we can create a geo-referenced DataArray. The method create_lat_lon_grid() creates latitudes and longitudes appropriate to our data. The DataArray is created with dimensions t, latitude and longitude and coordinates lat, lon and time using the time_series and time_stamps from the previous cell. We also set the name with streamer.name() and the unit of the data with streamer.unit(). EPSG:4326 is set as CRS."
   ]
  },
  {
   "cell_type": "code",
   "metadata": {
    "scrolled": true
   },
   "source": [
    "lats, lons = streamer.create_lat_lon_grid()\n",
    "\n",
    "da = xa.DataArray(time_series,\n",
    "                  dims=['t', 'latitude', 'longitude'],\n",
    "                  coords={'t': time_stamps, 'longitude': lons, 'latitude': lats},\n",
    "                  name=streamer.name(),\n",
    "                  attrs={'units': streamer.unit(),\n",
    "                         'crs': 'EPSG:4326'}\n",
    "                 )\n",
    "da"
   ],
   "outputs": [],
   "execution_count": null
  },
  {
   "cell_type": "markdown",
   "metadata": {},
   "source": [
    "# Subselecting regions\n",
    "\n",
    "With rio.clip() from rioxarray it is also possible to subselect polygons in the georeferenced data. With add_feature(cartopy.feature.BORDERS) it is possible to outline countries as well."
   ]
  },
  {
   "cell_type": "code",
   "metadata": {},
   "source": [
    "europe = [\n",
    "    { 'type': 'Polygon',\n",
    "        'coordinates':\n",
    "          [[\n",
    "            [\n",
    "              40.47389429569694,\n",
    "              71.51798987593267\n",
    "            ],\n",
    "            [\n",
    "              -9.863756639532625,\n",
    "              71.51798987593267\n",
    "            ],\n",
    "            [\n",
    "              -9.863756639532625,\n",
    "              36.1174025295482\n",
    "            ],\n",
    "            [\n",
    "              40.47389429569694,\n",
    "              36.1174025295482\n",
    "            ],\n",
    "            [\n",
    "              40.47389429569694,\n",
    "              71.51798987593267\n",
    "            ]\n",
    "          ]]\n",
    "    }\n",
    "        ]\n",
    "\n",
    "dat = da.isel(t=0).rio.clip(geometries=europe, drop=True)\n",
    "\n",
    "fig=plt.figure()\n",
    "\n",
    "dat.plot()\n",
    "plt.show()"
   ],
   "outputs": [],
   "execution_count": null
  },
  {
   "cell_type": "code",
   "metadata": {},
   "source": [
    "germany = [\n",
    "    {\n",
    "        'type': 'Polygon',\n",
    "        'coordinates':     [[\n",
    "            [\n",
    "                2.7283245259702937,\n",
    "                57.55574030864628\n",
    "            ],\n",
    "            [\n",
    "                2.7283245259702937,\n",
    "                45.19668374239939\n",
    "            ],\n",
    "            [\n",
    "                17.542851520061646,\n",
    "                45.19668374239939\n",
    "            ],\n",
    "            [\n",
    "                17.542851520061646,\n",
    "                57.55574030864628\n",
    "            ],\n",
    "            [\n",
    "                2.7283245259702937,\n",
    "                57.55574030864628\n",
    "            ]\n",
    "        ]]\n",
    "    }\n",
    "]\n",
    "\n",
    "dat = da.isel(t=0).rio.clip(geometries=germany, drop=True)\n",
    "\n",
    "fig=plt.figure()\n",
    "\n",
    "dat.plot()\n",
    "plt.show()"
   ],
   "outputs": [],
   "execution_count": null
  }
 ],
 "metadata": {
  "anaconda-cloud": {},
  "kernelspec": {
   "display_name": "Python 3 (ipykernel)",
   "language": "python",
   "name": "python3"
  },
  "language_info": {
   "codemirror_mode": {
    "name": "ipython",
    "version": 3
   },
   "file_extension": ".py",
   "mimetype": "text/x-python",
   "name": "python",
   "nbconvert_exporter": "python",
   "pygments_lexer": "ipython3",
   "version": "3.9.19"
  }
 },
 "nbformat": 4,
 "nbformat_minor": 4
}
