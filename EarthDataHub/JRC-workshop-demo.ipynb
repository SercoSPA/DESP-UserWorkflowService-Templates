{
 "cells": [
  {
   "cell_type": "markdown",
   "id": "6ad3c48f-90d2-4bb5-b841-de6606c1dffb",
   "metadata": {},
   "source": [
    "## Working with Climate DT data via Earh Data Hub: https://earthdatahub.destine.eu/"
   ]
  },
  {
   "cell_type": "code",
   "execution_count": null,
   "id": "b1bebedf-694e-412c-b137-8c50c886a55c",
   "metadata": {},
   "outputs": [],
   "source": [
    "%load_ext autoreload\n",
    "%autoreload 2"
   ]
  },
  {
   "cell_type": "markdown",
   "id": "ffe62e8a-20bd-4c6b-8780-47698b652c72",
   "metadata": {},
   "source": [
    "### Use your DestinE credentials "
   ]
  },
  {
   "cell_type": "code",
   "execution_count": null,
   "id": "737b8fe9-127b-47f1-a59a-d642e5355ed8",
   "metadata": {},
   "outputs": [],
   "source": [
    "%%capture cap\n",
    "%run ../cacheb/cacheb-authentication.py"
   ]
  },
  {
   "cell_type": "code",
   "execution_count": null,
   "id": "57ecbdd9-7cbe-4eca-9e7d-2dfb2441f23d",
   "metadata": {},
   "outputs": [],
   "source": [
    "from pathlib import Path\n",
    "with open(Path.home() / \".netrc\", \"w\") as fp:\n",
    "    fp.write(cap.stdout)"
   ]
  },
  {
   "cell_type": "code",
   "execution_count": null,
   "id": "8122dd48-fc4a-4129-9abc-5953b38af250",
   "metadata": {
    "scrolled": true
   },
   "outputs": [],
   "source": [
    "!cat ~/.netrc"
   ]
  },
  {
   "cell_type": "markdown",
   "id": "5a8e6bb7-87e5-4ef4-9324-c01413990c01",
   "metadata": {},
   "source": [
    "### Preview the dataset"
   ]
  },
  {
   "cell_type": "code",
   "execution_count": null,
   "id": "81178536-caf1-46cb-90de-0bfc44496678",
   "metadata": {},
   "outputs": [],
   "source": [
    "import xarray as xr\n",
    "\n",
    "url = \"https://cacheb.dcms.destine.eu/d1-climate-dt/ScenarioMIP-SSP3-7.0-IFS-NEMO-0001-high-sfc-v0.zarr\"\n",
    "\n",
    "ds = xr.open_dataset(\n",
    "    url, \n",
    "    chunks={}, \n",
    "    engine=\"zarr\", \n",
    "    storage_options={\"client_kwargs\": {\"trust_env\": True}}\n",
    ")\n",
    "ds"
   ]
  },
  {
   "cell_type": "markdown",
   "id": "eae84091-fd0a-458a-a35d-9c4f1e455668",
   "metadata": {},
   "source": [
    "⚠️ This dataset is huge!"
   ]
  },
  {
   "cell_type": "markdown",
   "id": "30d01d9a-352a-4282-89f2-fbb043445d5b",
   "metadata": {},
   "source": [
    "### Narrow down the selection"
   ]
  },
  {
   "cell_type": "code",
   "execution_count": null,
   "id": "8c78df6d-6ed4-49f2-b192-e423b35c381e",
   "metadata": {},
   "outputs": [],
   "source": [
    "REGION = {\"N\": 55, \"W\": 2, \"S\": 30, \"E\":23} #Italy\n",
    "DATETIME = \"2022-05-22T12:00\""
   ]
  },
  {
   "cell_type": "code",
   "execution_count": null,
   "id": "31dedc42-acf5-4f38-a569-0ccffd74d15b",
   "metadata": {},
   "outputs": [],
   "source": [
    "selection = ds.t2m.sel(\n",
    "    longitude = slice(REGION[\"W\"], REGION[\"E\"]), \n",
    "    latitude=slice(REGION[\"S\"], REGION[\"N\"]), \n",
    "    time=DATETIME\n",
    ")\n",
    "selection"
   ]
  },
  {
   "cell_type": "code",
   "execution_count": null,
   "id": "1689a9e0-6c47-44cf-a53f-482f2c30d004",
   "metadata": {},
   "outputs": [],
   "source": [
    "type(ds.t2m.data)"
   ]
  },
  {
   "cell_type": "markdown",
   "id": "4d98872f-b7e9-4942-9962-2e66f2b7d031",
   "metadata": {},
   "source": [
    "### Check the estimated download size before downloading the data"
   ]
  },
  {
   "cell_type": "code",
   "execution_count": null,
   "id": "71037582-096b-4255-9b95-672118014c1a",
   "metadata": {},
   "outputs": [],
   "source": [
    "import costing\n",
    "\n",
    "costing.estimate_download_size(ds.t2m, selection)"
   ]
  },
  {
   "cell_type": "code",
   "execution_count": null,
   "id": "1249312d-e61a-4651-9d3c-5950fdbe7a36",
   "metadata": {},
   "outputs": [],
   "source": [
    "%%time\n",
    "\n",
    "selection.load(); # same as selection=selection.compute()"
   ]
  },
  {
   "cell_type": "code",
   "execution_count": null,
   "id": "1eba2fba-1d89-4aa4-964e-cfb9b6b29a31",
   "metadata": {},
   "outputs": [],
   "source": [
    "type(selection.data)"
   ]
  },
  {
   "cell_type": "code",
   "execution_count": null,
   "id": "169ba0fe-33b2-47c8-b7fe-d4143afdb5ed",
   "metadata": {},
   "outputs": [],
   "source": [
    "selection.plot() # quick Xarray plot, not very pretty"
   ]
  },
  {
   "cell_type": "markdown",
   "id": "c5f0517f-1f7d-4f84-8a81-56d1534a7fde",
   "metadata": {},
   "source": [
    "### Comparison of ClimateDT with ERA5 Single Levels"
   ]
  },
  {
   "cell_type": "code",
   "execution_count": null,
   "id": "ddde788b-69c4-40f3-b28e-cebf73ae029e",
   "metadata": {
    "scrolled": true
   },
   "outputs": [],
   "source": [
    "era5 = xr.open_dataset(\n",
    "    \"https://cacheb.dcms.destine.eu/era5/reanalysis-era5-single-levels-v0.zarr\",\n",
    "    storage_options={\"client_kwargs\":{\"trust_env\":True}},\n",
    "    chunks={},\n",
    "    engine=\"zarr\",\n",
    ")\n",
    "era5_selection = era5.sel(longitude = slice(REGION[\"W\"], REGION[\"E\"]), latitude=slice(REGION[\"N\"], REGION[\"S\"]), valid_time = DATETIME).t2m\n",
    "era5_selection"
   ]
  },
  {
   "cell_type": "code",
   "execution_count": null,
   "id": "06ca571a-873b-4d41-9da5-7ecd9b5df5af",
   "metadata": {},
   "outputs": [],
   "source": [
    "costing.estimate_download_size(era5.t2m, era5_selection)"
   ]
  },
  {
   "cell_type": "code",
   "execution_count": null,
   "id": "8de26395-bdcc-4552-8ca2-feee280c36de",
   "metadata": {},
   "outputs": [],
   "source": [
    "era5_selection.load()"
   ]
  },
  {
   "cell_type": "code",
   "execution_count": null,
   "id": "50ff5735-2a5e-4c15-a045-a581539d85cf",
   "metadata": {},
   "outputs": [],
   "source": [
    "import display\n",
    "display.compare_map(selection, era5_selection, title_0= \"DestinE Climate DT\", title_1=\"ERA5 single levels\")"
   ]
  },
  {
   "cell_type": "code",
   "execution_count": null,
   "id": "fc552cf3-f565-46e0-8269-59dac5fb0b75",
   "metadata": {
    "scrolled": true
   },
   "outputs": [],
   "source": [
    "display.compare_map(selection, era5_selection, title_0= \"DestinE Climate DT\", title_1=\"ERA5 single levels\", contour=True)"
   ]
  },
  {
   "cell_type": "markdown",
   "id": "6adb458e-b69e-4cbf-80d9-1f52427edf2b",
   "metadata": {},
   "source": [
    "### One More example: daily temperature trend in Ispra, June 05, 2020-2039"
   ]
  },
  {
   "cell_type": "code",
   "execution_count": null,
   "id": "422c11a9-1eb1-43d0-abcd-c100b7f47196",
   "metadata": {},
   "outputs": [],
   "source": [
    "t2m_ispra_june_05 = ds.t2m.sel(\n",
    "    latitude = 45.813, \n",
    "    longitude = 8.612,\n",
    "    method = \"nearest\",\n",
    "    time=((ds.t2m.time.dt.month == 6) & (ds.t2m.time.dt.day == 5))\n",
    ")\n",
    "t2m_ispra_june_05"
   ]
  },
  {
   "cell_type": "code",
   "execution_count": null,
   "id": "a664d2d1-f326-4d4c-8f78-a2f1cb695e26",
   "metadata": {},
   "outputs": [],
   "source": [
    "costing.estimate_download_size(ds.t2m, t2m_ispra_june_05)"
   ]
  },
  {
   "cell_type": "code",
   "execution_count": null,
   "id": "ec4f2995-d7c0-41d5-befa-a08259205eef",
   "metadata": {},
   "outputs": [],
   "source": [
    "%%time\n",
    "\n",
    "t2m_ispra_june_05.load();"
   ]
  },
  {
   "cell_type": "code",
   "execution_count": null,
   "id": "e87a77e4-86cf-4383-b64e-f8557a672e99",
   "metadata": {},
   "outputs": [],
   "source": [
    "import matplotlib.pyplot as plt\n",
    "import pandas as pd\n",
    "import seaborn as sns"
   ]
  },
  {
   "cell_type": "code",
   "execution_count": null,
   "id": "f251f18b-ec13-46e4-8d6c-a420155a8c40",
   "metadata": {},
   "outputs": [],
   "source": [
    "%%time\n",
    "\n",
    "sns.set_style(\"darkgrid\")\n",
    "\n",
    "plt.figure(figsize=(15, 6))\n",
    "plt.title(\"Hourly Temperature on June 5 (2020–2039) in Ispra\", fontsize=16)\n",
    "plt.xlabel(\"Hour of Day\", fontsize=14)\n",
    "plt.ylabel(\"Temperature (°C)\", fontsize=14)\n",
    "plt.grid(True, linestyle='--', alpha=1)\n",
    "plt.xticks(ticks=range(0, 24, 2))\n",
    "\n",
    "for year, data in t2m_ispra_june_05.groupby('time.year'):\n",
    "    plt.plot(range(24), data.values - 273.15, label=str(year), alpha=0.8, linewidth=2)\n",
    "\n",
    "plt.legend(title=\"Year\", bbox_to_anchor=(1.05, 1), loc='upper left', borderaxespad=0., ncol=1)\n",
    "plt.show()"
   ]
  },
  {
   "cell_type": "markdown",
   "id": "877dd05b-4bbc-4816-b984-ecca2bf24dd7",
   "metadata": {},
   "source": [
    "You can also do multiple selections and operations (typically reductions). They are all lazy untill `load()` or `compute()` or `plot()` are called:"
   ]
  },
  {
   "cell_type": "code",
   "execution_count": null,
   "id": "8f192822-70ab-49bf-8842-f4b783e47cb3",
   "metadata": {},
   "outputs": [],
   "source": [
    "t2m_ispra_june_mean = t2m_ispra_june_05 = ds.t2m.sel(\n",
    "    latitude = 45.813, \n",
    "    longitude = 8.612,\n",
    "    method = \"nearest\",\n",
    "    time=(ds.t2m.time.dt.month == 6)\n",
    ").sel(time = slice('2026', '2031')).groupby('time.year').mean()\n",
    "t2m_ispra_june_mean"
   ]
  },
  {
   "cell_type": "code",
   "execution_count": null,
   "id": "20f22544-e8cd-489f-a87b-70ac198d3f7c",
   "metadata": {},
   "outputs": [],
   "source": [
    "%%time\n",
    "\n",
    "t2m_ispra_june_mean.load()"
   ]
  },
  {
   "cell_type": "code",
   "execution_count": null,
   "id": "d5f2f732-e821-4cab-ac4c-0aff2cc11e43",
   "metadata": {},
   "outputs": [],
   "source": [
    "t2m_ispra_june_mean.plot()"
   ]
  }
 ],
 "metadata": {
  "kernelspec": {
   "display_name": "Python 3 (ipykernel)",
   "language": "python",
   "name": "python3"
  },
  "language_info": {
   "codemirror_mode": {
    "name": "ipython",
    "version": 3
   },
   "file_extension": ".py",
   "mimetype": "text/x-python",
   "name": "python",
   "nbconvert_exporter": "python",
   "pygments_lexer": "ipython3",
   "version": "3.11.9"
  }
 },
 "nbformat": 4,
 "nbformat_minor": 5
}
