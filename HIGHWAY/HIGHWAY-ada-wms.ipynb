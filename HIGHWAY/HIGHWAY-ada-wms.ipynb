{
 "cells": [
  {
   "cell_type": "markdown",
   "id": "70ec894f-00a1-4221-8f9a-ee587798d38e",
   "metadata": {},
   "source": [
    "<table style=\"width:100%; text-align:center;\">\n",
    "  <tr>\n",
    "    <td style=\"width:33%;\">\n",
    "      <a href=\"https://highway.esa.int/\">\n",
    "        <img src=\"./img/highway_logo.svg\" alt=\"HIGHWAY Logo\" width=\"150\">\n",
    "      </a>\n",
    "    </td>\n",
    "    <td style=\"width:34%;\">\n",
    "    </td>\n",
    "    <td style=\"width:33%;\">\n",
    "      <a href=\"https://www.esa.int/\">\n",
    "        <img src=\"./img/ESA_logo_2020_White.png\" alt=\"ESA Logo\" width=\"150\">\n",
    "      </a>\n",
    "    </td>\n",
    "  </tr>\n",
    "</table>\n"
   ]
  },
  {
   "metadata": {},
   "cell_type": "markdown",
   "source": [
    "# Advance Data Access - WMS\n",
    "\n",
    "This Jupyter notebook provides a step-by-step guide to accessing data via the Web Map Service (WMS) interface offered by the HIGHWAY data services. It demonstrates how to authenticate, construct WMS requests, and retrieve geospatial imagery.\n"
   ],
   "id": "92b6b0f8ed678c09"
  },
  {
   "metadata": {},
   "cell_type": "markdown",
   "source": "## Import the required libraries\n",
   "id": "7f161a9fb649f3c6"
  },
  {
   "cell_type": "code",
   "id": "2fa788fd-356a-42fb-9e68-6d87882b173a",
   "metadata": {
    "ExecuteTime": {
     "end_time": "2025-08-05T15:54:54.904984Z",
     "start_time": "2025-08-05T15:54:54.440882Z"
    }
   },
   "source": [
    "import os\n",
    "import requests\n",
    "import matplotlib.pyplot as plt\n",
    "import getpass\n",
    "from lib.HIGHWAY_auth import connection_desp\n",
    "\n",
    "from PIL import Image\n",
    "from io import BytesIO\n",
    "from urllib.parse import urlparse, parse_qs, urlencode, urlunparse\n"
   ],
   "outputs": [],
   "execution_count": 1
  },
  {
   "metadata": {},
   "cell_type": "markdown",
   "source": [
    "## Authentication\n",
    "The authentication is performed through the DESP platform: the user provides their credentials to obtain a DESP token, which is then exchanged for a HIGHWAY-specific access token. This token enables secure access to the HIGHWAY APIs."
   ],
   "id": "3cb50e80e906e961"
  },
  {
   "cell_type": "code",
   "id": "7741059e-e261-4614-80c9-0b7383cf70dc",
   "metadata": {
    "ExecuteTime": {
     "end_time": "2025-08-05T15:55:09.341983Z",
     "start_time": "2025-08-05T15:54:55.035207Z"
    }
   },
   "source": [
    "# if you want to test faster, you can create a file password.py with two variable username and password with your own credential\n",
    "CREDENTIALS_FILE = \"password.py\"\n",
    "\n",
    "if os.path.exists(CREDENTIALS_FILE):\n",
    "    import password as pw\n",
    "\n",
    "    username = pw.username\n",
    "    password = pw.password\n",
    "    print(\"Using credentials from file.\")\n",
    "else:\n",
    "    username = getpass.getpass('Type your username: ')\n",
    "    password = getpass.getpass('Type your password: ')\n",
    "\n",
    "# HIGHWAY token generation\n",
    "access_token = connection_desp(username, password)\n"
   ],
   "outputs": [],
   "execution_count": 2
  },
  {
   "metadata": {},
   "cell_type": "markdown",
   "source": [
    "## Define code Parameters\n",
    "\n",
    "In this step, we define a set of configurable variables used to query the HIGHWAY API.\n",
    "These parameters—such as the dataset identifier, date range, and pagination controls which can be easily adapted to match your specific data requirements.\n"
   ],
   "id": "f42943d8dffc445f"
  },
  {
   "cell_type": "code",
   "id": "25ec45fd-3fed-403c-8c15-baa91f57ace4",
   "metadata": {
    "ExecuteTime": {
     "end_time": "2025-08-05T15:55:09.537250Z",
     "start_time": "2025-08-05T15:55:09.533243Z"
    }
   },
   "source": [
    "endpoint = \"https://ds.highway.esa.int/ada\"\n",
    "datasetId = 'HIGHWAY_L3_SIT_Open_MIR_SIT_3C'\n",
    "\n",
    "maxRecords = '10'\n",
    "start_index = '0'\n",
    "start_date = '2025-05-01T00:00:00Z'\n",
    "end_date = '2025-06-01T00:00:00Z'\n"
   ],
   "outputs": [],
   "execution_count": 3
  },
  {
   "metadata": {},
   "cell_type": "markdown",
   "source": [
    "## Query the OpenSearch API for Products\n",
    "In this step, we call the OpenSearch API to search for available products that match the defined criteria. This allows us to retrieve metadata and access links for the relevant datasets.\n",
    "\n"
   ],
   "id": "62ae4817a47c45e3"
  },
  {
   "metadata": {
    "ExecuteTime": {
     "end_time": "2025-08-05T15:55:09.842574Z",
     "start_time": "2025-08-05T15:55:09.740364Z"
    }
   },
   "cell_type": "code",
   "source": [
    "data = {\n",
    "    \"maxRecords\": maxRecords,  # Payload for the POST request\n",
    "    \"startIndex\": start_index,\n",
    "    \"startDate\": start_date,\n",
    "    \"endDate\": end_date\n",
    "}\n",
    "\n",
    "#-------------------running the POST request---------------------\n",
    "getProducts = requests.post(endpoint + \"/opensearch/search/\" + datasetId, data=data)\n",
    "results = getProducts.json()\n"
   ],
   "id": "11ce226f082a84c2",
   "outputs": [],
   "execution_count": 4
  },
  {
   "metadata": {},
   "cell_type": "markdown",
   "source": [
    "## Perform the WMS Request\n",
    "In this step, we use the WMS URL extracted from the OpenSearch results to request a geospatial image. To do this:\n",
    "* We retrieve the WMS endpoint from the product metadata returned by the OpenSearch API.\n",
    "* We append the required BBOX (bounding box) parameter to define the geographic area of interest.\n",
    "* Finally, we execute the WMS request to obtain the corresponding map image.\n"
   ],
   "id": "be90ee12b4fb4307"
  },
  {
   "metadata": {
    "ExecuteTime": {
     "end_time": "2025-08-05T15:55:13.573286Z",
     "start_time": "2025-08-05T15:55:09.905569Z"
    }
   },
   "cell_type": "code",
   "source": [
    "\n",
    "wms_url = endpoint + '/wms' + results['features'][9]['subDatasets']['sea_ice_thickness']['wms']\n",
    "parsed = urlparse(wms_url)\n",
    "params = parse_qs(parsed.query)\n",
    "params[\"bbox\"] = [\"-90,-180,90,180\"] # add the bounding box\n",
    "params[\"height\"] = [512/2] # overwrite a parameter.\n",
    "params[\"width\"] = [512/2] # overwrite a parameter.\n",
    "new_query = urlencode(params, doseq=True)\n",
    "wms_url = urlunparse(parsed._replace(query=new_query))\n",
    "\n",
    "headers = {\n",
    "  'Authorization': 'Bearer ' + access_token\n",
    "}\n",
    "\n",
    "response = requests.get(wms_url, headers=headers)\n"
   ],
   "id": "5f58deaeb79aacef",
   "outputs": [],
   "execution_count": 5
  },
  {
   "metadata": {},
   "cell_type": "markdown",
   "source": [
    "## Display the Retrieved Image\n",
    "In this final step, we render the image obtained from the WMS request.\n",
    "This visualization marks the beginning of what you can build on top of this workflow—whether it’s for interactive exploration, automated reporting, or integration into a larger geospatial application.\n",
    "\n",
    "Let your imagination guide the next steps!\n"
   ],
   "id": "15ad190874dde341"
  },
  {
   "metadata": {
    "ExecuteTime": {
     "end_time": "2025-08-05T15:55:13.631892Z",
     "start_time": "2025-08-05T15:55:13.585369Z"
    }
   },
   "cell_type": "code",
   "source": [
    "if response.status_code == 200:\n",
    "    img = Image.open(BytesIO(response.content))\n",
    "    plt.imshow(img)\n",
    "    plt.axis('off')  # Optional: hide axes\n",
    "    plt.show()\n",
    "else:\n",
    "    print(\"Failed to fetch image\")\n",
    "\n"
   ],
   "id": "24c9a3207e8b45dc",
   "outputs": [
    {
     "data": {
      "text/plain": [
       "<Figure size 640x480 with 1 Axes>"
      ],
      "image/png": "[encoded data removed]"
     },
     "metadata": {},
     "output_type": "display_data"
    }
   ],
   "execution_count": 6
  },
  {
   "metadata": {},
   "cell_type": "markdown",
   "source": "Code example provided by <a href='https://adwaiseo.eu/'>adwäisEO</a>",
   "id": "b9a973f907f3df6b"
  },
  {
   "metadata": {},
   "cell_type": "markdown",
   "source": [
    "<table style=\"width:100%; text-align:center;\">\n",
    "  <tr>\n",
    "    <td style=\"width:33%;\">\n",
    "      <a href=\"https://highway.esa.int/\">\n",
    "        <img src=\"./img/highway_logo.svg\" alt=\"HIGHWAY Logo\" width=\"150\">\n",
    "      </a>\n",
    "    </td>\n",
    "    <td style=\"width:34%;\">\n",
    "    </td>\n",
    "    <td style=\"width:33%;\">\n",
    "      <a href=\"https://www.esa.int/\">\n",
    "        <img src=\"./img/ESA_logo_2020_White.png\" alt=\"ESA Logo\" width=\"150\">\n",
    "      </a>\n",
    "    </td>\n",
    "  </tr>\n",
    "</table>\n"
   ],
   "id": "531712de-2d28-4801-a487-19b321059be3"
  }
 ],
 "metadata": {
  "author": "Antonio Vecoli",
  "description": "How to discover and access DestinE data using the EDE ",
  "image": "./img/EO4EU_COVER.png",
  "kernelspec": {
   "display_name": "Python 3 (ipykernel)",
   "language": "python",
   "name": "python3"
  },
  "language_info": {
   "codemirror_mode": {
    "name": "ipython",
    "version": 3
   },
   "file_extension": ".py",
   "mimetype": "text/x-python",
   "name": "python",
   "nbconvert_exporter": "python",
   "pygments_lexer": "ipython3",
   "version": "3.11.6"
  },
  "services": {
   "DestinationE": {
    "git": {
     "link": "https://git.services.meeo.it/ltpy/climate/-/blob/main/WP3/Sunshine_Duration_(SDU)_climatology_&_anomalies_workflows.ipynb",
     "service_contact": "",
     "service_provider": "MEEO s.r.l."
    },
    "jupyter": {
     "link": "https://jupyter.adamplatform.eu/hub/user-redirect/lab/tree/EO4EU/notebooks/04_Data%20Discovery_2(Advanced_Search).ipynb",
     "service_contact": "",
     "service_provider": "MEEO s.r.l."
    }
   }
  },
  "tags": {
   "domain": "Satellite",
   "subtheme": "2m Temperature",
   "tags": "ERA5"
  },
  "title": "EDEN example"
 },
 "nbformat": 4,
 "nbformat_minor": 5
}
