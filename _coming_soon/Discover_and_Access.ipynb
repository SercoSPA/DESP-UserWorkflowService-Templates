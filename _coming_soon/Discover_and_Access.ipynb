{
 "cells": [
  {
   "cell_type": "markdown",
   "id": "337639a6-7155-4dde-a5a5-931be7f8ecbc",
   "metadata": {
    "id": "337639a6-7155-4dde-a5a5-931be7f8ecbc",
    "tags": []
   },
   "source": [
    "# DESP Data Workflow Discover & Access\n",
    "\n",
    "## Overview\n",
    "\n",
    "This document serves as a quick reference guide of how to access **DESP Data Workflow** APIs, using Python, from the DESP User Workflow Development environment. This guide will show how to discover, filter and download data.\n",
    "\n",
    "### Steps\n",
    "1. Preparation\n",
    "2. Catalog Search\n",
    "3. Product Search and Download"
   ]
  },
  {
   "cell_type": "markdown",
   "id": "7b3572a3-b54e-4ba0-baf7-2cc33c539680",
   "metadata": {
    "id": "7b3572a3-b54e-4ba0-baf7-2cc33c539680"
   },
   "source": [
    "## Preparation\n",
    "\n",
    "These preparation blocks have to be executed as a prerequisite for every subsequent step to work correctly, as these variables will be used to configure each HTTP request used in these examples.\n",
    "\n",
    "\n",
    "> IMPORTANT NOTE: Please ensure to provide a valid username and token pair."
   ]
  },
  {
   "cell_type": "code",
   "execution_count": null,
   "id": "c8c51820-8d98-4cec-bd33-f06031141a97",
   "metadata": {
    "id": "c8c51820-8d98-4cec-bd33-f06031141a97",
    "tags": []
   },
   "outputs": [],
   "source": [
    "import requests\n",
    "import base64\n",
    "import json\n",
    "import tempfile\n",
    "import zipfile\n",
    "from pathlib import Path\n",
    "from datetime import datetime\n",
    "from datetime import timedelta\n",
    "import getpass"
   ]
  },
  {
   "cell_type": "code",
   "execution_count": null,
   "id": "l07VVNue-F3T",
   "metadata": {
    "id": "l07VVNue-F3T"
   },
   "outputs": [],
   "source": [
    "username = getpass.getpass()"
   ]
  },
  {
   "cell_type": "code",
   "execution_count": null,
   "id": "VSHZzl1r-BvQ",
   "metadata": {
    "id": "VSHZzl1r-BvQ"
   },
   "outputs": [],
   "source": [
    "token = getpass.getpass()"
   ]
  },
  {
   "cell_type": "code",
   "execution_count": null,
   "id": "2503df33-24c6-462a-acd8-90a61ee9d4c8",
   "metadata": {
    "id": "2503df33-24c6-462a-acd8-90a61ee9d4c8",
    "tags": []
   },
   "outputs": [],
   "source": [
    "credentials = username + ':' + token\n",
    "\n",
    "authorization = \"Basic \" + base64.b64encode(bytes(credentials, 'utf-8')).decode('utf-8')\n",
    "headers = {'Authorization':authorization,'Content-Type':'application/hal+json;charset=UTF-8'}\n",
    "base_url = \"https://data.dev.desp.space\""
   ]
  },
  {
   "cell_type": "markdown",
   "id": "5b749532-ef81-4b6c-bd44-cd761d567a1b",
   "metadata": {
    "id": "5b749532-ef81-4b6c-bd44-cd761d567a1b",
    "tags": []
   },
   "source": [
    "## Catalog Search\n",
    "\n",
    "Many of the sequent API usage share a similarity for what concerns the search.\n",
    "For example the page and the number of results to display are used in many other API calls.\n",
    "In this catalog search many other filters could be applied: catalog, mission, AOI, TOI, orbit number, etc. For more information, visit the [documentation pages](https://to-be.done).\n"
   ]
  },
  {
   "cell_type": "code",
   "execution_count": null,
   "id": "a4a0f062-f29b-4def-9f90-4e503569d282",
   "metadata": {
    "id": "a4a0f062-f29b-4def-9f90-4e503569d282"
   },
   "outputs": [],
   "source": [
    "page=0\n",
    "resultsPerPage=20\n",
    "catalogue='SATELLITE'\n",
    "orbitDirection='ascending'\n",
    "\n",
    "url=f'{base_url}/secure/api/v2.0/search?page={page}&resultsPerPage={resultsPerPage}&catalogue={catalogue}&mission=sentinel3&aoi=POLYGON+((110.12588478529223+-6.885079244763438,+110.12588478529223+-7.29186930980306,+111.05481310696132+-7.29186930980306,+111.06289082671104+-6.472900901082527,+111.02519514358733+-6.402857492192213,+110.86094988721777+-6.394775588065212,+110.67247167702403+-6.451349019721208,+110.62131326460076+-6.664173077411836,+110.48130096205539+-6.739604353875493,+110.52976676699129+-6.7854019476178165,+110.41667982033255+-6.920100897825102,+110.29282275186166+-6.8958548771431385,+110.17973575384669+-6.804259792425478,+110.1204997757424+-6.882385002675806,+110.12588478529223+-6.885079244763438))&productDateStart=2021-04-01T00:00:00.000Z&productDateEnd=2021-09-30T23:59:59.000Z&s3ProcessingLevel=2&orbitDirection={orbitDirection}&s3Instrument=SLSTR&productType=SL_2_LST___'\n",
    "run_request=requests.get(url,headers=headers, verify=True)\n",
    "run_request_dict = json.loads(run_request.text)"
   ]
  },
  {
   "cell_type": "code",
   "execution_count": null,
   "id": "1e48132b-10d0-41c5-aa34-e0fa03f5be27",
   "metadata": {
    "id": "1e48132b-10d0-41c5-aa34-e0fa03f5be27",
    "tags": []
   },
   "outputs": [],
   "source": [
    "run_request_dict"
   ]
  },
  {
   "cell_type": "markdown",
   "id": "389325f2-69ee-409d-b91d-b00b612bf219",
   "metadata": {
    "id": "389325f2-69ee-409d-b91d-b00b612bf219",
    "tags": []
   },
   "source": [
    "## Product Search and Download"
   ]
  },
  {
   "cell_type": "markdown",
   "id": "251f9192-3b40-484c-adf1-d673c93e0607",
   "metadata": {
    "id": "251f9192-3b40-484c-adf1-d673c93e0607",
    "tags": []
   },
   "source": [
    "### Get Collections Info\n",
    "\n",
    "This command could be run to find the available collections inside the platform and should be pretty straightforward."
   ]
  },
  {
   "cell_type": "code",
   "execution_count": null,
   "id": "1dfbde32-9b51-40e1-a493-0e44c235f921",
   "metadata": {
    "id": "1dfbde32-9b51-40e1-a493-0e44c235f921",
    "tags": []
   },
   "outputs": [],
   "source": [
    "url=base_url + \"/secure/api/v2.0/collections?size=20\"\n",
    "run_request=requests.get(url,headers=headers, verify=True)\n",
    "\n",
    "run_request_dict = json.loads(run_request.text)"
   ]
  },
  {
   "cell_type": "code",
   "execution_count": null,
   "id": "ca34e4b7-dc75-4aef-b683-c290162af423",
   "metadata": {
    "id": "ca34e4b7-dc75-4aef-b683-c290162af423",
    "tags": []
   },
   "outputs": [],
   "source": [
    "run_request_dict"
   ]
  },
  {
   "cell_type": "markdown",
   "id": "529dce1d-4a05-4a21-9078-cfe62f4e723d",
   "metadata": {
    "id": "529dce1d-4a05-4a21-9078-cfe62f4e723d",
    "tags": []
   },
   "source": [
    "### Get File Info from Collection\n",
    "\n",
    "This request returns us a list of files inside a particular collection. We can get a valid `collection_id` with the help of the previous block or put a known one."
   ]
  },
  {
   "cell_type": "code",
   "execution_count": null,
   "id": "da617a39-d6d9-4cec-894d-27bd748f27d0",
   "metadata": {
    "id": "da617a39-d6d9-4cec-894d-27bd748f27d0",
    "tags": []
   },
   "outputs": [],
   "source": [
    "collection_id=52\n",
    "my_collection=f'{base_url}/secure/api/v2.0/collections/{collection_id}'\n",
    "url=f\"{BASE_URL}/secure/api/v2.0/platformFiles/search/parametricFind?sort=filename&type=OUTPUT_PRODUCT&collection={my_collection}\"\n",
    "run_request=requests.get(url,headers=headers, verify=True)\n",
    "run_request_dict = json.loads(run_request.text)"
   ]
  },
  {
   "cell_type": "code",
   "execution_count": null,
   "id": "b54b1c73-245d-4d2c-9ddc-699a236cbdd8",
   "metadata": {
    "id": "b54b1c73-245d-4d2c-9ddc-699a236cbdd8",
    "tags": []
   },
   "outputs": [],
   "source": [
    "run_request_dict"
   ]
  },
  {
   "cell_type": "markdown",
   "id": "76f3a473-ffaf-4dd9-b1b7-65fbebff79b2",
   "metadata": {
    "id": "76f3a473-ffaf-4dd9-b1b7-65fbebff79b2",
    "tags": []
   },
   "source": [
    "### Download file"
   ]
  },
  {
   "cell_type": "markdown",
   "id": "1cd85324-9990-467e-a1fe-3b9734872a93",
   "metadata": {
    "id": "1cd85324-9990-467e-a1fe-3b9734872a93"
   },
   "source": [
    "We're getting a valid `file_id` from the request done in the last section. A custom one can be placed here if needed"
   ]
  },
  {
   "cell_type": "code",
   "execution_count": null,
   "id": "2e15b333-9b04-4662-939f-4ea81c5e5709",
   "metadata": {
    "id": "2e15b333-9b04-4662-939f-4ea81c5e5709",
    "tags": []
   },
   "outputs": [],
   "source": [
    "file_id=run_request_dict['_embedded']['platformFiles'][0]['id']\n",
    "print(f\"file_id: {file_id}\")"
   ]
  },
  {
   "cell_type": "markdown",
   "id": "b1b57815-eb16-4fe3-89ab-6fe5b792c5e1",
   "metadata": {
    "id": "b1b57815-eb16-4fe3-89ab-6fe5b792c5e1"
   },
   "source": [
    "In this section the file download is done through the help of a function to which we have to provide the following parameters:\n",
    "- `url`: the path to a specific file inside the platform, this contains the `file_id`.\n",
    "- `local_filename`: the name of the downloaded file\n",
    "- `customHeader`: through this we can pass the `HEADERS` containing our auth, as the request is done inside the function."
   ]
  },
  {
   "cell_type": "code",
   "execution_count": null,
   "id": "30c3102d-7b82-4afa-bc55-f4bd058f5c81",
   "metadata": {
    "id": "30c3102d-7b82-4afa-bc55-f4bd058f5c81",
    "tags": []
   },
   "outputs": [],
   "source": [
    "def download_file(url, local_filename, customHeader, checkCert=True):\n",
    "    print(f'{url} started')\n",
    "    with requests.get(url,headers=customHeader, stream=True, verify=checkCert ) as r:\n",
    "        r.raise_for_status()\n",
    "        with open(local_filename, 'wb') as f:\n",
    "            for chunk in r.iter_content(chunk_size=8192):\n",
    "                f.write(chunk)\n",
    "\n",
    "    print(f'download {url} done')\n",
    "    return local_filename"
   ]
  },
  {
   "cell_type": "code",
   "execution_count": null,
   "id": "16fe6d51-feee-4a93-92df-cbe65553e000",
   "metadata": {
    "id": "16fe6d51-feee-4a93-92df-cbe65553e000",
    "tags": []
   },
   "outputs": [],
   "source": [
    "file_to_download = base_url + \"/secure/api/v2.0/platformFiles/\" + str(file_id)+\"/dl\"\n",
    "download_file(file_to_download,'downloadTestFile.tif',headers)"
   ]
  }
 ],
 "metadata": {
  "colab": {
   "provenance": []
  },
  "kernelspec": {
   "display_name": "Python 3 (ipykernel)",
   "language": "python",
   "name": "python3"
  },
  "language_info": {
   "codemirror_mode": {
    "name": "ipython",
    "version": 3
   },
   "file_extension": ".py",
   "mimetype": "text/x-python",
   "name": "python",
   "nbconvert_exporter": "python",
   "pygments_lexer": "ipython3",
   "version": "3.10.9"
  }
 },
 "nbformat": 4,
 "nbformat_minor": 5
}
