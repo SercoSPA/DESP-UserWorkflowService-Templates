{
 "cells": [
  {
   "cell_type": "markdown",
   "id": "337639a6-7155-4dde-a5a5-931be7f8ecbc",
   "metadata": {
    "id": "337639a6-7155-4dde-a5a5-931be7f8ecbc",
    "tags": []
   },
   "source": [
    "# DESP User Workflow Processing Services\n",
    "\n",
    "## Overview\n",
    "\n",
    "This document serves as a quick reference guide of how to access **DESP User Workflow Processing** environment APIs, using Python, from the User Workflow Development environment. This guide will show how to discover, launch and monitor processing services.\n",
    "\n",
    "### Steps\n",
    "1. Preparation\n",
    "2. Discover a Processing Service\n",
    "3. Launch a Processing Service"
   ]
  },
  {
   "cell_type": "markdown",
   "id": "7b3572a3-b54e-4ba0-baf7-2cc33c539680",
   "metadata": {
    "id": "7b3572a3-b54e-4ba0-baf7-2cc33c539680"
   },
   "source": [
    "## Preparation\n",
    "\n",
    "These preparation blocks have to be executed as a prerequisite for every subsequent step to work correctly, as these variables will be used to configure each HTTP request used in these examples.\n",
    "\n",
    "\n",
    "> IMPORTANT NOTE: Please ensure to provide a valid username and token pair."
   ]
  },
  {
   "cell_type": "code",
   "execution_count": null,
   "id": "c8c51820-8d98-4cec-bd33-f06031141a97",
   "metadata": {
    "id": "c8c51820-8d98-4cec-bd33-f06031141a97",
    "tags": []
   },
   "outputs": [],
   "source": [
    "import requests\n",
    "import base64\n",
    "import json\n",
    "import tempfile\n",
    "import zipfile\n",
    "from pathlib import Path\n",
    "from datetime import datetime\n",
    "from datetime import timedelta\n",
    "import getpass"
   ]
  },
  {
   "cell_type": "code",
   "execution_count": null,
   "id": "2503df33-24c6-462a-acd8-90a61ee9d4c8",
   "metadata": {
    "id": "2503df33-24c6-462a-acd8-90a61ee9d4c8",
    "tags": []
   },
   "outputs": [],
   "source": [
    "username = getpass.getpass()"
   ]
  },
  {
   "cell_type": "code",
   "execution_count": null,
   "id": "Q2DPteuaCV3p",
   "metadata": {
    "id": "Q2DPteuaCV3p"
   },
   "outputs": [],
   "source": [
    "token = getpass.getpass()"
   ]
  },
  {
   "cell_type": "code",
   "execution_count": null,
   "id": "YmbehJOOCXlU",
   "metadata": {
    "id": "YmbehJOOCXlU"
   },
   "outputs": [],
   "source": [
    "credentials = username + ':' + token\n",
    "\n",
    "authorization = \"Basic \" + base64.b64encode(bytes(credentials, 'utf-8')).decode('utf-8')\n",
    "headers = {'Authorization':authorization,'Content-Type':'application/hal+json;charset=UTF-8'}\n",
    "base_url = \"https://userwkfl.dev.desp.space\""
   ]
  },
  {
   "cell_type": "markdown",
   "id": "4102574e-4096-49d0-9505-6269d3f6ebed",
   "metadata": {
    "id": "4102574e-4096-49d0-9505-6269d3f6ebed",
    "tags": []
   },
   "source": [
    "## Discover a Processing Service\n",
    "This step is a straightforward one. By polling the `services` API we get a list of available services and parameters which can be used to execute a Processing Service."
   ]
  },
  {
   "cell_type": "code",
   "execution_count": null,
   "id": "cd4c8549-57c0-49a2-b29b-b0aa4edaa554",
   "metadata": {
    "id": "cd4c8549-57c0-49a2-b29b-b0aa4edaa554",
    "tags": []
   },
   "outputs": [],
   "source": [
    "url = base_url + \"/secure/api/v2.0/services?page=0&size=10\"\n",
    "run_request=requests.get(url,headers=headers, verify=True)\n",
    "run_request_dict = json.loads(run_request.text)"
   ]
  },
  {
   "cell_type": "code",
   "execution_count": null,
   "id": "e7ad568b-02a6-4aad-88c0-0240be68c78f",
   "metadata": {
    "id": "e7ad568b-02a6-4aad-88c0-0240be68c78f",
    "tags": []
   },
   "outputs": [],
   "source": [
    "run_request_dict"
   ]
  },
  {
   "cell_type": "markdown",
   "id": "2bfcc87b-e27e-409a-92da-81dfc187627d",
   "metadata": {
    "id": "2bfcc87b-e27e-409a-92da-81dfc187627d",
    "tags": []
   },
   "source": [
    "## Launch a Processing Service\n",
    "\n",
    "### Create a Configuration\n",
    "\n",
    "A Job Configuration is a config file that defines what the job should do. This request creates a new job config which is needed for the following section.\n",
    "\n",
    "The crucial aspects of a job config are:\n",
    "- ***service***: the `service_id` instructs the job about which service is to be run\n",
    "- ***inputs***: on which images/files said service is to be executed\n",
    "- ***collection***: usally for many services this represents the output collection in which the results will be found\n",
    "Be aware as these parameters must match with the ones that the service expects."
   ]
  },
  {
   "cell_type": "code",
   "execution_count": null,
   "id": "b6020392-cf3d-4f7f-851a-9542d61e7e83",
   "metadata": {
    "id": "b6020392-cf3d-4f7f-851a-9542d61e7e83"
   },
   "outputs": [],
   "source": [
    "service_id = 20 # TestProcessor\n",
    "collection_id = 'eopaasbb235018ba8342dda1df91a5c3678395' # test-jupytr-file\n",
    "s2 = \"Insula is\"\n",
    "s3 = \"great!\"\n",
    "\n",
    "output={'result':collection_id}\n",
    "job_config={\n",
    "    'service': f\"{base_url}secure/api/v2.0/services/{service_id}\",\n",
    "    'inputs':{ # inputs must match the fields required by the service\n",
    "        's2_input': [s2],\n",
    "        's3_input': [s3],\n",
    "        'collection': [json.dumps(output)]\n",
    "    },\n",
    "    'parent': None\n",
    "}\n",
    "\n",
    "url = base_url + \"/secure/api/v2.0/jobConfigs/\"\n",
    "run_request = requests.post(url,headers=headers, data=json.dumps(job_config), verify=True)\n",
    "run_request_dict = json.loads(run_request.text)"
   ]
  },
  {
   "cell_type": "code",
   "execution_count": null,
   "id": "95816eb5-f4b9-4ad0-976f-e34a6c628124",
   "metadata": {
    "id": "95816eb5-f4b9-4ad0-976f-e34a6c628124",
    "tags": []
   },
   "outputs": [],
   "source": [
    "run_request_dict"
   ]
  },
  {
   "cell_type": "markdown",
   "id": "dkaHBNhITD-6",
   "metadata": {
    "id": "dkaHBNhITD-6"
   },
   "source": [
    "We can start a processing service by getting the `job_config_id` from the previous response and launch it through the request you see in the following section:"
   ]
  },
  {
   "cell_type": "code",
   "execution_count": null,
   "id": "BGCZhk39TMrs",
   "metadata": {
    "id": "BGCZhk39TMrs"
   },
   "outputs": [],
   "source": [
    "jobconfig_id=run_request_dict['id']\n",
    "url=f\"{base_url}/secure/api/v2.0/jobConfigs/{jobconfig_id}/launch\"\n",
    "run_request = requests.post(url, headers=headers, verify=True)\n",
    "run_request_dict = json.loads(run_request.text)"
   ]
  },
  {
   "cell_type": "code",
   "execution_count": null,
   "id": "yFc9gNddTTds",
   "metadata": {
    "id": "yFc9gNddTTds"
   },
   "outputs": [],
   "source": [
    "run_request_dict"
   ]
  },
  {
   "cell_type": "markdown",
   "id": "gUGriBUgTWyc",
   "metadata": {
    "id": "gUGriBUgTWyc"
   },
   "source": [
    "To receive updates on the advancement of the job, we're simply getting the `job_id` from the previous response, and asking the API about it.\n",
    "\n",
    "Feel free to run this section a couple of times to see the status changes until the job is completed."
   ]
  },
  {
   "cell_type": "code",
   "execution_count": null,
   "id": "7KZfAI5yTb1b",
   "metadata": {
    "id": "7KZfAI5yTb1b"
   },
   "outputs": [],
   "source": [
    "job_id = run_request_dict['content']['id']\n",
    "url_status = f\"{base_url}/secure/api/v2.0/jobs/{job_id}\"\n",
    "status = requests.get(url_status, headers=headers)\n",
    "url_status_dict = json.loads(status.text)"
   ]
  }
 ],
 "metadata": {
  "colab": {
   "provenance": [
    {
     "file_id": "1bM4B9ruTlZupvctKuWANd-gei1QrJmV_",
     "timestamp": 1703076335239
    }
   ]
  },
  "kernelspec": {
   "display_name": "Python 3 (ipykernel)",
   "language": "python",
   "name": "python3"
  },
  "language_info": {
   "codemirror_mode": {
    "name": "ipython",
    "version": 3
   },
   "file_extension": ".py",
   "mimetype": "text/x-python",
   "name": "python",
   "nbconvert_exporter": "python",
   "pygments_lexer": "ipython3",
   "version": "3.10.9"
  }
 },
 "nbformat": 4,
 "nbformat_minor": 5
}
