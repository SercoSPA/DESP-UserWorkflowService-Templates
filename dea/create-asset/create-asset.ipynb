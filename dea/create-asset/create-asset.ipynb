{
 "cells": [
  {
   "cell_type": "markdown",
   "id": "573d2922-8641-4857-a737-6f3f3c3c2e2c",
   "metadata": {},
   "source": [
    "# DEA Notebook \n",
    "\n",
    "![alt text](../dea-gallery-crop.png \"DEA\")\n",
    "\n",
    "### [DEA](https://dea.destine.eu/web) is a Content creation service and no-code platform for DestinE storytelling and data visualization"
   ]
  },
  {
   "cell_type": "markdown",
   "id": "fd45b752-93ff-4dcb-b56a-040be58f0782",
   "metadata": {},
   "source": [
    "## Generate a Cloud Optimized GeoTiff from NetCDF\n",
    "\n",
    "This notebook can be used to generate a Cloud Optimized GeoTIFF (COG) file compliant with the DEA service.\n",
    "\n",
    "In the following example, the COG file is generated from a NetCDF file retrieved by the DestinE CacheB service (2 metre temperature)"
   ]
  },
  {
   "cell_type": "markdown",
   "id": "1d932e53-639a-4b06-90de-2a967aae2914",
   "metadata": {},
   "source": [
    "# Install pre-requirements"
   ]
  },
  {
   "cell_type": "code",
   "execution_count": 1,
   "id": "2ca79555-c950-4e1c-8be8-1f2fb89b68c3",
   "metadata": {},
   "outputs": [
    {
     "name": "stdout",
     "output_type": "stream",
     "text": [
      "Requirement already satisfied: matplotlib in /opt/conda/lib/python3.11/site-packages (3.8.4)\n",
      "Requirement already satisfied: contourpy>=1.0.1 in /opt/conda/lib/python3.11/site-packages (from matplotlib) (1.2.1)\n",
      "Requirement already satisfied: cycler>=0.10 in /opt/conda/lib/python3.11/site-packages (from matplotlib) (0.12.1)\n",
      "Requirement already satisfied: fonttools>=4.22.0 in /opt/conda/lib/python3.11/site-packages (from matplotlib) (4.51.0)\n",
      "Requirement already satisfied: kiwisolver>=1.3.1 in /opt/conda/lib/python3.11/site-packages (from matplotlib) (1.4.5)\n",
      "Requirement already satisfied: numpy>=1.21 in /opt/conda/lib/python3.11/site-packages (from matplotlib) (1.26.4)\n",
      "Requirement already satisfied: packaging>=20.0 in /opt/conda/lib/python3.11/site-packages (from matplotlib) (24.0)\n",
      "Requirement already satisfied: pillow>=8 in /opt/conda/lib/python3.11/site-packages (from matplotlib) (10.3.0)\n",
      "Requirement already satisfied: pyparsing>=2.3.1 in /opt/conda/lib/python3.11/site-packages (from matplotlib) (3.1.2)\n",
      "Requirement already satisfied: python-dateutil>=2.7 in /opt/conda/lib/python3.11/site-packages (from matplotlib) (2.9.0.post0)\n",
      "Requirement already satisfied: six>=1.5 in /opt/conda/lib/python3.11/site-packages (from python-dateutil>=2.7->matplotlib) (1.16.0)\n",
      "Requirement already satisfied: numpy in /opt/conda/lib/python3.11/site-packages (1.26.4)\n",
      "Requirement already satisfied: xarray in /opt/conda/lib/python3.11/site-packages (2024.3.0)\n",
      "Requirement already satisfied: numpy>=1.23 in /opt/conda/lib/python3.11/site-packages (from xarray) (1.26.4)\n",
      "Requirement already satisfied: packaging>=22 in /opt/conda/lib/python3.11/site-packages (from xarray) (24.0)\n",
      "Requirement already satisfied: pandas>=1.5 in /opt/conda/lib/python3.11/site-packages (from xarray) (2.2.2)\n",
      "Requirement already satisfied: python-dateutil>=2.8.2 in /opt/conda/lib/python3.11/site-packages (from pandas>=1.5->xarray) (2.9.0.post0)\n",
      "Requirement already satisfied: pytz>=2020.1 in /opt/conda/lib/python3.11/site-packages (from pandas>=1.5->xarray) (2024.1)\n",
      "Requirement already satisfied: tzdata>=2022.7 in /opt/conda/lib/python3.11/site-packages (from pandas>=1.5->xarray) (2024.1)\n",
      "Requirement already satisfied: six>=1.5 in /opt/conda/lib/python3.11/site-packages (from python-dateutil>=2.8.2->pandas>=1.5->xarray) (1.16.0)\n",
      "Requirement already satisfied: rasterio in /opt/conda/lib/python3.11/site-packages (1.3.10)\n",
      "Requirement already satisfied: affine in /opt/conda/lib/python3.11/site-packages (from rasterio) (2.4.0)\n",
      "Requirement already satisfied: attrs in /opt/conda/lib/python3.11/site-packages (from rasterio) (23.2.0)\n",
      "Requirement already satisfied: certifi in /opt/conda/lib/python3.11/site-packages (from rasterio) (2024.2.2)\n",
      "Requirement already satisfied: click>=4.0 in /opt/conda/lib/python3.11/site-packages (from rasterio) (8.1.7)\n",
      "Requirement already satisfied: cligj>=0.5 in /opt/conda/lib/python3.11/site-packages (from rasterio) (0.7.2)\n",
      "Requirement already satisfied: numpy in /opt/conda/lib/python3.11/site-packages (from rasterio) (1.26.4)\n",
      "Requirement already satisfied: snuggs>=1.4.1 in /opt/conda/lib/python3.11/site-packages (from rasterio) (1.4.7)\n",
      "Requirement already satisfied: click-plugins in /opt/conda/lib/python3.11/site-packages (from rasterio) (1.1.1)\n",
      "Requirement already satisfied: setuptools in /home/jovyan/.local/lib/python3.11/site-packages (from rasterio) (75.1.0)\n",
      "Requirement already satisfied: pyparsing>=2.1.6 in /opt/conda/lib/python3.11/site-packages (from snuggs>=1.4.1->rasterio) (3.1.2)\n",
      "Collecting rio-cogeo\n",
      "  Using cached rio_cogeo-5.3.6-py3-none-any.whl.metadata (4.6 kB)\n",
      "Requirement already satisfied: click>=7.0 in /opt/conda/lib/python3.11/site-packages (from rio-cogeo) (8.1.7)\n",
      "Requirement already satisfied: rasterio>=1.3.3 in /opt/conda/lib/python3.11/site-packages (from rio-cogeo) (1.3.10)\n",
      "Collecting morecantile<6.0,>=5.0 (from rio-cogeo)\n",
      "  Using cached morecantile-5.4.2-py3-none-any.whl.metadata (7.0 kB)\n",
      "Requirement already satisfied: pydantic~=2.0 in /opt/conda/lib/python3.11/site-packages (from rio-cogeo) (2.7.1)\n",
      "Requirement already satisfied: attrs in /opt/conda/lib/python3.11/site-packages (from morecantile<6.0,>=5.0->rio-cogeo) (23.2.0)\n",
      "Requirement already satisfied: pyproj~=3.1 in /opt/conda/lib/python3.11/site-packages (from morecantile<6.0,>=5.0->rio-cogeo) (3.6.1)\n",
      "Requirement already satisfied: annotated-types>=0.4.0 in /opt/conda/lib/python3.11/site-packages (from pydantic~=2.0->rio-cogeo) (0.6.0)\n",
      "Requirement already satisfied: pydantic-core==2.18.2 in /opt/conda/lib/python3.11/site-packages (from pydantic~=2.0->rio-cogeo) (2.18.2)\n",
      "Requirement already satisfied: typing-extensions>=4.6.1 in /opt/conda/lib/python3.11/site-packages (from pydantic~=2.0->rio-cogeo) (4.11.0)\n",
      "Requirement already satisfied: affine in /opt/conda/lib/python3.11/site-packages (from rasterio>=1.3.3->rio-cogeo) (2.4.0)\n",
      "Requirement already satisfied: certifi in /opt/conda/lib/python3.11/site-packages (from rasterio>=1.3.3->rio-cogeo) (2024.2.2)\n",
      "Requirement already satisfied: cligj>=0.5 in /opt/conda/lib/python3.11/site-packages (from rasterio>=1.3.3->rio-cogeo) (0.7.2)\n",
      "Requirement already satisfied: numpy in /opt/conda/lib/python3.11/site-packages (from rasterio>=1.3.3->rio-cogeo) (1.26.4)\n",
      "Requirement already satisfied: snuggs>=1.4.1 in /opt/conda/lib/python3.11/site-packages (from rasterio>=1.3.3->rio-cogeo) (1.4.7)\n",
      "Requirement already satisfied: click-plugins in /opt/conda/lib/python3.11/site-packages (from rasterio>=1.3.3->rio-cogeo) (1.1.1)\n",
      "Requirement already satisfied: setuptools in /home/jovyan/.local/lib/python3.11/site-packages (from rasterio>=1.3.3->rio-cogeo) (75.1.0)\n",
      "Requirement already satisfied: pyparsing>=2.1.6 in /opt/conda/lib/python3.11/site-packages (from snuggs>=1.4.1->rasterio>=1.3.3->rio-cogeo) (3.1.2)\n",
      "Using cached rio_cogeo-5.3.6-py3-none-any.whl (20 kB)\n",
      "Using cached morecantile-5.4.2-py3-none-any.whl (49 kB)\n",
      "Installing collected packages: morecantile, rio-cogeo\n",
      "Successfully installed morecantile-5.4.2 rio-cogeo-5.3.6\n",
      "Requirement already satisfied: rioxarray in /opt/conda/lib/python3.11/site-packages (0.15.5)\n",
      "Requirement already satisfied: packaging in /opt/conda/lib/python3.11/site-packages (from rioxarray) (24.0)\n",
      "Requirement already satisfied: rasterio>=1.3 in /opt/conda/lib/python3.11/site-packages (from rioxarray) (1.3.10)\n",
      "Requirement already satisfied: xarray>=2022.3.0 in /opt/conda/lib/python3.11/site-packages (from rioxarray) (2024.3.0)\n",
      "Requirement already satisfied: pyproj>=3.3 in /opt/conda/lib/python3.11/site-packages (from rioxarray) (3.6.1)\n",
      "Requirement already satisfied: numpy>=1.23 in /opt/conda/lib/python3.11/site-packages (from rioxarray) (1.26.4)\n",
      "Requirement already satisfied: certifi in /opt/conda/lib/python3.11/site-packages (from pyproj>=3.3->rioxarray) (2024.2.2)\n",
      "Requirement already satisfied: affine in /opt/conda/lib/python3.11/site-packages (from rasterio>=1.3->rioxarray) (2.4.0)\n",
      "Requirement already satisfied: attrs in /opt/conda/lib/python3.11/site-packages (from rasterio>=1.3->rioxarray) (23.2.0)\n",
      "Requirement already satisfied: click>=4.0 in /opt/conda/lib/python3.11/site-packages (from rasterio>=1.3->rioxarray) (8.1.7)\n",
      "Requirement already satisfied: cligj>=0.5 in /opt/conda/lib/python3.11/site-packages (from rasterio>=1.3->rioxarray) (0.7.2)\n",
      "Requirement already satisfied: snuggs>=1.4.1 in /opt/conda/lib/python3.11/site-packages (from rasterio>=1.3->rioxarray) (1.4.7)\n",
      "Requirement already satisfied: click-plugins in /opt/conda/lib/python3.11/site-packages (from rasterio>=1.3->rioxarray) (1.1.1)\n",
      "Requirement already satisfied: setuptools in /home/jovyan/.local/lib/python3.11/site-packages (from rasterio>=1.3->rioxarray) (75.1.0)\n",
      "Requirement already satisfied: pandas>=1.5 in /opt/conda/lib/python3.11/site-packages (from xarray>=2022.3.0->rioxarray) (2.2.2)\n",
      "Requirement already satisfied: python-dateutil>=2.8.2 in /opt/conda/lib/python3.11/site-packages (from pandas>=1.5->xarray>=2022.3.0->rioxarray) (2.9.0.post0)\n",
      "Requirement already satisfied: pytz>=2020.1 in /opt/conda/lib/python3.11/site-packages (from pandas>=1.5->xarray>=2022.3.0->rioxarray) (2024.1)\n",
      "Requirement already satisfied: tzdata>=2022.7 in /opt/conda/lib/python3.11/site-packages (from pandas>=1.5->xarray>=2022.3.0->rioxarray) (2024.1)\n",
      "Requirement already satisfied: pyparsing>=2.1.6 in /opt/conda/lib/python3.11/site-packages (from snuggs>=1.4.1->rasterio>=1.3->rioxarray) (3.1.2)\n",
      "Requirement already satisfied: six>=1.5 in /opt/conda/lib/python3.11/site-packages (from python-dateutil>=2.8.2->pandas>=1.5->xarray>=2022.3.0->rioxarray) (1.16.0)\n"
     ]
    }
   ],
   "source": [
    "!pip install matplotlib\n",
    "!pip install numpy\n",
    "!pip install xarray\n",
    "!pip install rasterio\n",
    "!pip install rio-cogeo\n",
    "!pip install rioxarray"
   ]
  },
  {
   "cell_type": "markdown",
   "id": "f046fc67-8d02-4a10-b1e4-8016ef82436f",
   "metadata": {},
   "source": [
    "# Download the sample NetCDF file and save it in the input folder\n",
    "\n",
    "DESP CacheB will be used to download an [ERA5](https://www.ecmwf.int/en/forecasts/dataset/ecmwf-reanalysis-v5)  t2m (2 metre temperature) data selecting 2024-08-01 as date. \n",
    "\n",
    "The data will be saved locally in NetCDF format.\n",
    "\n",
    ">**_NOTE_**: the temporary password is valid for a limited period of time and needs to be regenerated and reconfigured periodically by running the cells above.\n",
    "\n",
    "The following file will be downlaoded locally: **t2m_era5_20240801.nc**"
   ]
  },
  {
   "cell_type": "code",
   "execution_count": 2,
   "id": "6baa75f7-3c88-4b8d-b8b9-538ff6be3f41",
   "metadata": {
    "scrolled": true
   },
   "outputs": [
    {
     "name": "stdin",
     "output_type": "stream",
     "text": [
      "Username:  dea@alia-space.com\n",
      "Password:  ········\n"
     ]
    }
   ],
   "source": [
    "%%capture cap\n",
    "%run ./../../cacheb/cacheb-authentication.py"
   ]
  },
  {
   "cell_type": "markdown",
   "id": "beef8667-e168-4fb5-a906-b1d4218d49f1",
   "metadata": {},
   "source": [
    "## You can use your own data!\n",
    "\n",
    ">**_NOTE_:** You can use your own NetCDF file, but please consider that the NetCDF file must have latitude and longitude coordinates defined in the range -180,180,-90,90. \n",
    "\n",
    "In case the original file has a different definition, applying, for instance, the following CDO command:\n",
    " \n",
    " ```\n",
    "cdo sellonlatbox,-180,180,-90,90 <input_file.nc> <output_file.nc>\n",
    "```\n",
    "\n",
    "More info on CDO (Climate Data Operators) are available [here](https://code.mpimet.mpg.de/projects/cdo)"
   ]
  },
  {
   "cell_type": "code",
   "execution_count": 3,
   "id": "d25659d6-7ba6-4815-b650-81843564e5c3",
   "metadata": {},
   "outputs": [],
   "source": [
    "output_1 = cap.stdout.split('}\\n')\n",
    "token = output_1[-1][0:-1]\n",
    "\n",
    "from pathlib import Path\n",
    "with open(Path.home() / \".netrc\", \"a\") as fp:\n",
    "    print\n",
    "    fp.write(token)"
   ]
  },
  {
   "cell_type": "markdown",
   "id": "3be532a4-9b15-4898-9ec0-4c1e44930b0e",
   "metadata": {},
   "source": [
    "## Define variables"
   ]
  },
  {
   "cell_type": "code",
   "execution_count": 6,
   "id": "e1a95afa-270b-4899-a2c9-be1de841eb02",
   "metadata": {},
   "outputs": [],
   "source": [
    "file_path = \"t2m_era5_20240801.nc\"\n",
    "tif_path = \"t2m_era5_20240801.tiff\""
   ]
  },
  {
   "cell_type": "markdown",
   "id": "c99c6a10-00c4-4dc6-ac30-6e7008dc153e",
   "metadata": {},
   "source": [
    "## Get data\n",
    "\n",
    "From Destine Platform ChacheB service"
   ]
  },
  {
   "cell_type": "code",
   "execution_count": 8,
   "id": "20acb5ab-11d0-44c6-b7b8-a24cc72c8378",
   "metadata": {},
   "outputs": [
    {
     "name": "stdout",
     "output_type": "stream",
     "text": [
      "Data to download...\n",
      "<xarray.DataArray 't2m' (latitude: 721, longitude: 1440)> Size: 4MB\n",
      "dask.array<getitem, shape=(721, 1440), dtype=float32, chunksize=(64, 64), chunktype=numpy.ndarray>\n",
      "Coordinates:\n",
      "    entireAtmosphere  float32 4B 0.0\n",
      "  * latitude          (latitude) float64 6kB 90.0 89.75 89.5 ... -89.75 -90.0\n",
      "    number            int64 8B 0\n",
      "    surface           float64 8B 0.0\n",
      "    valid_time        datetime64[ns] 8B 2024-08-01T12:00:00\n",
      "  * longitude         (longitude) float64 12kB -179.8 -179.5 ... 179.8 180.0\n",
      "Attributes:\n",
      "    units:    C\n",
      "Your file t2m_era5_20240801.nc is ready!\n"
     ]
    }
   ],
   "source": [
    "import xarray as xr\n",
    "\n",
    "\n",
    "data = xr.open_dataset(\n",
    "        \"https://cacheb.dcms.destine.eu/era5/reanalysis-era5-single-levels-v0.zarr\",\n",
    "        engine=\"zarr\",\n",
    "        storage_options={\"client_kwargs\": {\"trust_env\": \"true\"}},\n",
    "        chunks={},\n",
    "    )\n",
    "\n",
    "# Convert to Celsius\n",
    "\n",
    "t2m = data.t2m.astype(\"float32\") - 273.15\n",
    "t2m.attrs[\"units\"] = \"C\"\n",
    "\n",
    "t2m = t2m.assign_coords(longitude=(t2m['longitude'] % 360))  # First ensure longitude is in 0-360 range\n",
    "t2m['longitude'] = xr.where(t2m['longitude'] > 180, t2m['longitude'] - 360, t2m['longitude'])  # Then shift to -180 to 180\n",
    "\n",
    "# Sort by longitude to maintain the proper order\n",
    "t2m = t2m.sortby('longitude')\n",
    "\n",
    "# t2m['longitude'] = xr.where(t2m['longitude'] > 180, t2m['longitude'] - 360, t2m['longitude'])\n",
    "\n",
    "\n",
    "\n",
    "# get a single time step\n",
    "t2m_slice = t2m.sel(valid_time=\"2024-08-01T12:00:00\")\n",
    "\n",
    "print(f\"Data to download...\")\n",
    "print(t2m_slice)\n",
    "\n",
    "t2m_slice = t2m_slice.compute()\n",
    "# save as NetCDF\n",
    "t2m_slice.to_netcdf(file_path)\n",
    "\n",
    "print(f\"Your file {file_path} is ready!\")"
   ]
  },
  {
   "cell_type": "markdown",
   "id": "b265efab-a3d2-4a8d-a10d-b196ed300e86",
   "metadata": {},
   "source": [
    "## Wait until your NetCDF file appear in your workspace before executing the next cell. \n",
    "\n",
    ">**_NOTE:_** The download of the file should take about 1 minute. The file _t2m_era5_20240801.nc_ should appear in the notebook workspace"
   ]
  },
  {
   "cell_type": "markdown",
   "id": "582cdcb0-a546-468a-837d-22473b4fb196",
   "metadata": {},
   "source": [
    "# Convert NetCDF to GeoTiff\n",
    "\n",
    "The following file will be downlaoded locally: **t2m_era5_20240801.tiff**"
   ]
  },
  {
   "cell_type": "markdown",
   "id": "635b2857-4b94-44ac-8697-3ec8074a68b6",
   "metadata": {},
   "source": [
    "## 2. Import dependencies "
   ]
  },
  {
   "cell_type": "code",
   "execution_count": 9,
   "id": "cd641ba3-b091-4449-a68f-db494cb1414e",
   "metadata": {},
   "outputs": [],
   "source": [
    "import xarray as xr\n",
    "import rioxarray"
   ]
  },
  {
   "cell_type": "markdown",
   "id": "3aad6bee-a4cb-4157-b5e4-f347a33a942b",
   "metadata": {},
   "source": [
    "## 3. Open dataset and select variable (e.g. var='t2m')"
   ]
  },
  {
   "cell_type": "code",
   "execution_count": 10,
   "id": "e28f6559-fb7a-413e-a8c0-482225bd21d7",
   "metadata": {},
   "outputs": [],
   "source": [
    "var = 't2m'\n",
    "data = xr.open_dataset(file_path)\n",
    "data = data[var]"
   ]
  },
  {
   "cell_type": "markdown",
   "id": "00f17cfa-0644-4bbb-96a4-4d21e351800a",
   "metadata": {},
   "source": [
    "## 4. Apply CRS (assuming the coordinates are longitude and latitude)"
   ]
  },
  {
   "cell_type": "code",
   "execution_count": 11,
   "id": "d0594cdb-f63d-4a9b-aacd-b304e3384f5d",
   "metadata": {},
   "outputs": [
    {
     "data": {
      "text/html": [
       "<div><svg style=\"position: absolute; width: 0; height: 0; overflow: hidden\">\n",
       "<defs>\n",
       "<symbol id=\"icon-database\" viewBox=\"0 0 32 32\">\n",
       "<path d=\"M16 0c-8.837 0-16 2.239-16 5v4c0 2.761 7.163 5 16 5s16-2.239 16-5v-4c0-2.761-7.163-5-16-5z\"></path>\n",
       "<path d=\"M16 17c-8.837 0-16-2.239-16-5v6c0 2.761 7.163 5 16 5s16-2.239 16-5v-6c0 2.761-7.163 5-16 5z\"></path>\n",
       "<path d=\"M16 26c-8.837 0-16-2.239-16-5v6c0 2.761 7.163 5 16 5s16-2.239 16-5v-6c0 2.761-7.163 5-16 5z\"></path>\n",
       "</symbol>\n",
       "<symbol id=\"icon-file-text2\" viewBox=\"0 0 32 32\">\n",
       "<path d=\"M28.681 7.159c-0.694-0.947-1.662-2.053-2.724-3.116s-2.169-2.030-3.116-2.724c-1.612-1.182-2.393-1.319-2.841-1.319h-15.5c-1.378 0-2.5 1.121-2.5 2.5v27c0 1.378 1.122 2.5 2.5 2.5h23c1.378 0 2.5-1.122 2.5-2.5v-19.5c0-0.448-0.137-1.23-1.319-2.841zM24.543 5.457c0.959 0.959 1.712 1.825 2.268 2.543h-4.811v-4.811c0.718 0.556 1.584 1.309 2.543 2.268zM28 29.5c0 0.271-0.229 0.5-0.5 0.5h-23c-0.271 0-0.5-0.229-0.5-0.5v-27c0-0.271 0.229-0.5 0.5-0.5 0 0 15.499-0 15.5 0v7c0 0.552 0.448 1 1 1h7v19.5z\"></path>\n",
       "<path d=\"M23 26h-14c-0.552 0-1-0.448-1-1s0.448-1 1-1h14c0.552 0 1 0.448 1 1s-0.448 1-1 1z\"></path>\n",
       "<path d=\"M23 22h-14c-0.552 0-1-0.448-1-1s0.448-1 1-1h14c0.552 0 1 0.448 1 1s-0.448 1-1 1z\"></path>\n",
       "<path d=\"M23 18h-14c-0.552 0-1-0.448-1-1s0.448-1 1-1h14c0.552 0 1 0.448 1 1s-0.448 1-1 1z\"></path>\n",
       "</symbol>\n",
       "</defs>\n",
       "</svg>\n",
       "<style>/* CSS stylesheet for displaying xarray objects in jupyterlab.\n",
       " *\n",
       " */\n",
       "\n",
       ":root {\n",
       "  --xr-font-color0: var(--jp-content-font-color0, rgba(0, 0, 0, 1));\n",
       "  --xr-font-color2: var(--jp-content-font-color2, rgba(0, 0, 0, 0.54));\n",
       "  --xr-font-color3: var(--jp-content-font-color3, rgba(0, 0, 0, 0.38));\n",
       "  --xr-border-color: var(--jp-border-color2, #e0e0e0);\n",
       "  --xr-disabled-color: var(--jp-layout-color3, #bdbdbd);\n",
       "  --xr-background-color: var(--jp-layout-color0, white);\n",
       "  --xr-background-color-row-even: var(--jp-layout-color1, white);\n",
       "  --xr-background-color-row-odd: var(--jp-layout-color2, #eeeeee);\n",
       "}\n",
       "\n",
       "html[theme=dark],\n",
       "body[data-theme=dark],\n",
       "body.vscode-dark {\n",
       "  --xr-font-color0: rgba(255, 255, 255, 1);\n",
       "  --xr-font-color2: rgba(255, 255, 255, 0.54);\n",
       "  --xr-font-color3: rgba(255, 255, 255, 0.38);\n",
       "  --xr-border-color: #1F1F1F;\n",
       "  --xr-disabled-color: #515151;\n",
       "  --xr-background-color: #111111;\n",
       "  --xr-background-color-row-even: #111111;\n",
       "  --xr-background-color-row-odd: #313131;\n",
       "}\n",
       "\n",
       ".xr-wrap {\n",
       "  display: block !important;\n",
       "  min-width: 300px;\n",
       "  max-width: 700px;\n",
       "}\n",
       "\n",
       ".xr-text-repr-fallback {\n",
       "  /* fallback to plain text repr when CSS is not injected (untrusted notebook) */\n",
       "  display: none;\n",
       "}\n",
       "\n",
       ".xr-header {\n",
       "  padding-top: 6px;\n",
       "  padding-bottom: 6px;\n",
       "  margin-bottom: 4px;\n",
       "  border-bottom: solid 1px var(--xr-border-color);\n",
       "}\n",
       "\n",
       ".xr-header > div,\n",
       ".xr-header > ul {\n",
       "  display: inline;\n",
       "  margin-top: 0;\n",
       "  margin-bottom: 0;\n",
       "}\n",
       "\n",
       ".xr-obj-type,\n",
       ".xr-array-name {\n",
       "  margin-left: 2px;\n",
       "  margin-right: 10px;\n",
       "}\n",
       "\n",
       ".xr-obj-type {\n",
       "  color: var(--xr-font-color2);\n",
       "}\n",
       "\n",
       ".xr-sections {\n",
       "  padding-left: 0 !important;\n",
       "  display: grid;\n",
       "  grid-template-columns: 150px auto auto 1fr 20px 20px;\n",
       "}\n",
       "\n",
       ".xr-section-item {\n",
       "  display: contents;\n",
       "}\n",
       "\n",
       ".xr-section-item input {\n",
       "  display: none;\n",
       "}\n",
       "\n",
       ".xr-section-item input + label {\n",
       "  color: var(--xr-disabled-color);\n",
       "}\n",
       "\n",
       ".xr-section-item input:enabled + label {\n",
       "  cursor: pointer;\n",
       "  color: var(--xr-font-color2);\n",
       "}\n",
       "\n",
       ".xr-section-item input:enabled + label:hover {\n",
       "  color: var(--xr-font-color0);\n",
       "}\n",
       "\n",
       ".xr-section-summary {\n",
       "  grid-column: 1;\n",
       "  color: var(--xr-font-color2);\n",
       "  font-weight: 500;\n",
       "}\n",
       "\n",
       ".xr-section-summary > span {\n",
       "  display: inline-block;\n",
       "  padding-left: 0.5em;\n",
       "}\n",
       "\n",
       ".xr-section-summary-in:disabled + label {\n",
       "  color: var(--xr-font-color2);\n",
       "}\n",
       "\n",
       ".xr-section-summary-in + label:before {\n",
       "  display: inline-block;\n",
       "  content: '►';\n",
       "  font-size: 11px;\n",
       "  width: 15px;\n",
       "  text-align: center;\n",
       "}\n",
       "\n",
       ".xr-section-summary-in:disabled + label:before {\n",
       "  color: var(--xr-disabled-color);\n",
       "}\n",
       "\n",
       ".xr-section-summary-in:checked + label:before {\n",
       "  content: '▼';\n",
       "}\n",
       "\n",
       ".xr-section-summary-in:checked + label > span {\n",
       "  display: none;\n",
       "}\n",
       "\n",
       ".xr-section-summary,\n",
       ".xr-section-inline-details {\n",
       "  padding-top: 4px;\n",
       "  padding-bottom: 4px;\n",
       "}\n",
       "\n",
       ".xr-section-inline-details {\n",
       "  grid-column: 2 / -1;\n",
       "}\n",
       "\n",
       ".xr-section-details {\n",
       "  display: none;\n",
       "  grid-column: 1 / -1;\n",
       "  margin-bottom: 5px;\n",
       "}\n",
       "\n",
       ".xr-section-summary-in:checked ~ .xr-section-details {\n",
       "  display: contents;\n",
       "}\n",
       "\n",
       ".xr-array-wrap {\n",
       "  grid-column: 1 / -1;\n",
       "  display: grid;\n",
       "  grid-template-columns: 20px auto;\n",
       "}\n",
       "\n",
       ".xr-array-wrap > label {\n",
       "  grid-column: 1;\n",
       "  vertical-align: top;\n",
       "}\n",
       "\n",
       ".xr-preview {\n",
       "  color: var(--xr-font-color3);\n",
       "}\n",
       "\n",
       ".xr-array-preview,\n",
       ".xr-array-data {\n",
       "  padding: 0 5px !important;\n",
       "  grid-column: 2;\n",
       "}\n",
       "\n",
       ".xr-array-data,\n",
       ".xr-array-in:checked ~ .xr-array-preview {\n",
       "  display: none;\n",
       "}\n",
       "\n",
       ".xr-array-in:checked ~ .xr-array-data,\n",
       ".xr-array-preview {\n",
       "  display: inline-block;\n",
       "}\n",
       "\n",
       ".xr-dim-list {\n",
       "  display: inline-block !important;\n",
       "  list-style: none;\n",
       "  padding: 0 !important;\n",
       "  margin: 0;\n",
       "}\n",
       "\n",
       ".xr-dim-list li {\n",
       "  display: inline-block;\n",
       "  padding: 0;\n",
       "  margin: 0;\n",
       "}\n",
       "\n",
       ".xr-dim-list:before {\n",
       "  content: '(';\n",
       "}\n",
       "\n",
       ".xr-dim-list:after {\n",
       "  content: ')';\n",
       "}\n",
       "\n",
       ".xr-dim-list li:not(:last-child):after {\n",
       "  content: ',';\n",
       "  padding-right: 5px;\n",
       "}\n",
       "\n",
       ".xr-has-index {\n",
       "  font-weight: bold;\n",
       "}\n",
       "\n",
       ".xr-var-list,\n",
       ".xr-var-item {\n",
       "  display: contents;\n",
       "}\n",
       "\n",
       ".xr-var-item > div,\n",
       ".xr-var-item label,\n",
       ".xr-var-item > .xr-var-name span {\n",
       "  background-color: var(--xr-background-color-row-even);\n",
       "  margin-bottom: 0;\n",
       "}\n",
       "\n",
       ".xr-var-item > .xr-var-name:hover span {\n",
       "  padding-right: 5px;\n",
       "}\n",
       "\n",
       ".xr-var-list > li:nth-child(odd) > div,\n",
       ".xr-var-list > li:nth-child(odd) > label,\n",
       ".xr-var-list > li:nth-child(odd) > .xr-var-name span {\n",
       "  background-color: var(--xr-background-color-row-odd);\n",
       "}\n",
       "\n",
       ".xr-var-name {\n",
       "  grid-column: 1;\n",
       "}\n",
       "\n",
       ".xr-var-dims {\n",
       "  grid-column: 2;\n",
       "}\n",
       "\n",
       ".xr-var-dtype {\n",
       "  grid-column: 3;\n",
       "  text-align: right;\n",
       "  color: var(--xr-font-color2);\n",
       "}\n",
       "\n",
       ".xr-var-preview {\n",
       "  grid-column: 4;\n",
       "}\n",
       "\n",
       ".xr-index-preview {\n",
       "  grid-column: 2 / 5;\n",
       "  color: var(--xr-font-color2);\n",
       "}\n",
       "\n",
       ".xr-var-name,\n",
       ".xr-var-dims,\n",
       ".xr-var-dtype,\n",
       ".xr-preview,\n",
       ".xr-attrs dt {\n",
       "  white-space: nowrap;\n",
       "  overflow: hidden;\n",
       "  text-overflow: ellipsis;\n",
       "  padding-right: 10px;\n",
       "}\n",
       "\n",
       ".xr-var-name:hover,\n",
       ".xr-var-dims:hover,\n",
       ".xr-var-dtype:hover,\n",
       ".xr-attrs dt:hover {\n",
       "  overflow: visible;\n",
       "  width: auto;\n",
       "  z-index: 1;\n",
       "}\n",
       "\n",
       ".xr-var-attrs,\n",
       ".xr-var-data,\n",
       ".xr-index-data {\n",
       "  display: none;\n",
       "  background-color: var(--xr-background-color) !important;\n",
       "  padding-bottom: 5px !important;\n",
       "}\n",
       "\n",
       ".xr-var-attrs-in:checked ~ .xr-var-attrs,\n",
       ".xr-var-data-in:checked ~ .xr-var-data,\n",
       ".xr-index-data-in:checked ~ .xr-index-data {\n",
       "  display: block;\n",
       "}\n",
       "\n",
       ".xr-var-data > table {\n",
       "  float: right;\n",
       "}\n",
       "\n",
       ".xr-var-name span,\n",
       ".xr-var-data,\n",
       ".xr-index-name div,\n",
       ".xr-index-data,\n",
       ".xr-attrs {\n",
       "  padding-left: 25px !important;\n",
       "}\n",
       "\n",
       ".xr-attrs,\n",
       ".xr-var-attrs,\n",
       ".xr-var-data,\n",
       ".xr-index-data {\n",
       "  grid-column: 1 / -1;\n",
       "}\n",
       "\n",
       "dl.xr-attrs {\n",
       "  padding: 0;\n",
       "  margin: 0;\n",
       "  display: grid;\n",
       "  grid-template-columns: 125px auto;\n",
       "}\n",
       "\n",
       ".xr-attrs dt,\n",
       ".xr-attrs dd {\n",
       "  padding: 0;\n",
       "  margin: 0;\n",
       "  float: left;\n",
       "  padding-right: 10px;\n",
       "  width: auto;\n",
       "}\n",
       "\n",
       ".xr-attrs dt {\n",
       "  font-weight: normal;\n",
       "  grid-column: 1;\n",
       "}\n",
       "\n",
       ".xr-attrs dt:hover span {\n",
       "  display: inline-block;\n",
       "  background: var(--xr-background-color);\n",
       "  padding-right: 10px;\n",
       "}\n",
       "\n",
       ".xr-attrs dd {\n",
       "  grid-column: 2;\n",
       "  white-space: pre-wrap;\n",
       "  word-break: break-all;\n",
       "}\n",
       "\n",
       ".xr-icon-database,\n",
       ".xr-icon-file-text2,\n",
       ".xr-no-icon {\n",
       "  display: inline-block;\n",
       "  vertical-align: middle;\n",
       "  width: 1em;\n",
       "  height: 1.5em !important;\n",
       "  stroke-width: 0;\n",
       "  stroke: currentColor;\n",
       "  fill: currentColor;\n",
       "}\n",
       "</style><pre class='xr-text-repr-fallback'>&lt;xarray.DataArray &#x27;t2m&#x27; (y: 721, x: 1440)&gt; Size: 4MB\n",
       "[1038240 values with dtype=float32]\n",
       "Coordinates:\n",
       "    entireAtmosphere  float32 4B ...\n",
       "  * y                 (y) float64 6kB 90.0 89.75 89.5 ... -89.5 -89.75 -90.0\n",
       "    number            int64 8B ...\n",
       "    surface           float64 8B ...\n",
       "    valid_time        datetime64[ns] 8B ...\n",
       "  * x                 (x) float64 12kB -179.8 -179.5 -179.2 ... 179.8 180.0\n",
       "    spatial_ref       int64 8B 0\n",
       "Attributes:\n",
       "    units:    C</pre><div class='xr-wrap' style='display:none'><div class='xr-header'><div class='xr-obj-type'>xarray.DataArray</div><div class='xr-array-name'>'t2m'</div><ul class='xr-dim-list'><li><span class='xr-has-index'>y</span>: 721</li><li><span class='xr-has-index'>x</span>: 1440</li></ul></div><ul class='xr-sections'><li class='xr-section-item'><div class='xr-array-wrap'><input id='section-15460442-6e7d-4e29-8884-c75da6d5813e' class='xr-array-in' type='checkbox' checked><label for='section-15460442-6e7d-4e29-8884-c75da6d5813e' title='Show/hide data repr'><svg class='icon xr-icon-database'><use xlink:href='#icon-database'></use></svg></label><div class='xr-array-preview xr-preview'><span>...</span></div><div class='xr-array-data'><pre>[1038240 values with dtype=float32]</pre></div></div></li><li class='xr-section-item'><input id='section-e958f0f8-7a87-4865-bc36-075309fabaa6' class='xr-section-summary-in' type='checkbox'  checked><label for='section-e958f0f8-7a87-4865-bc36-075309fabaa6' class='xr-section-summary' >Coordinates: <span>(7)</span></label><div class='xr-section-inline-details'></div><div class='xr-section-details'><ul class='xr-var-list'><li class='xr-var-item'><div class='xr-var-name'><span>entireAtmosphere</span></div><div class='xr-var-dims'>()</div><div class='xr-var-dtype'>float32</div><div class='xr-var-preview xr-preview'>...</div><input id='attrs-50f88327-d20b-4d01-94a2-be89ff3f50b0' class='xr-var-attrs-in' type='checkbox' disabled><label for='attrs-50f88327-d20b-4d01-94a2-be89ff3f50b0' title='Show/Hide attributes'><svg class='icon xr-icon-file-text2'><use xlink:href='#icon-file-text2'></use></svg></label><input id='data-3aa00a5f-7913-460a-9e7f-d75aea78dadf' class='xr-var-data-in' type='checkbox'><label for='data-3aa00a5f-7913-460a-9e7f-d75aea78dadf' title='Show/Hide data repr'><svg class='icon xr-icon-database'><use xlink:href='#icon-database'></use></svg></label><div class='xr-var-attrs'><dl class='xr-attrs'></dl></div><div class='xr-var-data'><pre>[1 values with dtype=float32]</pre></div></li><li class='xr-var-item'><div class='xr-var-name'><span class='xr-has-index'>y</span></div><div class='xr-var-dims'>(y)</div><div class='xr-var-dtype'>float64</div><div class='xr-var-preview xr-preview'>90.0 89.75 89.5 ... -89.75 -90.0</div><input id='attrs-d0b8a4c8-ac14-40d4-b6d1-88ca180b7bc9' class='xr-var-attrs-in' type='checkbox' ><label for='attrs-d0b8a4c8-ac14-40d4-b6d1-88ca180b7bc9' title='Show/Hide attributes'><svg class='icon xr-icon-file-text2'><use xlink:href='#icon-file-text2'></use></svg></label><input id='data-1041795b-e610-45d8-b7f9-587952d620fd' class='xr-var-data-in' type='checkbox'><label for='data-1041795b-e610-45d8-b7f9-587952d620fd' title='Show/Hide data repr'><svg class='icon xr-icon-database'><use xlink:href='#icon-database'></use></svg></label><div class='xr-var-attrs'><dl class='xr-attrs'><dt><span>long_name :</span></dt><dd>latitude</dd><dt><span>standard_name :</span></dt><dd>latitude</dd><dt><span>stored_direction :</span></dt><dd>decreasing</dd><dt><span>units :</span></dt><dd>degrees_north</dd></dl></div><div class='xr-var-data'><pre>array([ 90.  ,  89.75,  89.5 , ..., -89.5 , -89.75, -90.  ])</pre></div></li><li class='xr-var-item'><div class='xr-var-name'><span>number</span></div><div class='xr-var-dims'>()</div><div class='xr-var-dtype'>int64</div><div class='xr-var-preview xr-preview'>...</div><input id='attrs-6ab01599-e976-41ba-ab8e-bbdafbd7c9a3' class='xr-var-attrs-in' type='checkbox' disabled><label for='attrs-6ab01599-e976-41ba-ab8e-bbdafbd7c9a3' title='Show/Hide attributes'><svg class='icon xr-icon-file-text2'><use xlink:href='#icon-file-text2'></use></svg></label><input id='data-a6fe1936-30e1-44f9-ae0e-e0903d831ce5' class='xr-var-data-in' type='checkbox'><label for='data-a6fe1936-30e1-44f9-ae0e-e0903d831ce5' title='Show/Hide data repr'><svg class='icon xr-icon-database'><use xlink:href='#icon-database'></use></svg></label><div class='xr-var-attrs'><dl class='xr-attrs'></dl></div><div class='xr-var-data'><pre>[1 values with dtype=int64]</pre></div></li><li class='xr-var-item'><div class='xr-var-name'><span>surface</span></div><div class='xr-var-dims'>()</div><div class='xr-var-dtype'>float64</div><div class='xr-var-preview xr-preview'>...</div><input id='attrs-6e3639a1-1a77-4452-a58d-74e4b92ba1b3' class='xr-var-attrs-in' type='checkbox' disabled><label for='attrs-6e3639a1-1a77-4452-a58d-74e4b92ba1b3' title='Show/Hide attributes'><svg class='icon xr-icon-file-text2'><use xlink:href='#icon-file-text2'></use></svg></label><input id='data-e330133e-0539-4407-812c-bbd03f813e78' class='xr-var-data-in' type='checkbox'><label for='data-e330133e-0539-4407-812c-bbd03f813e78' title='Show/Hide data repr'><svg class='icon xr-icon-database'><use xlink:href='#icon-database'></use></svg></label><div class='xr-var-attrs'><dl class='xr-attrs'></dl></div><div class='xr-var-data'><pre>[1 values with dtype=float64]</pre></div></li><li class='xr-var-item'><div class='xr-var-name'><span>valid_time</span></div><div class='xr-var-dims'>()</div><div class='xr-var-dtype'>datetime64[ns]</div><div class='xr-var-preview xr-preview'>...</div><input id='attrs-ebbbdca3-bf46-4d4e-a8e7-8e586b15a14a' class='xr-var-attrs-in' type='checkbox' disabled><label for='attrs-ebbbdca3-bf46-4d4e-a8e7-8e586b15a14a' title='Show/Hide attributes'><svg class='icon xr-icon-file-text2'><use xlink:href='#icon-file-text2'></use></svg></label><input id='data-ad17b20c-c51f-4e93-902a-8daba6b9fd1d' class='xr-var-data-in' type='checkbox'><label for='data-ad17b20c-c51f-4e93-902a-8daba6b9fd1d' title='Show/Hide data repr'><svg class='icon xr-icon-database'><use xlink:href='#icon-database'></use></svg></label><div class='xr-var-attrs'><dl class='xr-attrs'></dl></div><div class='xr-var-data'><pre>[1 values with dtype=datetime64[ns]]</pre></div></li><li class='xr-var-item'><div class='xr-var-name'><span class='xr-has-index'>x</span></div><div class='xr-var-dims'>(x)</div><div class='xr-var-dtype'>float64</div><div class='xr-var-preview xr-preview'>-179.8 -179.5 ... 179.8 180.0</div><input id='attrs-60c817e3-315b-4705-829d-da37939198e9' class='xr-var-attrs-in' type='checkbox' disabled><label for='attrs-60c817e3-315b-4705-829d-da37939198e9' title='Show/Hide attributes'><svg class='icon xr-icon-file-text2'><use xlink:href='#icon-file-text2'></use></svg></label><input id='data-3e2ea1a8-6d81-4600-8df9-7952c3cd9ad5' class='xr-var-data-in' type='checkbox'><label for='data-3e2ea1a8-6d81-4600-8df9-7952c3cd9ad5' title='Show/Hide data repr'><svg class='icon xr-icon-database'><use xlink:href='#icon-database'></use></svg></label><div class='xr-var-attrs'><dl class='xr-attrs'></dl></div><div class='xr-var-data'><pre>array([-179.75, -179.5 , -179.25, ...,  179.5 ,  179.75,  180.  ])</pre></div></li><li class='xr-var-item'><div class='xr-var-name'><span>spatial_ref</span></div><div class='xr-var-dims'>()</div><div class='xr-var-dtype'>int64</div><div class='xr-var-preview xr-preview'>0</div><input id='attrs-a406e8da-6c6c-4b14-8e37-36a16e04f1ab' class='xr-var-attrs-in' type='checkbox' ><label for='attrs-a406e8da-6c6c-4b14-8e37-36a16e04f1ab' title='Show/Hide attributes'><svg class='icon xr-icon-file-text2'><use xlink:href='#icon-file-text2'></use></svg></label><input id='data-01ffd6a8-7503-4082-bd92-fb54b96a1145' class='xr-var-data-in' type='checkbox'><label for='data-01ffd6a8-7503-4082-bd92-fb54b96a1145' title='Show/Hide data repr'><svg class='icon xr-icon-database'><use xlink:href='#icon-database'></use></svg></label><div class='xr-var-attrs'><dl class='xr-attrs'><dt><span>crs_wkt :</span></dt><dd>GEOGCS[&quot;WGS 84&quot;,DATUM[&quot;WGS_1984&quot;,SPHEROID[&quot;WGS 84&quot;,6378137,298.257223563,AUTHORITY[&quot;EPSG&quot;,&quot;7030&quot;]],AUTHORITY[&quot;EPSG&quot;,&quot;6326&quot;]],PRIMEM[&quot;Greenwich&quot;,0,AUTHORITY[&quot;EPSG&quot;,&quot;8901&quot;]],UNIT[&quot;degree&quot;,0.0174532925199433,AUTHORITY[&quot;EPSG&quot;,&quot;9122&quot;]],AXIS[&quot;Latitude&quot;,NORTH],AXIS[&quot;Longitude&quot;,EAST],AUTHORITY[&quot;EPSG&quot;,&quot;4326&quot;]]</dd><dt><span>semi_major_axis :</span></dt><dd>6378137.0</dd><dt><span>semi_minor_axis :</span></dt><dd>6356752.314245179</dd><dt><span>inverse_flattening :</span></dt><dd>298.257223563</dd><dt><span>reference_ellipsoid_name :</span></dt><dd>WGS 84</dd><dt><span>longitude_of_prime_meridian :</span></dt><dd>0.0</dd><dt><span>prime_meridian_name :</span></dt><dd>Greenwich</dd><dt><span>geographic_crs_name :</span></dt><dd>WGS 84</dd><dt><span>horizontal_datum_name :</span></dt><dd>World Geodetic System 1984</dd><dt><span>grid_mapping_name :</span></dt><dd>latitude_longitude</dd><dt><span>spatial_ref :</span></dt><dd>GEOGCS[&quot;WGS 84&quot;,DATUM[&quot;WGS_1984&quot;,SPHEROID[&quot;WGS 84&quot;,6378137,298.257223563,AUTHORITY[&quot;EPSG&quot;,&quot;7030&quot;]],AUTHORITY[&quot;EPSG&quot;,&quot;6326&quot;]],PRIMEM[&quot;Greenwich&quot;,0,AUTHORITY[&quot;EPSG&quot;,&quot;8901&quot;]],UNIT[&quot;degree&quot;,0.0174532925199433,AUTHORITY[&quot;EPSG&quot;,&quot;9122&quot;]],AXIS[&quot;Latitude&quot;,NORTH],AXIS[&quot;Longitude&quot;,EAST],AUTHORITY[&quot;EPSG&quot;,&quot;4326&quot;]]</dd></dl></div><div class='xr-var-data'><pre>array(0)</pre></div></li></ul></div></li><li class='xr-section-item'><input id='section-14d420d8-2a02-42d8-aed0-a5dd8a500de3' class='xr-section-summary-in' type='checkbox'  ><label for='section-14d420d8-2a02-42d8-aed0-a5dd8a500de3' class='xr-section-summary' >Indexes: <span>(2)</span></label><div class='xr-section-inline-details'></div><div class='xr-section-details'><ul class='xr-var-list'><li class='xr-var-item'><div class='xr-index-name'><div>y</div></div><div class='xr-index-preview'>PandasIndex</div><div></div><input id='index-8ab9f98e-9e57-47e8-b50a-281943380422' class='xr-index-data-in' type='checkbox'/><label for='index-8ab9f98e-9e57-47e8-b50a-281943380422' title='Show/Hide index repr'><svg class='icon xr-icon-database'><use xlink:href='#icon-database'></use></svg></label><div class='xr-index-data'><pre>PandasIndex(Index([  90.0,  89.75,   89.5,  89.25,   89.0,  88.75,   88.5,  88.25,   88.0,\n",
       "        87.75,\n",
       "       ...\n",
       "       -87.75,  -88.0, -88.25,  -88.5, -88.75,  -89.0, -89.25,  -89.5, -89.75,\n",
       "        -90.0],\n",
       "      dtype=&#x27;float64&#x27;, name=&#x27;y&#x27;, length=721))</pre></div></li><li class='xr-var-item'><div class='xr-index-name'><div>x</div></div><div class='xr-index-preview'>PandasIndex</div><div></div><input id='index-49ee6272-38f6-431a-a53b-6ec94805092f' class='xr-index-data-in' type='checkbox'/><label for='index-49ee6272-38f6-431a-a53b-6ec94805092f' title='Show/Hide index repr'><svg class='icon xr-icon-database'><use xlink:href='#icon-database'></use></svg></label><div class='xr-index-data'><pre>PandasIndex(Index([-179.75,  -179.5, -179.25,  -179.0, -178.75,  -178.5, -178.25,  -178.0,\n",
       "       -177.75,  -177.5,\n",
       "       ...\n",
       "        177.75,   178.0,  178.25,   178.5,  178.75,   179.0,  179.25,   179.5,\n",
       "        179.75,   180.0],\n",
       "      dtype=&#x27;float64&#x27;, name=&#x27;x&#x27;, length=1440))</pre></div></li></ul></div></li><li class='xr-section-item'><input id='section-da5301b4-4c05-42c6-bbc3-6803a9f6ba41' class='xr-section-summary-in' type='checkbox'  checked><label for='section-da5301b4-4c05-42c6-bbc3-6803a9f6ba41' class='xr-section-summary' >Attributes: <span>(1)</span></label><div class='xr-section-inline-details'></div><div class='xr-section-details'><dl class='xr-attrs'><dt><span>units :</span></dt><dd>C</dd></dl></div></li></ul></div></div>"
      ],
      "text/plain": [
       "<xarray.DataArray 't2m' (y: 721, x: 1440)> Size: 4MB\n",
       "[1038240 values with dtype=float32]\n",
       "Coordinates:\n",
       "    entireAtmosphere  float32 4B ...\n",
       "  * y                 (y) float64 6kB 90.0 89.75 89.5 ... -89.5 -89.75 -90.0\n",
       "    number            int64 8B ...\n",
       "    surface           float64 8B ...\n",
       "    valid_time        datetime64[ns] 8B ...\n",
       "  * x                 (x) float64 12kB -179.8 -179.5 -179.2 ... 179.8 180.0\n",
       "    spatial_ref       int64 8B 0\n",
       "Attributes:\n",
       "    units:    C"
      ]
     },
     "execution_count": 11,
     "metadata": {},
     "output_type": "execute_result"
    }
   ],
   "source": [
    "\n",
    "var = data.rename({'latitude': 'y', 'longitude': 'x'})\n",
    "var.rio.write_crs(\"EPSG:4326\", inplace=True)\n"
   ]
  },
  {
   "cell_type": "markdown",
   "id": "cfe781c6-fa91-44ed-b8a3-b475eb19dc3d",
   "metadata": {},
   "source": [
    "## 5. Only for not global datasets\n",
    "\n",
    "If data contains NaN, replace it with -9999 to make them transparent afterwards (as soon as you then map this value to black in the colormap text file)\n"
   ]
  },
  {
   "cell_type": "code",
   "execution_count": 12,
   "id": "528ee768-173e-4cfb-a03f-9d6ceee1db3b",
   "metadata": {},
   "outputs": [],
   "source": [
    "var_filled = var.fillna(-9999)"
   ]
  },
  {
   "cell_type": "markdown",
   "id": "7a03c961-972a-4098-b7d2-5dfccea7a31e",
   "metadata": {},
   "source": [
    "## 6. Rotate data \n",
    "\n",
    "it can be necessary to flip data of 180 degrees; verify if this step is necessary to your case\n",
    "\n",
    "```\n",
    "var_filled = var_filled[::-1, ::]\n",
    "```"
   ]
  },
  {
   "cell_type": "markdown",
   "id": "09366736-4c13-445a-926d-171d7d2320f2",
   "metadata": {},
   "source": [
    "## 7. Save the transformed data to GeoTiff (intermediate step)\n",
    "\n",
    "Wait untill the tiff file is created (it could take a while)"
   ]
  },
  {
   "cell_type": "code",
   "execution_count": 13,
   "id": "9cc0127d-59dd-4fa8-b761-f97158174562",
   "metadata": {},
   "outputs": [],
   "source": [
    "var_filled.rio.to_raster(tif_path)"
   ]
  },
  {
   "cell_type": "markdown",
   "id": "ad478c7d-475c-44dc-9619-5557339ef18b",
   "metadata": {},
   "source": [
    "# Apply the colormap to the generated Tiff in grayscale\n",
    "\n",
    "Matplotlib will be used to achieve this.\n",
    "\n",
    "The following file will be downlaoded locally: **t2m_era5_20240801_rgb.tiff**"
   ]
  },
  {
   "cell_type": "markdown",
   "id": "edefabe2-07f4-4668-91c8-45f43665a789",
   "metadata": {},
   "source": [
    "## 1. Load the colormap from the file\n",
    "\n",
    "The file colormap.txt contains a colormap suitable for temperature in Celsius."
   ]
  },
  {
   "cell_type": "code",
   "execution_count": 14,
   "id": "60cf4af3-140f-4de0-bb0e-d9c6a3c80896",
   "metadata": {},
   "outputs": [],
   "source": [
    "import rasterio\n",
    "import numpy as np\n",
    "import matplotlib.pyplot as plt\n",
    "from matplotlib.colors import ListedColormap\n",
    "\n",
    "# Load the colormap from the file\n",
    "def load_colormap(colormap_file):\n",
    "    colormap = []\n",
    "    values = []\n",
    "    with open(colormap_file, 'r') as f:\n",
    "        for line in f:\n",
    "            # Skip empty lines\n",
    "            if not line.strip():\n",
    "                continue\n",
    "            parts = line.strip().split(maxsplit=1)  # Split only at the first space\n",
    "            value = float(parts[0])\n",
    "            # Ensure correct parsing of the RGB values\n",
    "            rgb = tuple(map(int, parts[1].replace(',', ' ').split()))\n",
    "            values.append(value)\n",
    "            colormap.append(rgb)\n",
    "    return values, colormap\n",
    "\n",
    "values, colormap = load_colormap('colormap.txt')"
   ]
  },
  {
   "cell_type": "markdown",
   "id": "2e539b66-0c1c-418d-aa01-2e51ebd264ae",
   "metadata": {},
   "source": [
    "## 2. Create a custom colormap for matplotlib"
   ]
  },
  {
   "cell_type": "code",
   "execution_count": 15,
   "id": "8d914ff7-e34a-407c-be9c-d8e109af00e5",
   "metadata": {},
   "outputs": [],
   "source": [
    "def create_colormap(values, colormap):\n",
    "    norm_values = np.linspace(0, 1, len(values))\n",
    "    colors = np.array(colormap) / 255.0  # Normalize RGB to [0, 1] range\n",
    "    return ListedColormap(colors), norm_values\n",
    "\n",
    "cmap, norm_values = create_colormap(values, colormap)"
   ]
  },
  {
   "cell_type": "markdown",
   "id": "a4b3d82b-d8ba-4550-9746-1ed354d18c3b",
   "metadata": {},
   "source": [
    "## 3. Open the grayscale TIFF"
   ]
  },
  {
   "cell_type": "code",
   "execution_count": 16,
   "id": "46cbdd3a-6d27-4112-a73a-ac4e72085ea3",
   "metadata": {},
   "outputs": [],
   "source": [
    "with rasterio.open(tif_path) as src:\n",
    "    grayscale = src.read(1)  # Read the first band"
   ]
  },
  {
   "cell_type": "markdown",
   "id": "e234acf7-cebc-4625-99bd-de1e5baa7f56",
   "metadata": {},
   "source": [
    "## 4. Apply the colormap\n",
    "\n",
    "Interpolate the grayscale values to teh colormap\n",
    "\n",
    "A new Tiff will be generated"
   ]
  },
  {
   "cell_type": "code",
   "execution_count": 17,
   "id": "6521c229-fdb9-4145-b478-e2109c9ab44b",
   "metadata": {},
   "outputs": [],
   "source": [
    "output_rgb_tiff = \"t2m_era5_20240801_rgb.tiff\""
   ]
  },
  {
   "cell_type": "code",
   "execution_count": 18,
   "id": "0c35bdad-e9a2-4069-9584-ba6e01a008fd",
   "metadata": {},
   "outputs": [],
   "source": [
    "def apply_colormap_to_tiff(input_tiff, output_tiff, values, colormap):\n",
    "    with rasterio.open(input_tiff) as src:\n",
    "        grayscale = src.read(1)  # Read the first band (grayscale)\n",
    "        \n",
    "        # Apply the colormap to the grayscale data\n",
    "        normalized = (grayscale - np.min(grayscale)) / (np.max(grayscale) - np.min(grayscale))  # Normalize\n",
    "        cmap = ListedColormap(np.array(colormap) / 255.0)  # Convert colormap to matplotlib format\n",
    "        rgb_image = cmap(normalized)\n",
    "\n",
    "        # Write the RGB image to a new TIFF\n",
    "        height, width, _ = rgb_image.shape\n",
    "        profile = src.profile\n",
    "        profile.update(count=3, dtype=rasterio.uint8)  # Update profile to handle RGB output\n",
    "\n",
    "        with rasterio.open(output_tiff, 'w', **profile) as dst:\n",
    "            dst.write((rgb_image[:, :, 0] * 255).astype(np.uint8), 1)\n",
    "            dst.write((rgb_image[:, :, 1] * 255).astype(np.uint8), 2)\n",
    "            dst.write((rgb_image[:, :, 2] * 255).astype(np.uint8), 3)\n",
    "\n",
    "# Apply the colormap (assuming 'values' and 'colormap' were already loaded)\n",
    "apply_colormap_to_tiff(tif_path, output_rgb_tiff, values, colormap)"
   ]
  },
  {
   "cell_type": "markdown",
   "id": "f90ec6b7-2258-4090-83bc-100f7979f54b",
   "metadata": {},
   "source": [
    "# Convert TIFF to COG optimized for web\n",
    "\n",
    "The following file will be downlaoded locally: **t2m_era5_20240801_web_optimized.tiff**\n",
    "\n",
    "First of all, import the needed dependencies"
   ]
  },
  {
   "cell_type": "code",
   "execution_count": 19,
   "id": "543d5a02-23c5-4baf-b133-679226c14070",
   "metadata": {},
   "outputs": [],
   "source": [
    "import rasterio\n",
    "from rasterio.enums import Resampling\n",
    "from rio_cogeo.cogeo import cog_validate, cog_translate\n",
    "from rio_cogeo.profiles import cog_profiles\n"
   ]
  },
  {
   "cell_type": "markdown",
   "id": "014354e9-dc8e-4e88-a8d8-876d1be8fdfb",
   "metadata": {},
   "source": [
    "## 1. Define paths to your files"
   ]
  },
  {
   "cell_type": "code",
   "execution_count": 20,
   "id": "0663ca48-fa71-4ff3-9bb8-ade03b4f1085",
   "metadata": {},
   "outputs": [],
   "source": [
    "output_cog = \"t2m_era5_20240801_cog.tiff\"\n",
    "output_cog_web_optimized = \"t2m_era5_20240801_web_optimized.tiff\""
   ]
  },
  {
   "cell_type": "markdown",
   "id": "64135aa7-d500-42bb-8a82-fb50d041493d",
   "metadata": {},
   "source": [
    "## 2. Convert the GeoTiff to COG"
   ]
  },
  {
   "cell_type": "code",
   "execution_count": 21,
   "id": "b60a6ea0-e9d0-469b-a5b0-73373402708c",
   "metadata": {},
   "outputs": [
    {
     "name": "stderr",
     "output_type": "stream",
     "text": [
      "Reading input: <open DatasetReader name='t2m_era5_20240801_rgb.tiff' mode='r'>\n",
      "\n",
      "Adding overviews...\n",
      "Updating dataset tags...\n",
      "Writing output to: t2m_era5_20240801_cog.tiff\n"
     ]
    },
    {
     "name": "stdout",
     "output_type": "stream",
     "text": [
      "COG created successfully!\n"
     ]
    }
   ],
   "source": [
    "cog_profile = cog_profiles.get(\"deflate\")  # You can choose other profiles such as \"jpeg\", \"lzw\"\n",
    "\n",
    "config = {\n",
    "    \"blocksize\": 512,  # You can customize the blocksize\n",
    "    \"resampling\": \"average\"  # Pass the resampling method as a string\n",
    "}\n",
    "\n",
    "with rasterio.open(output_rgb_tiff) as src:\n",
    "    # Create COG\n",
    "    cog_translate(\n",
    "        src,\n",
    "        output_cog,\n",
    "        cog_profile,\n",
    "        config=config,\n",
    "        nodata=src.nodata,\n",
    "        overview_level=8,  # Define the overview level\n",
    "        overview_resampling=\"average\",  # Pass the resampling method as a string\n",
    "    )\n",
    "\n",
    "print(\"COG created successfully!\")"
   ]
  },
  {
   "cell_type": "markdown",
   "id": "d9872ce7-a63b-415b-9c59-88d7f8b00225",
   "metadata": {},
   "source": [
    "## 3. Convert COG to web-optimized COG using subprocess"
   ]
  },
  {
   "cell_type": "code",
   "execution_count": 22,
   "id": "45c0e2dc-6702-4e05-977e-24114d90db50",
   "metadata": {},
   "outputs": [
    {
     "name": "stdout",
     "output_type": "stream",
     "text": [
      "Defining overview's `blocksize` to match the high resolution `blocksize`: 512\n"
     ]
    },
    {
     "name": "stderr",
     "output_type": "stream",
     "text": [
      "Reading input: /home/jovyan/desp-lab/dea-test/netcdf2cog/t2m_era5_20240801_cog.tiff\n",
      "\n",
      "Adding overviews...\n",
      "Updating dataset tags...\n",
      "Writing output to: /home/jovyan/desp-lab/dea-test/netcdf2cog/t2m_era5_20240801_web_optimized.tiff\n"
     ]
    },
    {
     "name": "stdout",
     "output_type": "stream",
     "text": [
      "Web-optimized COG created successfully!\n"
     ]
    }
   ],
   "source": [
    "import subprocess\n",
    "\n",
    "subprocess.run([\n",
    "    \"rio\", \"cogeo\", \"create\", \n",
    "    output_cog, \n",
    "    output_cog_web_optimized,\n",
    "    \"--blocksize\", \"512\",\n",
    "    \"--overview-resampling\", \"average\",\n",
    "    \"--overview-level\", \"8\",\n",
    "    \"--web-optimized\"\n",
    "], check=True)\n",
    "\n",
    "print(\"Web-optimized COG created successfully!\")\n"
   ]
  },
  {
   "cell_type": "markdown",
   "id": "66d6e3c6-a8d6-4209-80dc-36f4fda295bf",
   "metadata": {},
   "source": [
    "**NOTE**: The global COG file may result in missing the data over the poles, as those regions introduce distortions in the visualization."
   ]
  },
  {
   "cell_type": "markdown",
   "id": "e4feb667-b64d-414c-ab9c-b73af6f56cc0",
   "metadata": {},
   "source": [
    "# Upload the Web-Optimized COG on DEA!\n",
    "\n",
    "You can now download the generated  Web-Optimized COG file _t2m_era5_20240801_web_optimized.tiff_ and upload it on [DEA Story Editor](https://dea.destine.eu/stories/editor).\n",
    "The asset can be included in your stories.\n",
    "\n",
    "\n",
    "![alt text](dea_upload_asset.png \"Upload Assets on DEA\")\n",
    "\n",
    "\n",
    "![alt text](dea_cog_asset.png \"COG Asset on DEA\")"
   ]
  },
  {
   "cell_type": "markdown",
   "id": "c7ae6083-91b6-411b-949b-02e8c8ad6983",
   "metadata": {},
   "source": [
    "# Alternative methods\n",
    "## Apply the colormap with GDAL\n",
    "\n",
    "First transform to virtual VRT file and then apply colormap\n",
    "\n",
    "```\n",
    "gdal_translate -of VRT <tif_filename.tif> <vrt_filename.vrt>\n",
    "gdaldem color-relief  <vrt_filename.vrt> <path_to_colormap.txt>  <output_vrt_filename.vrt>\n",
    "```\n",
    "\n",
    "## Convert the colored VRT to COG\n",
    "\n",
    "```\n",
    "gdal_translate -of COG  <output_vrt_filename.vrt> <output_cog_filename.tif>\n",
    "```\n",
    "\n",
    "## Convert the COG to WEB-OPTIMISED using rio-cogeo\n",
    "\n",
    "```\n",
    "rio cogeo create  <output_cog_filename.tif> <output_cog_optimised_filename.tif>  --blocksize 512 --overview-resampling average --overview-level 8 --web-optimized\n",
    "```\n",
    "\n",
    "This is a valid processing for Global datasets. \n",
    "In different cases, you may need to consult the rio-cogeo guidelines to optimise your custom data and avoid distortions in visualization. \n",
    "\n",
    "Please take a look at [rio-cogeo](https://cogeotiff.github.io/rio-cogeo/) for details.\n"
   ]
  }
 ],
 "metadata": {
  "kernelspec": {
   "display_name": "Python 3 (ipykernel)",
   "language": "python",
   "name": "python3"
  },
  "language_info": {
   "codemirror_mode": {
    "name": "ipython",
    "version": 3
   },
   "file_extension": ".py",
   "mimetype": "text/x-python",
   "name": "python",
   "nbconvert_exporter": "python",
   "pygments_lexer": "ipython3",
   "version": "3.11.9"
  }
 },
 "nbformat": 4,
 "nbformat_minor": 5
}
