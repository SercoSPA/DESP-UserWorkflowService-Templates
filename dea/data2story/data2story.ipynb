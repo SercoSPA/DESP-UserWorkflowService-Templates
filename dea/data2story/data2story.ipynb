{
 "cells": [
  {
   "cell_type": "markdown",
   "id": "573d2922-8641-4857-a737-6f3f3c3c2e2c",
   "metadata": {},
   "source": [
    "# DEA Notebook \n",
    "\n",
    "![alt text](../dea-gallery-crop.png \"DEA\")\n",
    "\n",
    "### DEA is a Content creation service and no-code platform for DestinE storytelling and data visualization"
   ]
  },
  {
   "cell_type": "markdown",
   "id": "fd45b752-93ff-4dcb-b56a-040be58f0782",
   "metadata": {},
   "source": [
    "## From data to story\n",
    "\n",
    "This notebook contains steps for:\n",
    "- Generating a Cloud Optimized GeoTIFF (COG) file from data provided by the DestinE CacheB service (ERA5 t2m temperature monthly mean over Europe)\n",
    "- Uploading the  COG file as a user asset in DEA\n",
    "- Creating a story with a slide containing the asset"
   ]
  },
  {
   "cell_type": "markdown",
   "id": "1d932e53-639a-4b06-90de-2a967aae2914",
   "metadata": {},
   "source": [
    "# Install pre-requirements"
   ]
  },
  {
   "cell_type": "code",
   "execution_count": 6,
   "id": "2ca79555-c950-4e1c-8be8-1f2fb89b68c3",
   "metadata": {},
   "outputs": [
    {
     "name": "stdout",
     "output_type": "stream",
     "text": [
      "Requirement already satisfied: matplotlib in /opt/conda/lib/python3.11/site-packages (3.8.4)\n",
      "Requirement already satisfied: contourpy>=1.0.1 in /opt/conda/lib/python3.11/site-packages (from matplotlib) (1.2.1)\n",
      "Requirement already satisfied: cycler>=0.10 in /opt/conda/lib/python3.11/site-packages (from matplotlib) (0.12.1)\n",
      "Requirement already satisfied: fonttools>=4.22.0 in /opt/conda/lib/python3.11/site-packages (from matplotlib) (4.51.0)\n",
      "Requirement already satisfied: kiwisolver>=1.3.1 in /opt/conda/lib/python3.11/site-packages (from matplotlib) (1.4.5)\n",
      "Requirement already satisfied: numpy>=1.21 in /opt/conda/lib/python3.11/site-packages (from matplotlib) (1.26.4)\n",
      "Requirement already satisfied: packaging>=20.0 in /opt/conda/lib/python3.11/site-packages (from matplotlib) (24.0)\n",
      "Requirement already satisfied: pillow>=8 in /opt/conda/lib/python3.11/site-packages (from matplotlib) (10.3.0)\n",
      "Requirement already satisfied: pyparsing>=2.3.1 in /opt/conda/lib/python3.11/site-packages (from matplotlib) (3.1.2)\n",
      "Requirement already satisfied: python-dateutil>=2.7 in /opt/conda/lib/python3.11/site-packages (from matplotlib) (2.9.0.post0)\n",
      "Requirement already satisfied: six>=1.5 in /opt/conda/lib/python3.11/site-packages (from python-dateutil>=2.7->matplotlib) (1.16.0)\n",
      "Requirement already satisfied: numpy in /opt/conda/lib/python3.11/site-packages (1.26.4)\n",
      "Requirement already satisfied: xarray in /opt/conda/lib/python3.11/site-packages (2024.3.0)\n",
      "Requirement already satisfied: numpy>=1.23 in /opt/conda/lib/python3.11/site-packages (from xarray) (1.26.4)\n",
      "Requirement already satisfied: packaging>=22 in /opt/conda/lib/python3.11/site-packages (from xarray) (24.0)\n",
      "Requirement already satisfied: pandas>=1.5 in /opt/conda/lib/python3.11/site-packages (from xarray) (2.2.2)\n",
      "Requirement already satisfied: python-dateutil>=2.8.2 in /opt/conda/lib/python3.11/site-packages (from pandas>=1.5->xarray) (2.9.0.post0)\n",
      "Requirement already satisfied: pytz>=2020.1 in /opt/conda/lib/python3.11/site-packages (from pandas>=1.5->xarray) (2024.1)\n",
      "Requirement already satisfied: tzdata>=2022.7 in /opt/conda/lib/python3.11/site-packages (from pandas>=1.5->xarray) (2024.1)\n",
      "Requirement already satisfied: six>=1.5 in /opt/conda/lib/python3.11/site-packages (from python-dateutil>=2.8.2->pandas>=1.5->xarray) (1.16.0)\n",
      "Requirement already satisfied: rasterio in /opt/conda/lib/python3.11/site-packages (1.3.10)\n",
      "Requirement already satisfied: affine in /opt/conda/lib/python3.11/site-packages (from rasterio) (2.4.0)\n",
      "Requirement already satisfied: attrs in /opt/conda/lib/python3.11/site-packages (from rasterio) (23.2.0)\n",
      "Requirement already satisfied: certifi in /opt/conda/lib/python3.11/site-packages (from rasterio) (2024.2.2)\n",
      "Requirement already satisfied: click>=4.0 in /opt/conda/lib/python3.11/site-packages (from rasterio) (8.1.7)\n",
      "Requirement already satisfied: cligj>=0.5 in /opt/conda/lib/python3.11/site-packages (from rasterio) (0.7.2)\n",
      "Requirement already satisfied: numpy in /opt/conda/lib/python3.11/site-packages (from rasterio) (1.26.4)\n",
      "Requirement already satisfied: snuggs>=1.4.1 in /opt/conda/lib/python3.11/site-packages (from rasterio) (1.4.7)\n",
      "Requirement already satisfied: click-plugins in /opt/conda/lib/python3.11/site-packages (from rasterio) (1.1.1)\n",
      "Requirement already satisfied: setuptools in /home/jovyan/.local/lib/python3.11/site-packages (from rasterio) (75.1.0)\n",
      "Requirement already satisfied: pyparsing>=2.1.6 in /opt/conda/lib/python3.11/site-packages (from snuggs>=1.4.1->rasterio) (3.1.2)\n",
      "Requirement already satisfied: requests in /opt/conda/lib/python3.11/site-packages (2.31.0)\n",
      "Requirement already satisfied: charset-normalizer<4,>=2 in /opt/conda/lib/python3.11/site-packages (from requests) (3.3.2)\n",
      "Requirement already satisfied: idna<4,>=2.5 in /opt/conda/lib/python3.11/site-packages (from requests) (3.7)\n",
      "Requirement already satisfied: urllib3<3,>=1.21.1 in /opt/conda/lib/python3.11/site-packages (from requests) (2.2.1)\n",
      "Requirement already satisfied: certifi>=2017.4.17 in /opt/conda/lib/python3.11/site-packages (from requests) (2024.2.2)\n",
      "Requirement already satisfied: rio-cogeo in /opt/conda/lib/python3.11/site-packages (5.4.1)\n",
      "Requirement already satisfied: click>=7.0 in /opt/conda/lib/python3.11/site-packages (from rio-cogeo) (8.1.7)\n",
      "Requirement already satisfied: rasterio>=1.3.3 in /opt/conda/lib/python3.11/site-packages (from rio-cogeo) (1.3.10)\n",
      "Requirement already satisfied: morecantile<7.0,>=5.0 in /opt/conda/lib/python3.11/site-packages (from rio-cogeo) (6.2.0)\n",
      "Requirement already satisfied: pydantic~=2.0 in /opt/conda/lib/python3.11/site-packages (from rio-cogeo) (2.7.1)\n",
      "Requirement already satisfied: attrs in /opt/conda/lib/python3.11/site-packages (from morecantile<7.0,>=5.0->rio-cogeo) (23.2.0)\n",
      "Requirement already satisfied: pyproj<4.0,>=3.1 in /opt/conda/lib/python3.11/site-packages (from morecantile<7.0,>=5.0->rio-cogeo) (3.7.1)\n",
      "Requirement already satisfied: annotated-types>=0.4.0 in /opt/conda/lib/python3.11/site-packages (from pydantic~=2.0->rio-cogeo) (0.6.0)\n",
      "Requirement already satisfied: pydantic-core==2.18.2 in /opt/conda/lib/python3.11/site-packages (from pydantic~=2.0->rio-cogeo) (2.18.2)\n",
      "Requirement already satisfied: typing-extensions>=4.6.1 in /opt/conda/lib/python3.11/site-packages (from pydantic~=2.0->rio-cogeo) (4.11.0)\n",
      "Requirement already satisfied: affine in /opt/conda/lib/python3.11/site-packages (from rasterio>=1.3.3->rio-cogeo) (2.4.0)\n",
      "Requirement already satisfied: certifi in /opt/conda/lib/python3.11/site-packages (from rasterio>=1.3.3->rio-cogeo) (2024.2.2)\n",
      "Requirement already satisfied: cligj>=0.5 in /opt/conda/lib/python3.11/site-packages (from rasterio>=1.3.3->rio-cogeo) (0.7.2)\n",
      "Requirement already satisfied: numpy in /opt/conda/lib/python3.11/site-packages (from rasterio>=1.3.3->rio-cogeo) (1.26.4)\n",
      "Requirement already satisfied: snuggs>=1.4.1 in /opt/conda/lib/python3.11/site-packages (from rasterio>=1.3.3->rio-cogeo) (1.4.7)\n",
      "Requirement already satisfied: click-plugins in /opt/conda/lib/python3.11/site-packages (from rasterio>=1.3.3->rio-cogeo) (1.1.1)\n",
      "Requirement already satisfied: setuptools in /home/jovyan/.local/lib/python3.11/site-packages (from rasterio>=1.3.3->rio-cogeo) (75.1.0)\n",
      "Requirement already satisfied: pyparsing>=2.1.6 in /opt/conda/lib/python3.11/site-packages (from snuggs>=1.4.1->rasterio>=1.3.3->rio-cogeo) (3.1.2)\n",
      "Requirement already satisfied: rioxarray in /opt/conda/lib/python3.11/site-packages (0.15.5)\n",
      "Requirement already satisfied: packaging in /opt/conda/lib/python3.11/site-packages (from rioxarray) (24.0)\n",
      "Requirement already satisfied: rasterio>=1.3 in /opt/conda/lib/python3.11/site-packages (from rioxarray) (1.3.10)\n",
      "Requirement already satisfied: xarray>=2022.3.0 in /opt/conda/lib/python3.11/site-packages (from rioxarray) (2024.3.0)\n",
      "Requirement already satisfied: pyproj>=3.3 in /opt/conda/lib/python3.11/site-packages (from rioxarray) (3.7.1)\n",
      "Requirement already satisfied: numpy>=1.23 in /opt/conda/lib/python3.11/site-packages (from rioxarray) (1.26.4)\n",
      "Requirement already satisfied: certifi in /opt/conda/lib/python3.11/site-packages (from pyproj>=3.3->rioxarray) (2024.2.2)\n",
      "Requirement already satisfied: affine in /opt/conda/lib/python3.11/site-packages (from rasterio>=1.3->rioxarray) (2.4.0)\n",
      "Requirement already satisfied: attrs in /opt/conda/lib/python3.11/site-packages (from rasterio>=1.3->rioxarray) (23.2.0)\n",
      "Requirement already satisfied: click>=4.0 in /opt/conda/lib/python3.11/site-packages (from rasterio>=1.3->rioxarray) (8.1.7)\n",
      "Requirement already satisfied: cligj>=0.5 in /opt/conda/lib/python3.11/site-packages (from rasterio>=1.3->rioxarray) (0.7.2)\n",
      "Requirement already satisfied: snuggs>=1.4.1 in /opt/conda/lib/python3.11/site-packages (from rasterio>=1.3->rioxarray) (1.4.7)\n",
      "Requirement already satisfied: click-plugins in /opt/conda/lib/python3.11/site-packages (from rasterio>=1.3->rioxarray) (1.1.1)\n",
      "Requirement already satisfied: setuptools in /home/jovyan/.local/lib/python3.11/site-packages (from rasterio>=1.3->rioxarray) (75.1.0)\n",
      "Requirement already satisfied: pandas>=1.5 in /opt/conda/lib/python3.11/site-packages (from xarray>=2022.3.0->rioxarray) (2.2.2)\n",
      "Requirement already satisfied: python-dateutil>=2.8.2 in /opt/conda/lib/python3.11/site-packages (from pandas>=1.5->xarray>=2022.3.0->rioxarray) (2.9.0.post0)\n",
      "Requirement already satisfied: pytz>=2020.1 in /opt/conda/lib/python3.11/site-packages (from pandas>=1.5->xarray>=2022.3.0->rioxarray) (2024.1)\n",
      "Requirement already satisfied: tzdata>=2022.7 in /opt/conda/lib/python3.11/site-packages (from pandas>=1.5->xarray>=2022.3.0->rioxarray) (2024.1)\n",
      "Requirement already satisfied: pyparsing>=2.1.6 in /opt/conda/lib/python3.11/site-packages (from snuggs>=1.4.1->rasterio>=1.3->rioxarray) (3.1.2)\n",
      "Requirement already satisfied: six>=1.5 in /opt/conda/lib/python3.11/site-packages (from python-dateutil>=2.8.2->pandas>=1.5->xarray>=2022.3.0->rioxarray) (1.16.0)\n",
      "Requirement already satisfied: zarr in /opt/conda/lib/python3.11/site-packages (2.17.2)\n",
      "Requirement already satisfied: asciitree in /opt/conda/lib/python3.11/site-packages (from zarr) (0.3.3)\n",
      "Requirement already satisfied: numpy>=1.23 in /opt/conda/lib/python3.11/site-packages (from zarr) (1.26.4)\n",
      "Requirement already satisfied: numcodecs>=0.10.0 in /opt/conda/lib/python3.11/site-packages (from zarr) (0.12.1)\n",
      "Requirement already satisfied: fasteners in /opt/conda/lib/python3.11/site-packages (from zarr) (0.19)\n",
      "Requirement already satisfied: fsspec in /opt/conda/lib/python3.11/site-packages (2024.3.1)\n",
      "Requirement already satisfied: aiohttp in /opt/conda/lib/python3.11/site-packages (3.9.5)\n",
      "Requirement already satisfied: aiosignal>=1.1.2 in /opt/conda/lib/python3.11/site-packages (from aiohttp) (1.3.1)\n",
      "Requirement already satisfied: attrs>=17.3.0 in /opt/conda/lib/python3.11/site-packages (from aiohttp) (23.2.0)\n",
      "Requirement already satisfied: frozenlist>=1.1.1 in /opt/conda/lib/python3.11/site-packages (from aiohttp) (1.4.1)\n",
      "Requirement already satisfied: multidict<7.0,>=4.5 in /opt/conda/lib/python3.11/site-packages (from aiohttp) (6.0.5)\n",
      "Requirement already satisfied: yarl<2.0,>=1.0 in /opt/conda/lib/python3.11/site-packages (from aiohttp) (1.9.4)\n",
      "Requirement already satisfied: idna>=2.0 in /opt/conda/lib/python3.11/site-packages (from yarl<2.0,>=1.0->aiohttp) (3.7)\n",
      "Requirement already satisfied: dask in /opt/conda/lib/python3.11/site-packages (2024.4.2)\n",
      "Requirement already satisfied: click>=8.1 in /opt/conda/lib/python3.11/site-packages (from dask) (8.1.7)\n",
      "Requirement already satisfied: cloudpickle>=1.5.0 in /opt/conda/lib/python3.11/site-packages (from dask) (3.0.0)\n",
      "Requirement already satisfied: fsspec>=2021.09.0 in /opt/conda/lib/python3.11/site-packages (from dask) (2024.3.1)\n",
      "Requirement already satisfied: packaging>=20.0 in /opt/conda/lib/python3.11/site-packages (from dask) (24.0)\n",
      "Requirement already satisfied: partd>=1.2.0 in /opt/conda/lib/python3.11/site-packages (from dask) (1.4.1)\n",
      "Requirement already satisfied: pyyaml>=5.3.1 in /opt/conda/lib/python3.11/site-packages (from dask) (6.0.1)\n",
      "Requirement already satisfied: toolz>=0.10.0 in /opt/conda/lib/python3.11/site-packages (from dask) (0.12.1)\n",
      "Requirement already satisfied: importlib-metadata>=4.13.0 in /opt/conda/lib/python3.11/site-packages (from dask) (7.1.0)\n",
      "Requirement already satisfied: zipp>=0.5 in /opt/conda/lib/python3.11/site-packages (from importlib-metadata>=4.13.0->dask) (3.18.1)\n",
      "Requirement already satisfied: locket in /opt/conda/lib/python3.11/site-packages (from partd>=1.2.0->dask) (1.0.0)\n"
     ]
    }
   ],
   "source": [
    "!pip install matplotlib\n",
    "!pip install numpy\n",
    "!pip install xarray\n",
    "!pip install rasterio\n",
    "!pip install requests\n",
    "!pip install rio-cogeo\n",
    "!pip install rioxarray\n",
    "!pip install zarr \n",
    "!pip install fsspec\n",
    "!pip install aiohttp \n",
    "!pip install dask"
   ]
  },
  {
   "cell_type": "markdown",
   "id": "f046fc67-8d02-4a10-b1e4-8016ef82436f",
   "metadata": {},
   "source": [
    "# Download the sample NetCDF file and save it in the input folder\n",
    "\n",
    "DestinE Platform Service CacheB will be used to download an ERA5 t2m data selecting 2025-03 as date and Europe extent as area.\n",
    "\n",
    "The data will be saved locally in NetCDF format.\n",
    "\n",
    "**NOTE**: the temporary password is valid for a limited period of time and needs to be regenerated and reconfigured periodically by running the cells above.\n",
    "\n",
    "The following file will be downlaoded locally: **t2m_era5_europe_20250321.nc**"
   ]
  },
  {
   "cell_type": "markdown",
   "id": "c426b664-bb83-4431-a47f-a9fb3bf801f6",
   "metadata": {},
   "source": [
    "## Insert DestinE Platform credentials"
   ]
  },
  {
   "cell_type": "code",
   "execution_count": 32,
   "id": "6baa75f7-3c88-4b8d-b8b9-538ff6be3f41",
   "metadata": {
    "scrolled": true
   },
   "outputs": [
    {
     "name": "stdin",
     "output_type": "stream",
     "text": [
      "Username:  cristinaarcari@alia-space.com\n",
      "Password:  ········\n"
     ]
    }
   ],
   "source": [
    "%%capture cap\n",
    "%run ./../../cacheb/cacheb-authentication.py"
   ]
  },
  {
   "cell_type": "code",
   "execution_count": 33,
   "id": "d25659d6-7ba6-4815-b650-81843564e5c3",
   "metadata": {},
   "outputs": [],
   "source": [
    "output_1 = cap.stdout.split('}\\n')\n",
    "token = output_1[-1][0:-1]\n",
    "from pathlib import Path\n",
    "with open(Path.home() / \".netrc\", \"w\") as fp:\n",
    "    fp.write(token)"
   ]
  },
  {
   "cell_type": "markdown",
   "id": "beef8667-e168-4fb5-a906-b1d4218d49f1",
   "metadata": {},
   "source": [
    "## Define variables"
   ]
  },
  {
   "cell_type": "code",
   "execution_count": 34,
   "id": "20acb5ab-11d0-44c6-b7b8-a24cc72c8378",
   "metadata": {},
   "outputs": [],
   "source": [
    "file_path = \"t2m_europe_era5_202503.nc\"\n",
    "tif_path = \"t2m_europe_era5_202503.tiff\""
   ]
  },
  {
   "cell_type": "markdown",
   "id": "aac6db56-8244-470e-861c-7130d287cd5d",
   "metadata": {},
   "source": [
    "## Get data\n",
    "\n",
    "Download data from DestinE Platform CacheB"
   ]
  },
  {
   "cell_type": "code",
   "execution_count": 36,
   "id": "0b21eabd-45ea-4141-b732-b603e99fc83d",
   "metadata": {},
   "outputs": [
    {
     "name": "stdout",
     "output_type": "stream",
     "text": [
      "Data to download...\n",
      "<xarray.DataArray 't2m' (valid_time: 1024, latitude: 187, longitude: 402)> Size: 308MB\n",
      "dask.array<getitem, shape=(1024, 187, 402), dtype=float32, chunksize=(120, 187, 256), chunktype=numpy.ndarray>\n",
      "Coordinates:\n",
      "    number      int64 8B 0\n",
      "    surface     float64 8B 0.0\n",
      "  * valid_time  (valid_time) datetime64[ns] 8kB 1940-01-01 ... 2025-04-01\n",
      "  * longitude   (longitude) float64 3kB -31.25 -31.0 -30.75 ... 68.5 68.75 69.0\n",
      "  * latitude    (latitude) float64 1kB 34.5 34.75 35.0 35.25 ... 80.5 80.75 81.0\n",
      "Attributes:\n",
      "    units:    C\n",
      "<xarray.DataArray 't2m' (valid_time: 1, latitude: 187, longitude: 402)> Size: 301kB\n",
      "dask.array<getitem, shape=(1, 187, 402), dtype=float32, chunksize=(1, 187, 256), chunktype=numpy.ndarray>\n",
      "Coordinates:\n",
      "    number      int64 8B 0\n",
      "    surface     float64 8B 0.0\n",
      "  * valid_time  (valid_time) datetime64[ns] 8B 2025-03-01\n",
      "  * longitude   (longitude) float64 3kB -31.25 -31.0 -30.75 ... 68.5 68.75 69.0\n",
      "  * latitude    (latitude) float64 1kB 34.5 34.75 35.0 35.25 ... 80.5 80.75 81.0\n",
      "Attributes:\n",
      "    units:    C\n",
      "Your file t2m_europe_era5_202503.nc is ready!\n"
     ]
    }
   ],
   "source": [
    "import xarray as xr\n",
    "\n",
    "\n",
    "data = xr.open_dataset(\n",
    "        \"https://cacheb.dcms.destine.eu/era5/reanalysis-era5-single-levels-monthly-means-v0.zarr\",\n",
    "        engine=\"zarr\",\n",
    "        storage_options={\"client_kwargs\": {\"trust_env\": \"true\"}},\n",
    "        chunks={},\n",
    "    )\n",
    "\n",
    "# Convert to Celsius\n",
    "\n",
    "t2m = data.t2m.astype(\"float32\") - 273.15\n",
    "t2m.attrs[\"units\"] = \"C\"\n",
    "\n",
    "t2m = t2m.assign_coords(longitude=(t2m['longitude'] % 360))  # First ensure longitude is in 0-360 range\n",
    "t2m['longitude'] = xr.where(t2m['longitude'] > 180, t2m['longitude'] - 360, t2m['longitude'])  # Then shift to -180 to 180\n",
    "\n",
    "# Sort by longitude to maintain the proper order\n",
    "t2m = t2m.sortby('longitude')\n",
    "\n",
    "t2m = t2m.assign_coords(latitude=(t2m['latitude'] % 180))  # First ensure latitude is in 0-180 range\n",
    "t2m['latitude'] = xr.where(t2m['latitude'] > 90, t2m['latitude'] -180, t2m['latitude'])  # Then shift to -90 to 90\n",
    "\n",
    "# Sort by latitude to maintain the proper order\n",
    "t2m = t2m.sortby('latitude')\n",
    "\n",
    "# Select an area\n",
    "t2m_europe_area = t2m.sel(**{\"latitude\": slice(34.50, 81.01), \"longitude\": slice(-31.27, 69.06)})\n",
    "\n",
    "print(f\"Data to download...\")\n",
    "print(t2m_europe_area)\n",
    "\n",
    "#t2m_europe_area = t2m_europe_area.compute()\n",
    "\n",
    "# get a single time step\n",
    "t2m_slice = t2m_europe_area.sel(valid_time=\"2025-03\")\n",
    "\n",
    "print(t2m_slice)\n",
    "\n",
    "t2m_slice = t2m_slice.compute()\n",
    "\n",
    "# save as NetCDF\n",
    "t2m_slice.to_netcdf(file_path)\n",
    "\n",
    "print(f\"Your file {file_path} is ready!\")\n"
   ]
  },
  {
   "cell_type": "markdown",
   "id": "2beb7ac0-d43f-424e-a642-71721cecca8c",
   "metadata": {},
   "source": [
    "## Wait until your NetCDF file appear in your workspace before executing the next cell. \n",
    "\n",
    ">**_NOTE:_** The download of the file should take about 1 minute. The file _t2m_europe_era5_202503.nc_ should appear in the notebook workspace"
   ]
  },
  {
   "cell_type": "markdown",
   "id": "582cdcb0-a546-468a-837d-22473b4fb196",
   "metadata": {},
   "source": [
    "# Convert NetCDF to GeoTiff\n",
    "\n",
    "The following file will be downlaoded locally: **t2m_europe_era5_202503.tiff**"
   ]
  },
  {
   "cell_type": "code",
   "execution_count": 37,
   "id": "cd641ba3-b091-4449-a68f-db494cb1414e",
   "metadata": {},
   "outputs": [
    {
     "data": {
      "text/html": [
       "<div><svg style=\"position: absolute; width: 0; height: 0; overflow: hidden\">\n",
       "<defs>\n",
       "<symbol id=\"icon-database\" viewBox=\"0 0 32 32\">\n",
       "<path d=\"M16 0c-8.837 0-16 2.239-16 5v4c0 2.761 7.163 5 16 5s16-2.239 16-5v-4c0-2.761-7.163-5-16-5z\"></path>\n",
       "<path d=\"M16 17c-8.837 0-16-2.239-16-5v6c0 2.761 7.163 5 16 5s16-2.239 16-5v-6c0 2.761-7.163 5-16 5z\"></path>\n",
       "<path d=\"M16 26c-8.837 0-16-2.239-16-5v6c0 2.761 7.163 5 16 5s16-2.239 16-5v-6c0 2.761-7.163 5-16 5z\"></path>\n",
       "</symbol>\n",
       "<symbol id=\"icon-file-text2\" viewBox=\"0 0 32 32\">\n",
       "<path d=\"M28.681 7.159c-0.694-0.947-1.662-2.053-2.724-3.116s-2.169-2.030-3.116-2.724c-1.612-1.182-2.393-1.319-2.841-1.319h-15.5c-1.378 0-2.5 1.121-2.5 2.5v27c0 1.378 1.122 2.5 2.5 2.5h23c1.378 0 2.5-1.122 2.5-2.5v-19.5c0-0.448-0.137-1.23-1.319-2.841zM24.543 5.457c0.959 0.959 1.712 1.825 2.268 2.543h-4.811v-4.811c0.718 0.556 1.584 1.309 2.543 2.268zM28 29.5c0 0.271-0.229 0.5-0.5 0.5h-23c-0.271 0-0.5-0.229-0.5-0.5v-27c0-0.271 0.229-0.5 0.5-0.5 0 0 15.499-0 15.5 0v7c0 0.552 0.448 1 1 1h7v19.5z\"></path>\n",
       "<path d=\"M23 26h-14c-0.552 0-1-0.448-1-1s0.448-1 1-1h14c0.552 0 1 0.448 1 1s-0.448 1-1 1z\"></path>\n",
       "<path d=\"M23 22h-14c-0.552 0-1-0.448-1-1s0.448-1 1-1h14c0.552 0 1 0.448 1 1s-0.448 1-1 1z\"></path>\n",
       "<path d=\"M23 18h-14c-0.552 0-1-0.448-1-1s0.448-1 1-1h14c0.552 0 1 0.448 1 1s-0.448 1-1 1z\"></path>\n",
       "</symbol>\n",
       "</defs>\n",
       "</svg>\n",
       "<style>/* CSS stylesheet for displaying xarray objects in jupyterlab.\n",
       " *\n",
       " */\n",
       "\n",
       ":root {\n",
       "  --xr-font-color0: var(--jp-content-font-color0, rgba(0, 0, 0, 1));\n",
       "  --xr-font-color2: var(--jp-content-font-color2, rgba(0, 0, 0, 0.54));\n",
       "  --xr-font-color3: var(--jp-content-font-color3, rgba(0, 0, 0, 0.38));\n",
       "  --xr-border-color: var(--jp-border-color2, #e0e0e0);\n",
       "  --xr-disabled-color: var(--jp-layout-color3, #bdbdbd);\n",
       "  --xr-background-color: var(--jp-layout-color0, white);\n",
       "  --xr-background-color-row-even: var(--jp-layout-color1, white);\n",
       "  --xr-background-color-row-odd: var(--jp-layout-color2, #eeeeee);\n",
       "}\n",
       "\n",
       "html[theme=dark],\n",
       "body[data-theme=dark],\n",
       "body.vscode-dark {\n",
       "  --xr-font-color0: rgba(255, 255, 255, 1);\n",
       "  --xr-font-color2: rgba(255, 255, 255, 0.54);\n",
       "  --xr-font-color3: rgba(255, 255, 255, 0.38);\n",
       "  --xr-border-color: #1F1F1F;\n",
       "  --xr-disabled-color: #515151;\n",
       "  --xr-background-color: #111111;\n",
       "  --xr-background-color-row-even: #111111;\n",
       "  --xr-background-color-row-odd: #313131;\n",
       "}\n",
       "\n",
       ".xr-wrap {\n",
       "  display: block !important;\n",
       "  min-width: 300px;\n",
       "  max-width: 700px;\n",
       "}\n",
       "\n",
       ".xr-text-repr-fallback {\n",
       "  /* fallback to plain text repr when CSS is not injected (untrusted notebook) */\n",
       "  display: none;\n",
       "}\n",
       "\n",
       ".xr-header {\n",
       "  padding-top: 6px;\n",
       "  padding-bottom: 6px;\n",
       "  margin-bottom: 4px;\n",
       "  border-bottom: solid 1px var(--xr-border-color);\n",
       "}\n",
       "\n",
       ".xr-header > div,\n",
       ".xr-header > ul {\n",
       "  display: inline;\n",
       "  margin-top: 0;\n",
       "  margin-bottom: 0;\n",
       "}\n",
       "\n",
       ".xr-obj-type,\n",
       ".xr-array-name {\n",
       "  margin-left: 2px;\n",
       "  margin-right: 10px;\n",
       "}\n",
       "\n",
       ".xr-obj-type {\n",
       "  color: var(--xr-font-color2);\n",
       "}\n",
       "\n",
       ".xr-sections {\n",
       "  padding-left: 0 !important;\n",
       "  display: grid;\n",
       "  grid-template-columns: 150px auto auto 1fr 20px 20px;\n",
       "}\n",
       "\n",
       ".xr-section-item {\n",
       "  display: contents;\n",
       "}\n",
       "\n",
       ".xr-section-item input {\n",
       "  display: none;\n",
       "}\n",
       "\n",
       ".xr-section-item input + label {\n",
       "  color: var(--xr-disabled-color);\n",
       "}\n",
       "\n",
       ".xr-section-item input:enabled + label {\n",
       "  cursor: pointer;\n",
       "  color: var(--xr-font-color2);\n",
       "}\n",
       "\n",
       ".xr-section-item input:enabled + label:hover {\n",
       "  color: var(--xr-font-color0);\n",
       "}\n",
       "\n",
       ".xr-section-summary {\n",
       "  grid-column: 1;\n",
       "  color: var(--xr-font-color2);\n",
       "  font-weight: 500;\n",
       "}\n",
       "\n",
       ".xr-section-summary > span {\n",
       "  display: inline-block;\n",
       "  padding-left: 0.5em;\n",
       "}\n",
       "\n",
       ".xr-section-summary-in:disabled + label {\n",
       "  color: var(--xr-font-color2);\n",
       "}\n",
       "\n",
       ".xr-section-summary-in + label:before {\n",
       "  display: inline-block;\n",
       "  content: '►';\n",
       "  font-size: 11px;\n",
       "  width: 15px;\n",
       "  text-align: center;\n",
       "}\n",
       "\n",
       ".xr-section-summary-in:disabled + label:before {\n",
       "  color: var(--xr-disabled-color);\n",
       "}\n",
       "\n",
       ".xr-section-summary-in:checked + label:before {\n",
       "  content: '▼';\n",
       "}\n",
       "\n",
       ".xr-section-summary-in:checked + label > span {\n",
       "  display: none;\n",
       "}\n",
       "\n",
       ".xr-section-summary,\n",
       ".xr-section-inline-details {\n",
       "  padding-top: 4px;\n",
       "  padding-bottom: 4px;\n",
       "}\n",
       "\n",
       ".xr-section-inline-details {\n",
       "  grid-column: 2 / -1;\n",
       "}\n",
       "\n",
       ".xr-section-details {\n",
       "  display: none;\n",
       "  grid-column: 1 / -1;\n",
       "  margin-bottom: 5px;\n",
       "}\n",
       "\n",
       ".xr-section-summary-in:checked ~ .xr-section-details {\n",
       "  display: contents;\n",
       "}\n",
       "\n",
       ".xr-array-wrap {\n",
       "  grid-column: 1 / -1;\n",
       "  display: grid;\n",
       "  grid-template-columns: 20px auto;\n",
       "}\n",
       "\n",
       ".xr-array-wrap > label {\n",
       "  grid-column: 1;\n",
       "  vertical-align: top;\n",
       "}\n",
       "\n",
       ".xr-preview {\n",
       "  color: var(--xr-font-color3);\n",
       "}\n",
       "\n",
       ".xr-array-preview,\n",
       ".xr-array-data {\n",
       "  padding: 0 5px !important;\n",
       "  grid-column: 2;\n",
       "}\n",
       "\n",
       ".xr-array-data,\n",
       ".xr-array-in:checked ~ .xr-array-preview {\n",
       "  display: none;\n",
       "}\n",
       "\n",
       ".xr-array-in:checked ~ .xr-array-data,\n",
       ".xr-array-preview {\n",
       "  display: inline-block;\n",
       "}\n",
       "\n",
       ".xr-dim-list {\n",
       "  display: inline-block !important;\n",
       "  list-style: none;\n",
       "  padding: 0 !important;\n",
       "  margin: 0;\n",
       "}\n",
       "\n",
       ".xr-dim-list li {\n",
       "  display: inline-block;\n",
       "  padding: 0;\n",
       "  margin: 0;\n",
       "}\n",
       "\n",
       ".xr-dim-list:before {\n",
       "  content: '(';\n",
       "}\n",
       "\n",
       ".xr-dim-list:after {\n",
       "  content: ')';\n",
       "}\n",
       "\n",
       ".xr-dim-list li:not(:last-child):after {\n",
       "  content: ',';\n",
       "  padding-right: 5px;\n",
       "}\n",
       "\n",
       ".xr-has-index {\n",
       "  font-weight: bold;\n",
       "}\n",
       "\n",
       ".xr-var-list,\n",
       ".xr-var-item {\n",
       "  display: contents;\n",
       "}\n",
       "\n",
       ".xr-var-item > div,\n",
       ".xr-var-item label,\n",
       ".xr-var-item > .xr-var-name span {\n",
       "  background-color: var(--xr-background-color-row-even);\n",
       "  margin-bottom: 0;\n",
       "}\n",
       "\n",
       ".xr-var-item > .xr-var-name:hover span {\n",
       "  padding-right: 5px;\n",
       "}\n",
       "\n",
       ".xr-var-list > li:nth-child(odd) > div,\n",
       ".xr-var-list > li:nth-child(odd) > label,\n",
       ".xr-var-list > li:nth-child(odd) > .xr-var-name span {\n",
       "  background-color: var(--xr-background-color-row-odd);\n",
       "}\n",
       "\n",
       ".xr-var-name {\n",
       "  grid-column: 1;\n",
       "}\n",
       "\n",
       ".xr-var-dims {\n",
       "  grid-column: 2;\n",
       "}\n",
       "\n",
       ".xr-var-dtype {\n",
       "  grid-column: 3;\n",
       "  text-align: right;\n",
       "  color: var(--xr-font-color2);\n",
       "}\n",
       "\n",
       ".xr-var-preview {\n",
       "  grid-column: 4;\n",
       "}\n",
       "\n",
       ".xr-index-preview {\n",
       "  grid-column: 2 / 5;\n",
       "  color: var(--xr-font-color2);\n",
       "}\n",
       "\n",
       ".xr-var-name,\n",
       ".xr-var-dims,\n",
       ".xr-var-dtype,\n",
       ".xr-preview,\n",
       ".xr-attrs dt {\n",
       "  white-space: nowrap;\n",
       "  overflow: hidden;\n",
       "  text-overflow: ellipsis;\n",
       "  padding-right: 10px;\n",
       "}\n",
       "\n",
       ".xr-var-name:hover,\n",
       ".xr-var-dims:hover,\n",
       ".xr-var-dtype:hover,\n",
       ".xr-attrs dt:hover {\n",
       "  overflow: visible;\n",
       "  width: auto;\n",
       "  z-index: 1;\n",
       "}\n",
       "\n",
       ".xr-var-attrs,\n",
       ".xr-var-data,\n",
       ".xr-index-data {\n",
       "  display: none;\n",
       "  background-color: var(--xr-background-color) !important;\n",
       "  padding-bottom: 5px !important;\n",
       "}\n",
       "\n",
       ".xr-var-attrs-in:checked ~ .xr-var-attrs,\n",
       ".xr-var-data-in:checked ~ .xr-var-data,\n",
       ".xr-index-data-in:checked ~ .xr-index-data {\n",
       "  display: block;\n",
       "}\n",
       "\n",
       ".xr-var-data > table {\n",
       "  float: right;\n",
       "}\n",
       "\n",
       ".xr-var-name span,\n",
       ".xr-var-data,\n",
       ".xr-index-name div,\n",
       ".xr-index-data,\n",
       ".xr-attrs {\n",
       "  padding-left: 25px !important;\n",
       "}\n",
       "\n",
       ".xr-attrs,\n",
       ".xr-var-attrs,\n",
       ".xr-var-data,\n",
       ".xr-index-data {\n",
       "  grid-column: 1 / -1;\n",
       "}\n",
       "\n",
       "dl.xr-attrs {\n",
       "  padding: 0;\n",
       "  margin: 0;\n",
       "  display: grid;\n",
       "  grid-template-columns: 125px auto;\n",
       "}\n",
       "\n",
       ".xr-attrs dt,\n",
       ".xr-attrs dd {\n",
       "  padding: 0;\n",
       "  margin: 0;\n",
       "  float: left;\n",
       "  padding-right: 10px;\n",
       "  width: auto;\n",
       "}\n",
       "\n",
       ".xr-attrs dt {\n",
       "  font-weight: normal;\n",
       "  grid-column: 1;\n",
       "}\n",
       "\n",
       ".xr-attrs dt:hover span {\n",
       "  display: inline-block;\n",
       "  background: var(--xr-background-color);\n",
       "  padding-right: 10px;\n",
       "}\n",
       "\n",
       ".xr-attrs dd {\n",
       "  grid-column: 2;\n",
       "  white-space: pre-wrap;\n",
       "  word-break: break-all;\n",
       "}\n",
       "\n",
       ".xr-icon-database,\n",
       ".xr-icon-file-text2,\n",
       ".xr-no-icon {\n",
       "  display: inline-block;\n",
       "  vertical-align: middle;\n",
       "  width: 1em;\n",
       "  height: 1.5em !important;\n",
       "  stroke-width: 0;\n",
       "  stroke: currentColor;\n",
       "  fill: currentColor;\n",
       "}\n",
       "</style><pre class='xr-text-repr-fallback'>&lt;xarray.DataArray &#x27;t2m&#x27; (valid_time: 1, y: 187, x: 402)&gt; Size: 301kB\n",
       "[75174 values with dtype=float32]\n",
       "Coordinates:\n",
       "    number       int64 8B ...\n",
       "    surface      float64 8B ...\n",
       "  * valid_time   (valid_time) datetime64[ns] 8B 2025-03-01\n",
       "  * x            (x) float64 3kB -31.25 -31.0 -30.75 -30.5 ... 68.5 68.75 69.0\n",
       "  * y            (y) float64 1kB 34.5 34.75 35.0 35.25 ... 80.25 80.5 80.75 81.0\n",
       "    spatial_ref  int64 8B 0\n",
       "Attributes:\n",
       "    units:    C</pre><div class='xr-wrap' style='display:none'><div class='xr-header'><div class='xr-obj-type'>xarray.DataArray</div><div class='xr-array-name'>'t2m'</div><ul class='xr-dim-list'><li><span class='xr-has-index'>valid_time</span>: 1</li><li><span class='xr-has-index'>y</span>: 187</li><li><span class='xr-has-index'>x</span>: 402</li></ul></div><ul class='xr-sections'><li class='xr-section-item'><div class='xr-array-wrap'><input id='section-3713eefa-01d7-4512-ad0d-281bfc34ce84' class='xr-array-in' type='checkbox' checked><label for='section-3713eefa-01d7-4512-ad0d-281bfc34ce84' title='Show/hide data repr'><svg class='icon xr-icon-database'><use xlink:href='#icon-database'></use></svg></label><div class='xr-array-preview xr-preview'><span>...</span></div><div class='xr-array-data'><pre>[75174 values with dtype=float32]</pre></div></div></li><li class='xr-section-item'><input id='section-7538ddb6-db35-4830-a177-2dff8fd36526' class='xr-section-summary-in' type='checkbox'  checked><label for='section-7538ddb6-db35-4830-a177-2dff8fd36526' class='xr-section-summary' >Coordinates: <span>(6)</span></label><div class='xr-section-inline-details'></div><div class='xr-section-details'><ul class='xr-var-list'><li class='xr-var-item'><div class='xr-var-name'><span>number</span></div><div class='xr-var-dims'>()</div><div class='xr-var-dtype'>int64</div><div class='xr-var-preview xr-preview'>...</div><input id='attrs-1eda11c4-6309-477b-b392-26ee808fb3d4' class='xr-var-attrs-in' type='checkbox' disabled><label for='attrs-1eda11c4-6309-477b-b392-26ee808fb3d4' title='Show/Hide attributes'><svg class='icon xr-icon-file-text2'><use xlink:href='#icon-file-text2'></use></svg></label><input id='data-1c73f0de-096b-4c1b-83a6-cf62e6bb8ffe' class='xr-var-data-in' type='checkbox'><label for='data-1c73f0de-096b-4c1b-83a6-cf62e6bb8ffe' title='Show/Hide data repr'><svg class='icon xr-icon-database'><use xlink:href='#icon-database'></use></svg></label><div class='xr-var-attrs'><dl class='xr-attrs'></dl></div><div class='xr-var-data'><pre>[1 values with dtype=int64]</pre></div></li><li class='xr-var-item'><div class='xr-var-name'><span>surface</span></div><div class='xr-var-dims'>()</div><div class='xr-var-dtype'>float64</div><div class='xr-var-preview xr-preview'>...</div><input id='attrs-8037a556-2a41-43f0-86b1-aabf48a25813' class='xr-var-attrs-in' type='checkbox' disabled><label for='attrs-8037a556-2a41-43f0-86b1-aabf48a25813' title='Show/Hide attributes'><svg class='icon xr-icon-file-text2'><use xlink:href='#icon-file-text2'></use></svg></label><input id='data-1e24c97e-f108-4651-a0d0-94bf6c1989dd' class='xr-var-data-in' type='checkbox'><label for='data-1e24c97e-f108-4651-a0d0-94bf6c1989dd' title='Show/Hide data repr'><svg class='icon xr-icon-database'><use xlink:href='#icon-database'></use></svg></label><div class='xr-var-attrs'><dl class='xr-attrs'></dl></div><div class='xr-var-data'><pre>[1 values with dtype=float64]</pre></div></li><li class='xr-var-item'><div class='xr-var-name'><span class='xr-has-index'>valid_time</span></div><div class='xr-var-dims'>(valid_time)</div><div class='xr-var-dtype'>datetime64[ns]</div><div class='xr-var-preview xr-preview'>2025-03-01</div><input id='attrs-652f740e-ad16-4c10-a778-1dc5c1ff7d11' class='xr-var-attrs-in' type='checkbox' ><label for='attrs-652f740e-ad16-4c10-a778-1dc5c1ff7d11' title='Show/Hide attributes'><svg class='icon xr-icon-file-text2'><use xlink:href='#icon-file-text2'></use></svg></label><input id='data-ce3e0942-58cb-4ee9-a648-94ae687b286d' class='xr-var-data-in' type='checkbox'><label for='data-ce3e0942-58cb-4ee9-a648-94ae687b286d' title='Show/Hide data repr'><svg class='icon xr-icon-database'><use xlink:href='#icon-database'></use></svg></label><div class='xr-var-attrs'><dl class='xr-attrs'><dt><span>long_name :</span></dt><dd>time</dd><dt><span>standard_name :</span></dt><dd>time</dd></dl></div><div class='xr-var-data'><pre>array([&#x27;2025-03-01T00:00:00.000000000&#x27;], dtype=&#x27;datetime64[ns]&#x27;)</pre></div></li><li class='xr-var-item'><div class='xr-var-name'><span class='xr-has-index'>x</span></div><div class='xr-var-dims'>(x)</div><div class='xr-var-dtype'>float64</div><div class='xr-var-preview xr-preview'>-31.25 -31.0 -30.75 ... 68.75 69.0</div><input id='attrs-ff3d8719-c5cc-44f4-9006-823b47c682f1' class='xr-var-attrs-in' type='checkbox' disabled><label for='attrs-ff3d8719-c5cc-44f4-9006-823b47c682f1' title='Show/Hide attributes'><svg class='icon xr-icon-file-text2'><use xlink:href='#icon-file-text2'></use></svg></label><input id='data-11405a98-973f-48bb-87ea-14ca47499a7f' class='xr-var-data-in' type='checkbox'><label for='data-11405a98-973f-48bb-87ea-14ca47499a7f' title='Show/Hide data repr'><svg class='icon xr-icon-database'><use xlink:href='#icon-database'></use></svg></label><div class='xr-var-attrs'><dl class='xr-attrs'></dl></div><div class='xr-var-data'><pre>array([-31.25, -31.  , -30.75, ...,  68.5 ,  68.75,  69.  ])</pre></div></li><li class='xr-var-item'><div class='xr-var-name'><span class='xr-has-index'>y</span></div><div class='xr-var-dims'>(y)</div><div class='xr-var-dtype'>float64</div><div class='xr-var-preview xr-preview'>34.5 34.75 35.0 ... 80.5 80.75 81.0</div><input id='attrs-f37cfd63-b9d3-4ebf-9332-f40965842a13' class='xr-var-attrs-in' type='checkbox' disabled><label for='attrs-f37cfd63-b9d3-4ebf-9332-f40965842a13' title='Show/Hide attributes'><svg class='icon xr-icon-file-text2'><use xlink:href='#icon-file-text2'></use></svg></label><input id='data-2f310688-d802-441e-a189-0e03c202a6bf' class='xr-var-data-in' type='checkbox'><label for='data-2f310688-d802-441e-a189-0e03c202a6bf' title='Show/Hide data repr'><svg class='icon xr-icon-database'><use xlink:href='#icon-database'></use></svg></label><div class='xr-var-attrs'><dl class='xr-attrs'></dl></div><div class='xr-var-data'><pre>array([34.5 , 34.75, 35.  , 35.25, 35.5 , 35.75, 36.  , 36.25, 36.5 , 36.75,\n",
       "       37.  , 37.25, 37.5 , 37.75, 38.  , 38.25, 38.5 , 38.75, 39.  , 39.25,\n",
       "       39.5 , 39.75, 40.  , 40.25, 40.5 , 40.75, 41.  , 41.25, 41.5 , 41.75,\n",
       "       42.  , 42.25, 42.5 , 42.75, 43.  , 43.25, 43.5 , 43.75, 44.  , 44.25,\n",
       "       44.5 , 44.75, 45.  , 45.25, 45.5 , 45.75, 46.  , 46.25, 46.5 , 46.75,\n",
       "       47.  , 47.25, 47.5 , 47.75, 48.  , 48.25, 48.5 , 48.75, 49.  , 49.25,\n",
       "       49.5 , 49.75, 50.  , 50.25, 50.5 , 50.75, 51.  , 51.25, 51.5 , 51.75,\n",
       "       52.  , 52.25, 52.5 , 52.75, 53.  , 53.25, 53.5 , 53.75, 54.  , 54.25,\n",
       "       54.5 , 54.75, 55.  , 55.25, 55.5 , 55.75, 56.  , 56.25, 56.5 , 56.75,\n",
       "       57.  , 57.25, 57.5 , 57.75, 58.  , 58.25, 58.5 , 58.75, 59.  , 59.25,\n",
       "       59.5 , 59.75, 60.  , 60.25, 60.5 , 60.75, 61.  , 61.25, 61.5 , 61.75,\n",
       "       62.  , 62.25, 62.5 , 62.75, 63.  , 63.25, 63.5 , 63.75, 64.  , 64.25,\n",
       "       64.5 , 64.75, 65.  , 65.25, 65.5 , 65.75, 66.  , 66.25, 66.5 , 66.75,\n",
       "       67.  , 67.25, 67.5 , 67.75, 68.  , 68.25, 68.5 , 68.75, 69.  , 69.25,\n",
       "       69.5 , 69.75, 70.  , 70.25, 70.5 , 70.75, 71.  , 71.25, 71.5 , 71.75,\n",
       "       72.  , 72.25, 72.5 , 72.75, 73.  , 73.25, 73.5 , 73.75, 74.  , 74.25,\n",
       "       74.5 , 74.75, 75.  , 75.25, 75.5 , 75.75, 76.  , 76.25, 76.5 , 76.75,\n",
       "       77.  , 77.25, 77.5 , 77.75, 78.  , 78.25, 78.5 , 78.75, 79.  , 79.25,\n",
       "       79.5 , 79.75, 80.  , 80.25, 80.5 , 80.75, 81.  ])</pre></div></li><li class='xr-var-item'><div class='xr-var-name'><span>spatial_ref</span></div><div class='xr-var-dims'>()</div><div class='xr-var-dtype'>int64</div><div class='xr-var-preview xr-preview'>0</div><input id='attrs-30a9a1e0-13e2-482f-b0de-16795f19a169' class='xr-var-attrs-in' type='checkbox' ><label for='attrs-30a9a1e0-13e2-482f-b0de-16795f19a169' title='Show/Hide attributes'><svg class='icon xr-icon-file-text2'><use xlink:href='#icon-file-text2'></use></svg></label><input id='data-9bedebe5-60d8-4d35-9081-92053ab472df' class='xr-var-data-in' type='checkbox'><label for='data-9bedebe5-60d8-4d35-9081-92053ab472df' title='Show/Hide data repr'><svg class='icon xr-icon-database'><use xlink:href='#icon-database'></use></svg></label><div class='xr-var-attrs'><dl class='xr-attrs'><dt><span>crs_wkt :</span></dt><dd>GEOGCS[&quot;WGS 84&quot;,DATUM[&quot;WGS_1984&quot;,SPHEROID[&quot;WGS 84&quot;,6378137,298.257223563,AUTHORITY[&quot;EPSG&quot;,&quot;7030&quot;]],AUTHORITY[&quot;EPSG&quot;,&quot;6326&quot;]],PRIMEM[&quot;Greenwich&quot;,0,AUTHORITY[&quot;EPSG&quot;,&quot;8901&quot;]],UNIT[&quot;degree&quot;,0.0174532925199433,AUTHORITY[&quot;EPSG&quot;,&quot;9122&quot;]],AXIS[&quot;Latitude&quot;,NORTH],AXIS[&quot;Longitude&quot;,EAST],AUTHORITY[&quot;EPSG&quot;,&quot;4326&quot;]]</dd><dt><span>semi_major_axis :</span></dt><dd>6378137.0</dd><dt><span>semi_minor_axis :</span></dt><dd>6356752.314245179</dd><dt><span>inverse_flattening :</span></dt><dd>298.257223563</dd><dt><span>reference_ellipsoid_name :</span></dt><dd>WGS 84</dd><dt><span>longitude_of_prime_meridian :</span></dt><dd>0.0</dd><dt><span>prime_meridian_name :</span></dt><dd>Greenwich</dd><dt><span>geographic_crs_name :</span></dt><dd>WGS 84</dd><dt><span>horizontal_datum_name :</span></dt><dd>World Geodetic System 1984</dd><dt><span>grid_mapping_name :</span></dt><dd>latitude_longitude</dd><dt><span>spatial_ref :</span></dt><dd>GEOGCS[&quot;WGS 84&quot;,DATUM[&quot;WGS_1984&quot;,SPHEROID[&quot;WGS 84&quot;,6378137,298.257223563,AUTHORITY[&quot;EPSG&quot;,&quot;7030&quot;]],AUTHORITY[&quot;EPSG&quot;,&quot;6326&quot;]],PRIMEM[&quot;Greenwich&quot;,0,AUTHORITY[&quot;EPSG&quot;,&quot;8901&quot;]],UNIT[&quot;degree&quot;,0.0174532925199433,AUTHORITY[&quot;EPSG&quot;,&quot;9122&quot;]],AXIS[&quot;Latitude&quot;,NORTH],AXIS[&quot;Longitude&quot;,EAST],AUTHORITY[&quot;EPSG&quot;,&quot;4326&quot;]]</dd></dl></div><div class='xr-var-data'><pre>array(0)</pre></div></li></ul></div></li><li class='xr-section-item'><input id='section-8f008620-1394-4961-a956-1739b0e0d087' class='xr-section-summary-in' type='checkbox'  ><label for='section-8f008620-1394-4961-a956-1739b0e0d087' class='xr-section-summary' >Indexes: <span>(3)</span></label><div class='xr-section-inline-details'></div><div class='xr-section-details'><ul class='xr-var-list'><li class='xr-var-item'><div class='xr-index-name'><div>valid_time</div></div><div class='xr-index-preview'>PandasIndex</div><div></div><input id='index-8f213b73-1224-4376-92a8-4d2d8834fef1' class='xr-index-data-in' type='checkbox'/><label for='index-8f213b73-1224-4376-92a8-4d2d8834fef1' title='Show/Hide index repr'><svg class='icon xr-icon-database'><use xlink:href='#icon-database'></use></svg></label><div class='xr-index-data'><pre>PandasIndex(DatetimeIndex([&#x27;2025-03-01&#x27;], dtype=&#x27;datetime64[ns]&#x27;, name=&#x27;valid_time&#x27;, freq=None))</pre></div></li><li class='xr-var-item'><div class='xr-index-name'><div>x</div></div><div class='xr-index-preview'>PandasIndex</div><div></div><input id='index-695b8544-1776-4c00-8591-436ff901d873' class='xr-index-data-in' type='checkbox'/><label for='index-695b8544-1776-4c00-8591-436ff901d873' title='Show/Hide index repr'><svg class='icon xr-icon-database'><use xlink:href='#icon-database'></use></svg></label><div class='xr-index-data'><pre>PandasIndex(Index([-31.25,  -31.0, -30.75,  -30.5, -30.25,  -30.0, -29.75,  -29.5, -29.25,\n",
       "        -29.0,\n",
       "       ...\n",
       "        66.75,   67.0,  67.25,   67.5,  67.75,   68.0,  68.25,   68.5,  68.75,\n",
       "         69.0],\n",
       "      dtype=&#x27;float64&#x27;, name=&#x27;x&#x27;, length=402))</pre></div></li><li class='xr-var-item'><div class='xr-index-name'><div>y</div></div><div class='xr-index-preview'>PandasIndex</div><div></div><input id='index-de6c764a-ef7a-4e74-ad1a-70deb5f33c04' class='xr-index-data-in' type='checkbox'/><label for='index-de6c764a-ef7a-4e74-ad1a-70deb5f33c04' title='Show/Hide index repr'><svg class='icon xr-icon-database'><use xlink:href='#icon-database'></use></svg></label><div class='xr-index-data'><pre>PandasIndex(Index([ 34.5, 34.75,  35.0, 35.25,  35.5, 35.75,  36.0, 36.25,  36.5, 36.75,\n",
       "       ...\n",
       "       78.75,  79.0, 79.25,  79.5, 79.75,  80.0, 80.25,  80.5, 80.75,  81.0],\n",
       "      dtype=&#x27;float64&#x27;, name=&#x27;y&#x27;, length=187))</pre></div></li></ul></div></li><li class='xr-section-item'><input id='section-5d0e96f7-c0da-4706-9b7d-ffadcb7321b2' class='xr-section-summary-in' type='checkbox'  checked><label for='section-5d0e96f7-c0da-4706-9b7d-ffadcb7321b2' class='xr-section-summary' >Attributes: <span>(1)</span></label><div class='xr-section-inline-details'></div><div class='xr-section-details'><dl class='xr-attrs'><dt><span>units :</span></dt><dd>C</dd></dl></div></li></ul></div></div>"
      ],
      "text/plain": [
       "<xarray.DataArray 't2m' (valid_time: 1, y: 187, x: 402)> Size: 301kB\n",
       "[75174 values with dtype=float32]\n",
       "Coordinates:\n",
       "    number       int64 8B ...\n",
       "    surface      float64 8B ...\n",
       "  * valid_time   (valid_time) datetime64[ns] 8B 2025-03-01\n",
       "  * x            (x) float64 3kB -31.25 -31.0 -30.75 -30.5 ... 68.5 68.75 69.0\n",
       "  * y            (y) float64 1kB 34.5 34.75 35.0 35.25 ... 80.25 80.5 80.75 81.0\n",
       "    spatial_ref  int64 8B 0\n",
       "Attributes:\n",
       "    units:    C"
      ]
     },
     "execution_count": 37,
     "metadata": {},
     "output_type": "execute_result"
    }
   ],
   "source": [
    "import xarray as xr\n",
    "import rioxarray\n",
    "\n",
    "# Open dataset and select variable (e.g. var='sst')\n",
    "\n",
    "var = 't2m'\n",
    "data = xr.open_dataset(file_path)\n",
    "data = data[var]\n",
    "\n",
    "# Apply CRS (assuming the coordinates are longitude and latitude)\n",
    "\n",
    "var = data.rename({'latitude': 'y', 'longitude': 'x'})\n",
    "var.rio.write_crs(\"EPSG:4326\", inplace=True)\n"
   ]
  },
  {
   "cell_type": "markdown",
   "id": "cfe781c6-fa91-44ed-b8a3-b475eb19dc3d",
   "metadata": {},
   "source": [
    "## Manage NaN values\n",
    "\n",
    "If data contains NaN, replace it with -9999 to make them transparent afterwards (as soon as you then map this value to black in the colormap text file)\n"
   ]
  },
  {
   "cell_type": "code",
   "execution_count": 38,
   "id": "528ee768-173e-4cfb-a03f-9d6ceee1db3b",
   "metadata": {},
   "outputs": [],
   "source": [
    "var_filled = var.fillna(-9999)"
   ]
  },
  {
   "cell_type": "markdown",
   "id": "7a03c961-972a-4098-b7d2-5dfccea7a31e",
   "metadata": {},
   "source": [
    "## Rotate data in case of need \n",
    "\n",
    "it can be necessary to flip data of 180 degrees; verify if this step is necessary to your case\n",
    "\n",
    "```\n",
    "var_filled = var_filled[::-1, ::]\n",
    "```"
   ]
  },
  {
   "cell_type": "markdown",
   "id": "09366736-4c13-445a-926d-171d7d2320f2",
   "metadata": {},
   "source": [
    "## Save the transformed data to GeoTiff (intermediate step)\n",
    "\n",
    "Wait untill the tiff file is created (it could take a while)"
   ]
  },
  {
   "cell_type": "code",
   "execution_count": 40,
   "id": "9cc0127d-59dd-4fa8-b761-f97158174562",
   "metadata": {},
   "outputs": [
    {
     "name": "stdout",
     "output_type": "stream",
     "text": [
      "Your GeoTiff file in grayscale t2m_europe_era5_202503.tiff is ready!\n"
     ]
    }
   ],
   "source": [
    "var_filled.rio.to_raster(tif_path)\n",
    "\n",
    "print(f\"Your GeoTiff file in grayscale {tif_path} is ready!\")"
   ]
  },
  {
   "cell_type": "markdown",
   "id": "ad478c7d-475c-44dc-9619-5557339ef18b",
   "metadata": {},
   "source": [
    "# Apply the colormap to the generated Tiff in grayscale\n",
    "\n",
    "Matplotlib will be used to achieve this.\n",
    "\n",
    "The following file will be downlaoded locally: **t2m_era5_202503_rgb.tiff**"
   ]
  },
  {
   "cell_type": "markdown",
   "id": "edefabe2-07f4-4668-91c8-45f43665a789",
   "metadata": {},
   "source": [
    "## 1. Load the colormap from the file\n",
    "\n",
    "The file colormap.txt contains a colormap suitable for temperature in Celsius."
   ]
  },
  {
   "cell_type": "code",
   "execution_count": 41,
   "id": "60cf4af3-140f-4de0-bb0e-d9c6a3c80896",
   "metadata": {},
   "outputs": [],
   "source": [
    "import rasterio\n",
    "import numpy as np\n",
    "import matplotlib.pyplot as plt\n",
    "from matplotlib.colors import ListedColormap\n",
    "\n",
    "# Load the colormap from the file\n",
    "def load_colormap(colormap_file):\n",
    "    colormap = []\n",
    "    values = []\n",
    "    with open(colormap_file, 'r') as f:\n",
    "        for line in f:\n",
    "            # Skip empty lines\n",
    "            if not line.strip():\n",
    "                continue\n",
    "            parts = line.strip().split(maxsplit=1)  # Split only at the first space\n",
    "            value = float(parts[0])\n",
    "            # Ensure correct parsing of the RGB values\n",
    "            rgb = tuple(map(int, parts[1].replace(',', ' ').split()))\n",
    "            values.append(value)\n",
    "            colormap.append(rgb)\n",
    "    return values, colormap\n",
    "\n",
    "values, colormap = load_colormap('colormap.txt')"
   ]
  },
  {
   "cell_type": "markdown",
   "id": "2e539b66-0c1c-418d-aa01-2e51ebd264ae",
   "metadata": {},
   "source": [
    "## 2. Create a custom colormap for matplotlib"
   ]
  },
  {
   "cell_type": "code",
   "execution_count": 42,
   "id": "8d914ff7-e34a-407c-be9c-d8e109af00e5",
   "metadata": {},
   "outputs": [],
   "source": [
    "def create_colormap(values, colormap):\n",
    "    norm_values = np.linspace(0, 1, len(values))\n",
    "    colors = np.array(colormap) / 255.0  # Normalize RGB to [0, 1] range\n",
    "    return ListedColormap(colors), norm_values\n",
    "\n",
    "cmap, norm_values = create_colormap(values, colormap)"
   ]
  },
  {
   "cell_type": "markdown",
   "id": "a4b3d82b-d8ba-4550-9746-1ed354d18c3b",
   "metadata": {},
   "source": [
    "## 3. Open the grayscale TIFF"
   ]
  },
  {
   "cell_type": "code",
   "execution_count": 43,
   "id": "46cbdd3a-6d27-4112-a73a-ac4e72085ea3",
   "metadata": {},
   "outputs": [],
   "source": [
    "with rasterio.open(tif_path) as src:\n",
    "    grayscale = src.read(1)  # Read the first band"
   ]
  },
  {
   "cell_type": "markdown",
   "id": "e234acf7-cebc-4625-99bd-de1e5baa7f56",
   "metadata": {},
   "source": [
    "## 4. Apply the colormap\n",
    "\n",
    "Interpolate the grayscale values to teh colormap\n",
    "\n",
    "A new Tiff will be generated"
   ]
  },
  {
   "cell_type": "code",
   "execution_count": 44,
   "id": "6521c229-fdb9-4145-b478-e2109c9ab44b",
   "metadata": {},
   "outputs": [],
   "source": [
    "output_rgb_tiff = \"t2m_europe_era5_202503_rgb.tiff\""
   ]
  },
  {
   "cell_type": "code",
   "execution_count": 46,
   "id": "0c35bdad-e9a2-4069-9584-ba6e01a008fd",
   "metadata": {},
   "outputs": [
    {
     "name": "stdout",
     "output_type": "stream",
     "text": [
      "Your file RGB t2m_europe_era5_202503_rgb.tiff is ready!\n"
     ]
    }
   ],
   "source": [
    "def apply_colormap_to_tiff(input_tiff, output_tiff, values, colormap):\n",
    "    with rasterio.open(input_tiff) as src:\n",
    "        grayscale = src.read(1)  # Read the first band (grayscale)\n",
    "        \n",
    "        # Apply the colormap to the grayscale data\n",
    "        normalized = (grayscale - np.min(grayscale)) / (np.max(grayscale) - np.min(grayscale))  # Normalize\n",
    "        cmap = ListedColormap(np.array(colormap) / 255.0)  # Convert colormap to matplotlib format\n",
    "        rgb_image = cmap(normalized)\n",
    "\n",
    "        # Write the RGB image to a new TIFF\n",
    "        height, width, _ = rgb_image.shape\n",
    "        profile = src.profile\n",
    "        profile.update(count=3, dtype=rasterio.uint8)  # Update profile to handle RGB output\n",
    "\n",
    "        with rasterio.open(output_tiff, 'w', **profile) as dst:\n",
    "            dst.write((rgb_image[:, :, 0] * 255).astype(np.uint8), 1)\n",
    "            dst.write((rgb_image[:, :, 1] * 255).astype(np.uint8), 2)\n",
    "            dst.write((rgb_image[:, :, 2] * 255).astype(np.uint8), 3)\n",
    "\n",
    "# Apply the colormap (assuming 'values' and 'colormap' were already loaded)\n",
    "apply_colormap_to_tiff(tif_path, output_rgb_tiff, values, colormap)\n",
    "\n",
    "print(f\"Your file RGB {output_rgb_tiff} is ready!\")"
   ]
  },
  {
   "cell_type": "markdown",
   "id": "f90ec6b7-2258-4090-83bc-100f7979f54b",
   "metadata": {},
   "source": [
    "# Convert TIFF to COG optimized for web\n",
    "\n",
    "The following file will be downlaoded locally: **sst_era5_20250321_web_optimized.tiff**\n",
    "\n",
    "First of all, import the needed dependencies"
   ]
  },
  {
   "cell_type": "code",
   "execution_count": 47,
   "id": "543d5a02-23c5-4baf-b133-679226c14070",
   "metadata": {},
   "outputs": [],
   "source": [
    "import rasterio\n",
    "from rasterio.enums import Resampling\n",
    "from rio_cogeo.cogeo import cog_validate, cog_translate\n",
    "from rio_cogeo.profiles import cog_profiles\n",
    "from datetime import datetime\n"
   ]
  },
  {
   "cell_type": "markdown",
   "id": "014354e9-dc8e-4e88-a8d8-876d1be8fdfb",
   "metadata": {},
   "source": [
    "## 1. Define paths to your files"
   ]
  },
  {
   "cell_type": "code",
   "execution_count": 48,
   "id": "0663ca48-fa71-4ff3-9bb8-ade03b4f1085",
   "metadata": {},
   "outputs": [],
   "source": [
    "now = datetime.now() # current date and time\n",
    "current_time = now.strftime(\"%m%d%Y%H%M%S\")\n",
    "\n",
    "output_cog = \"t2m_europe_era5_202503_cog.tiff\"\n",
    "output_cog_web_optimized = \"t2m_europe_era5_202503_web_optimized_\" + current_time + \".tiff\""
   ]
  },
  {
   "cell_type": "markdown",
   "id": "64135aa7-d500-42bb-8a82-fb50d041493d",
   "metadata": {},
   "source": [
    "## 2. Convert the GeoTiff to COG"
   ]
  },
  {
   "cell_type": "code",
   "execution_count": 49,
   "id": "b60a6ea0-e9d0-469b-a5b0-73373402708c",
   "metadata": {},
   "outputs": [
    {
     "name": "stderr",
     "output_type": "stream",
     "text": [
      "Reading input: <open DatasetReader name='t2m_europe_era5_202503_rgb.tiff' mode='r'>\n",
      "\n",
      "Adding overviews...\n",
      "Updating dataset tags...\n",
      "Writing output to: t2m_europe_era5_202503_cog.tiff\n"
     ]
    },
    {
     "name": "stdout",
     "output_type": "stream",
     "text": [
      "COG t2m_europe_era5_202503_cog.tiff created successfully!\n"
     ]
    }
   ],
   "source": [
    "cog_profile = cog_profiles.get(\"deflate\")  # You can choose other profiles such as \"jpeg\", \"lzw\"\n",
    "\n",
    "config = {\n",
    "    \"blocksize\": 512,  # You can customize the blocksize\n",
    "    \"resampling\": \"average\"  # Pass the resampling method as a string\n",
    "}\n",
    "\n",
    "with rasterio.open(output_rgb_tiff) as src:\n",
    "    # Create COG\n",
    "    cog_translate(\n",
    "        src,\n",
    "        output_cog,\n",
    "        cog_profile,\n",
    "        config=config,\n",
    "        nodata=src.nodata,\n",
    "        overview_level=8,  # Define the overview level\n",
    "        overview_resampling=\"average\",  # Pass the resampling method as a string\n",
    "    )\n",
    "\n",
    "print(f\"COG {output_cog} created successfully!\")"
   ]
  },
  {
   "cell_type": "markdown",
   "id": "d9872ce7-a63b-415b-9c59-88d7f8b00225",
   "metadata": {},
   "source": [
    "## 3. Convert COG to web-optimized COG using subprocess"
   ]
  },
  {
   "cell_type": "code",
   "execution_count": 50,
   "id": "45c0e2dc-6702-4e05-977e-24114d90db50",
   "metadata": {
    "scrolled": true
   },
   "outputs": [
    {
     "name": "stdout",
     "output_type": "stream",
     "text": [
      "Defining overview's `blocksize` to match the high resolution `blocksize`: 512\n"
     ]
    },
    {
     "name": "stderr",
     "output_type": "stream",
     "text": [
      "Reading input: /home/jovyan/desp-lab/dea-test/data2story/t2m_europe_era5_202503_cog.tiff\n",
      "\n",
      "Adding overviews...\n",
      "Updating dataset tags...\n",
      "Writing output to: /home/jovyan/desp-lab/dea-test/data2story/t2m_europe_era5_202503_web_optimized_06052025222727.tiff\n"
     ]
    },
    {
     "name": "stdout",
     "output_type": "stream",
     "text": [
      "Web-optimized COG t2m_europe_era5_202503_web_optimized_06052025222727.tiff created successfully!\n"
     ]
    }
   ],
   "source": [
    "import subprocess\n",
    "\n",
    "subprocess.run([\n",
    "    \"rio\", \"cogeo\", \"create\", \n",
    "    output_cog, \n",
    "    output_cog_web_optimized,\n",
    "    \"--blocksize\", \"512\",\n",
    "    \"--overview-resampling\", \"average\",\n",
    "    \"--overview-level\", \"8\",\n",
    "    \"--web-optimized\"\n",
    "], check=True)\n",
    "\n",
    "print(f\"Web-optimized COG {output_cog_web_optimized} created successfully!\")\n"
   ]
  },
  {
   "cell_type": "markdown",
   "id": "66d6e3c6-a8d6-4209-80dc-36f4fda295bf",
   "metadata": {},
   "source": [
    "**NOTE**: The global COG file may result in missing the data over the poles, as those regions introduce distortions in the visualization."
   ]
  },
  {
   "cell_type": "markdown",
   "id": "e4feb667-b64d-414c-ab9c-b73af6f56cc0",
   "metadata": {},
   "source": [
    "# Upload the Web-Optimized COG on DEA!\n",
    "\n",
    "You can now upload the COG file generated on DEA and use it in your stories using the DEA API.\n",
    "\n",
    "> **_NOTE:_** You have to get a new access token to use the authenticated endpoint of DEA\n"
   ]
  },
  {
   "cell_type": "code",
   "execution_count": 51,
   "id": "91a246b8-0205-49cd-b17e-32586336e504",
   "metadata": {
    "scrolled": true
   },
   "outputs": [
    {
     "name": "stdin",
     "output_type": "stream",
     "text": [
      "Type your username:  dea@alia-space.com\n",
      "Type your password:  ········\n"
     ]
    }
   ],
   "source": [
    "%%capture cap\n",
    "%run ./../dea-authentication.py"
   ]
  },
  {
   "cell_type": "code",
   "execution_count": 52,
   "id": "cdd5e97c-902c-4a4b-a9b6-2fa1330c1ce2",
   "metadata": {},
   "outputs": [],
   "source": [
    "output_2 = cap.stdout.split('}\\n')\n",
    "token_dea = output_2[-1][0:-1]"
   ]
  },
  {
   "cell_type": "markdown",
   "id": "db50dff2-b22b-404e-b055-3bd6fe938543",
   "metadata": {},
   "source": [
    "## Add the generated COG file to your DEA asset using DEA API\n",
    "\n",
    "This file will be stored on your private workspace hosted on the DestinE Platform\n",
    "\n",
    "> **_NOTE:_** As an alternative, you can upload your asset from DEA Story Editor\n",
    "\n",
    "![alt text](./user_assets.png \"Upload assets\")"
   ]
  },
  {
   "cell_type": "code",
   "execution_count": 53,
   "id": "f0448891-87ce-465e-90f2-75445d56972d",
   "metadata": {},
   "outputs": [],
   "source": [
    "dea_base_url = \"http://dea.destine.eu/\""
   ]
  },
  {
   "cell_type": "markdown",
   "id": "d89da8e9-a145-45db-8fc4-8f10280705e1",
   "metadata": {},
   "source": [
    "### Import section"
   ]
  },
  {
   "cell_type": "code",
   "execution_count": 54,
   "id": "6972be1b-f7f2-4184-b4dc-8c9a5c6cada0",
   "metadata": {},
   "outputs": [],
   "source": [
    "import json\n",
    "import requests\n",
    "import urllib.parse\n",
    "import webbrowser"
   ]
  },
  {
   "cell_type": "code",
   "execution_count": 55,
   "id": "a232fc97-7c8d-4f90-ab95-ef88de74008c",
   "metadata": {},
   "outputs": [
    {
     "name": "stdout",
     "output_type": "stream",
     "text": [
      "Asset uploaded succesfully!\n"
     ]
    }
   ],
   "source": [
    "\n",
    "\n",
    "api_url = \"api/userAssets/upload\"\n",
    "joined_url = urllib.parse.urljoin(dea_base_url, api_url)\n",
    "\n",
    "payload = {'type': 'image/tiff',\n",
    "'assetType': 'GeoTIFF/COG'}\n",
    "files=[\n",
    "  ('file',(output_cog_web_optimized,open(output_cog_web_optimized,'rb'),'image/tiff'))\n",
    "]\n",
    "headers = {\n",
    "  'Authorization': f'Bearer {token_dea}'\n",
    "}\n",
    "\n",
    "response = requests.request(\"POST\", joined_url, headers=headers, data=payload, files=files)\n",
    "userid = ''\n",
    "numbytes = ''\n",
    "assetId = ''\n",
    "response_data = None\n",
    "\n",
    "if response.status_code == 201:\n",
    "    print('Asset uploaded succesfully!')\n",
    "    response_data = response.json()\n",
    "    userid = response_data['asset']['userId']\n",
    "    numbytes = response_data['asset']['bytes']\n",
    "    assetId = response_data['asset']['_id']\n",
    "else:\n",
    "    print('Failed to upload asset')\n",
    "    print(response.status_code)\n",
    "    print(response.reason)\n",
    "    \n",
    "\n"
   ]
  },
  {
   "cell_type": "markdown",
   "id": "de150b30-35ed-4faf-a4bf-1b33343c78ac",
   "metadata": {},
   "source": [
    "## Create a story with your asset using DEA API\n",
    "\n",
    "> **_NOTE:_** As an alternative, you can create your story from the [DEA Story Editor](https://dea.destine.eu/web/stories/editor)\n"
   ]
  },
  {
   "cell_type": "markdown",
   "id": "378bac81-cafa-4056-81c6-47e846807520",
   "metadata": {},
   "source": [
    "### Type a title for your story"
   ]
  },
  {
   "cell_type": "code",
   "execution_count": 56,
   "id": "8e2dca5e-3adc-4e71-af15-221f3d780726",
   "metadata": {},
   "outputs": [
    {
     "name": "stdin",
     "output_type": "stream",
     "text": [
      "Type a title:  my data on europe\n"
     ]
    }
   ],
   "source": [
    "story_title = input(\"Type a title: \")"
   ]
  },
  {
   "cell_type": "markdown",
   "id": "e1ef6345-5b1a-48d5-a632-8102b1bb5b55",
   "metadata": {},
   "source": [
    "### Type a description for your story"
   ]
  },
  {
   "cell_type": "code",
   "execution_count": 58,
   "id": "57dc5c19-6713-4807-8caf-6c07634cd28e",
   "metadata": {},
   "outputs": [
    {
     "name": "stdin",
     "output_type": "stream",
     "text": [
      "Type a description:  era5 2m temperature in march 2025\n"
     ]
    }
   ],
   "source": [
    "story_description = input(\"Type a description: \")"
   ]
  },
  {
   "cell_type": "code",
   "execution_count": 59,
   "id": "08cd914d-a333-45de-b275-503b59381a28",
   "metadata": {
    "scrolled": true
   },
   "outputs": [
    {
     "name": "stdout",
     "output_type": "stream",
     "text": [
      "Story created succesfully!\n",
      "You can edit your story at the following URL: http://dea.destine.eu/web/stories/editor/68421a5bb62b202b54f093cc\n"
     ]
    }
   ],
   "source": [
    "\n",
    "\n",
    "story_url = \"api/userStories\"\n",
    "new_url = urllib.parse.urljoin(dea_base_url, story_url)\n",
    "story_editor_url = urllib.parse.urljoin(dea_base_url, 'web/stories')\n",
    "\n",
    "# load the sample json template for API request body \n",
    "with open('data.json', 'r') as file:\n",
    "    payload = json.load(file)\n",
    "\n",
    "if story_title is not None:\n",
    "    payload['title'] = story_title\n",
    "\n",
    "if story_description is not None:\n",
    "    payload['description'] = story_description\n",
    "    \n",
    "# replace tags in the JSON file with the proper asset's metadata\n",
    "payload_string = json.dumps(payload)\n",
    "payload_string = payload_string.replace('\"<bytes>\"', f'{numbytes}')\n",
    "payload_string = payload_string.replace('<userid>', userid)\n",
    "payload_string = payload_string.replace('<my_asset>', output_cog_web_optimized)\n",
    "payload_string = payload_string.replace('<assetId>', assetId)\n",
    "\n",
    "payload = json.dumps(json.loads(payload_string))\n",
    "\n",
    "\n",
    "\n",
    "\n",
    "headers = {\n",
    "  'Content-Type': 'application/json',\n",
    "  'Authorization': f'Bearer {token_dea}'\n",
    "}\n",
    "\n",
    "res = requests.request(\"POST\", new_url, headers=headers, data=payload)\n",
    "res_data = None\n",
    "storyId = '' \n",
    "story_editor_id_url = f'{story_editor_url}/editor/'\n",
    "\n",
    "if res.status_code == 201:\n",
    "    print('Story created succesfully!')\n",
    "    res_data = res.json()\n",
    "    storyId = res_data['_id']\n",
    "    story_editor_id_url = f'{story_editor_url}/editor/{storyId}'\n",
    "    print(f'You can edit your story at the following URL: {story_editor_id_url}')\n",
    "\n",
    "else:\n",
    "    print('Failed to create story') \n",
    "    print(res.status_code)\n",
    "    print(res.reason)\n"
   ]
  },
  {
   "cell_type": "markdown",
   "id": "123145fd-73b9-4cfc-a369-7f18aea665fc",
   "metadata": {},
   "source": [
    "## Your story has been created!\n",
    "\n",
    "You can now continue to write your story from the [DEA Story Editor](https://dea.destine.eu/web/stories/editor).\n",
    "\n",
    "Your story should look like the picture below:\n",
    "\n",
    " ![alt text](./new_story.png \"Your new story\")\n",
    "\n",
    "You need to authenticate on the DestinE Platform to edit your story.\n",
    "\n",
    " ![alt text](./cover.png \"DEA\")"
   ]
  },
  {
   "cell_type": "code",
   "execution_count": null,
   "id": "2b5f66e9-6f47-4ada-802a-bad4ea2e7875",
   "metadata": {},
   "outputs": [],
   "source": []
  }
 ],
 "metadata": {
  "kernelspec": {
   "display_name": "Python 3 (ipykernel)",
   "language": "python",
   "name": "python3"
  },
  "language_info": {
   "codemirror_mode": {
    "name": "ipython",
    "version": 3
   },
   "file_extension": ".py",
   "mimetype": "text/x-python",
   "name": "python",
   "nbconvert_exporter": "python",
   "pygments_lexer": "ipython3",
   "version": "3.11.9"
  }
 },
 "nbformat": 4,
 "nbformat_minor": 5
}
