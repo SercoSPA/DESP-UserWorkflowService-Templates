{
 "cells": [
  {
   "cell_type": "markdown",
   "id": "089adc3f-943e-4b49-bc45-9e11c737b579",
   "metadata": {},
   "source": [
    "# How to access LUMI's Extremes Digital Twin data using earthkit and the Polytope API\n",
    "\n",
    "This document serves as a guide for utilizing the [earthkit](https://earthkit.readthedocs.io/en/latest/) library to extract DestinE data stored in [LUMI](https://www.lumi-supercomputer.eu/lumi-selected-as-a-platform-for-destination-earths-climate-change-adaptation-digital-twin/)  and subsequently visualize it using plots. Earthkit functions as a set of tools specifically designed for working with geospatial data, while LUMI represents a data storage and computation facility. DestinE data will be retrieved from LUMI through the earthkit library's functionalities. Following the data extraction, the document will provide instructions on how to generate plots to visually represent the DestinE data.\n",
    "\n",
    "[Polytope](https://polytope.ecmwf.int/openapi/), an API offered by the European Centre for Medium-Range Weather Forecasts (ECMWF) is leveraged through earthkit to achieve this goal. "
   ]
  },
  {
   "cell_type": "markdown",
   "id": "17c2365e-b43b-4374-a7a5-546c7622622a",
   "metadata": {},
   "source": [
    "## What you will learn\n",
    "* How to access and preview the dataset\n",
    "* How to select the data\n",
    "* How to plot the results"
   ]
  },
  {
   "cell_type": "markdown",
   "id": "a44eafad-eb93-475f-9824-521473c00bb7",
   "metadata": {},
   "source": [
    "## Prerequisites\n",
    "### DestinE Platform Credentials\n",
    "\n",
    "You need to have an account on the [Destination Earth Platform](https://auth.destine.eu/realms/desp/account).\n",
    "\n",
    "#### ⚠️ Warning: Authorized Access Only\n",
    "The usage of this notebook and data access is reserved only to authorized user groups."
   ]
  },
  {
   "cell_type": "code",
   "execution_count": null,
   "id": "d6a6a5ae",
   "metadata": {},
   "outputs": [],
   "source": [
    "%%capture cap\n",
    "%run ./desp-authentication.py"
   ]
  },
  {
   "cell_type": "code",
   "execution_count": null,
   "id": "3749ea37",
   "metadata": {},
   "outputs": [],
   "source": [
    "output_1 = cap.stdout.split('}\\n')\n",
    "token = output_1[-1][0:-1]\n",
    "print(token)"
   ]
  },
  {
   "cell_type": "markdown",
   "id": "9246532a-bb5f-4770-9bc2-e6a58c53b5c2",
   "metadata": {},
   "source": [
    "## Accessing and visualising the data\n",
    "\n",
    "You can verify the correct installation of `cfgrib` package. Open the terminal window in the Jupyter environment and run the command:\n",
    "```\n",
    "python -m cfgrib selfcheck\n",
    "```\n",
    "This should give:\n",
    "```\n",
    "Found: ecCodes v2.34.1.\n",
    "Your system is ready.\n",
    "```"
   ]
  },
  {
   "cell_type": "code",
   "execution_count": null,
   "id": "b2827834-1bcf-4958-83b4-c3a6b9a70275",
   "metadata": {},
   "outputs": [],
   "source": [
    "import earthkit.data\n",
    "import earthkit.maps\n",
    "import earthkit.regrid\n",
    "\n",
    "request = {\n",
    "    'activity': 'ScenarioMIP',\n",
    "    'class': 'd1',\n",
    "    'dataset': 'climate-dt',\n",
    "    'date': '20200102',\n",
    "    'experiment': 'SSP3-7.0',\n",
    "    'expver': '0001',\n",
    "    'generation': '1',\n",
    "    'levtype': 'sfc',\n",
    "    'model': 'IFS-NEMO',\n",
    "    'param': '134/165/166',\n",
    "    'realization': '1',\n",
    "    'resolution': 'standard',\n",
    "    'stream': 'clte',\n",
    "    'time': '0100', # '0100/0200/0300/0400/0500/0600'\n",
    "    'type': 'fc'\n",
    "}\n",
    "\n",
    "#data is an earthkit streaming object but with stream=False will download data immediately \n",
    "data = earthkit.data.from_source(\"polytope\", \"destination-earth\", request, address=\"polytope.lumi.apps.dte.destination-earth.eu\", stream=False)"
   ]
  },
  {
   "cell_type": "code",
   "execution_count": 2,
   "id": "8dda5181-a86f-4eb8-b3aa-9cfc05a0e51a",
   "metadata": {},
   "outputs": [],
   "source": [
    "data.ls()"
   ]
  },
  {
   "cell_type": "code",
   "execution_count": null,
   "id": "f0fc7f0b",
   "metadata": {},
   "outputs": [],
   "source": [
    "earthkit.maps.quickplot(data[0])"
   ]
  }
 ],
 "metadata": {
  "kernelspec": {
   "display_name": "Python 3 (ipykernel)",
   "language": "python",
   "name": "python3"
  },
  "language_info": {
   "codemirror_mode": {
    "name": "ipython",
    "version": 3
   },
   "file_extension": ".py",
   "mimetype": "text/x-python",
   "name": "python",
   "nbconvert_exporter": "python",
   "pygments_lexer": "ipython3",
   "version": "3.11.8"
  }
 },
 "nbformat": 4,
 "nbformat_minor": 5
}
